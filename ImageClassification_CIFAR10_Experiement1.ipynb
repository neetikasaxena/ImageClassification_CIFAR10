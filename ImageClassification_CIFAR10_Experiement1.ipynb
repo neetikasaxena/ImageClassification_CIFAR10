{
  "nbformat": 4,
  "nbformat_minor": 0,
  "metadata": {
    "accelerator": "GPU",
    "colab": {
      "name": "Neetika_Assignment5_Answer2.ipynb",
      "provenance": [],
      "collapsed_sections": [],
      "toc_visible": true
    },
    "kernelspec": {
      "display_name": "Python 3",
      "name": "python3"
    },
    "language_info": {
      "name": "python"
    },
    "widgets": {
      "application/vnd.jupyter.widget-state+json": {
        "5ccbed4bce564c5184590c721009514a": {
          "model_module": "@jupyter-widgets/controls",
          "model_name": "VBoxModel",
          "model_module_version": "1.5.0",
          "state": {
            "_dom_classes": [],
            "_model_module": "@jupyter-widgets/controls",
            "_model_module_version": "1.5.0",
            "_model_name": "VBoxModel",
            "_view_count": null,
            "_view_module": "@jupyter-widgets/controls",
            "_view_module_version": "1.5.0",
            "_view_name": "VBoxView",
            "box_style": "",
            "children": [
              "IPY_MODEL_a0cc6892ae914c4594f6ffa694cd3967",
              "IPY_MODEL_6bf32e8ea5dd48ec947f2597c68edc1e"
            ],
            "layout": "IPY_MODEL_7cd476c1adae447f900c98d95f795122"
          }
        },
        "a0cc6892ae914c4594f6ffa694cd3967": {
          "model_module": "@jupyter-widgets/controls",
          "model_name": "LabelModel",
          "model_module_version": "1.5.0",
          "state": {
            "_dom_classes": [],
            "_model_module": "@jupyter-widgets/controls",
            "_model_module_version": "1.5.0",
            "_model_name": "LabelModel",
            "_view_count": null,
            "_view_module": "@jupyter-widgets/controls",
            "_view_module_version": "1.5.0",
            "_view_name": "LabelView",
            "description": "",
            "description_tooltip": null,
            "layout": "IPY_MODEL_a7e7733a5cfb436496f27b27fcfc1a94",
            "placeholder": "​",
            "style": "IPY_MODEL_f9736422baa448618b87eee21a4db7d1",
            "value": " 0.08MB of 0.08MB uploaded (0.00MB deduped)\r"
          }
        },
        "6bf32e8ea5dd48ec947f2597c68edc1e": {
          "model_module": "@jupyter-widgets/controls",
          "model_name": "FloatProgressModel",
          "model_module_version": "1.5.0",
          "state": {
            "_dom_classes": [],
            "_model_module": "@jupyter-widgets/controls",
            "_model_module_version": "1.5.0",
            "_model_name": "FloatProgressModel",
            "_view_count": null,
            "_view_module": "@jupyter-widgets/controls",
            "_view_module_version": "1.5.0",
            "_view_name": "ProgressView",
            "bar_style": "",
            "description": "",
            "description_tooltip": null,
            "layout": "IPY_MODEL_5f80cd85cc4c493eabe228ebbf5198ea",
            "max": 1,
            "min": 0,
            "orientation": "horizontal",
            "style": "IPY_MODEL_0edc54e3cefc467b806976a6764fa7c5",
            "value": 1
          }
        },
        "7cd476c1adae447f900c98d95f795122": {
          "model_module": "@jupyter-widgets/base",
          "model_name": "LayoutModel",
          "model_module_version": "1.2.0",
          "state": {
            "_model_module": "@jupyter-widgets/base",
            "_model_module_version": "1.2.0",
            "_model_name": "LayoutModel",
            "_view_count": null,
            "_view_module": "@jupyter-widgets/base",
            "_view_module_version": "1.2.0",
            "_view_name": "LayoutView",
            "align_content": null,
            "align_items": null,
            "align_self": null,
            "border": null,
            "bottom": null,
            "display": null,
            "flex": null,
            "flex_flow": null,
            "grid_area": null,
            "grid_auto_columns": null,
            "grid_auto_flow": null,
            "grid_auto_rows": null,
            "grid_column": null,
            "grid_gap": null,
            "grid_row": null,
            "grid_template_areas": null,
            "grid_template_columns": null,
            "grid_template_rows": null,
            "height": null,
            "justify_content": null,
            "justify_items": null,
            "left": null,
            "margin": null,
            "max_height": null,
            "max_width": null,
            "min_height": null,
            "min_width": null,
            "object_fit": null,
            "object_position": null,
            "order": null,
            "overflow": null,
            "overflow_x": null,
            "overflow_y": null,
            "padding": null,
            "right": null,
            "top": null,
            "visibility": null,
            "width": null
          }
        },
        "a7e7733a5cfb436496f27b27fcfc1a94": {
          "model_module": "@jupyter-widgets/base",
          "model_name": "LayoutModel",
          "model_module_version": "1.2.0",
          "state": {
            "_model_module": "@jupyter-widgets/base",
            "_model_module_version": "1.2.0",
            "_model_name": "LayoutModel",
            "_view_count": null,
            "_view_module": "@jupyter-widgets/base",
            "_view_module_version": "1.2.0",
            "_view_name": "LayoutView",
            "align_content": null,
            "align_items": null,
            "align_self": null,
            "border": null,
            "bottom": null,
            "display": null,
            "flex": null,
            "flex_flow": null,
            "grid_area": null,
            "grid_auto_columns": null,
            "grid_auto_flow": null,
            "grid_auto_rows": null,
            "grid_column": null,
            "grid_gap": null,
            "grid_row": null,
            "grid_template_areas": null,
            "grid_template_columns": null,
            "grid_template_rows": null,
            "height": null,
            "justify_content": null,
            "justify_items": null,
            "left": null,
            "margin": null,
            "max_height": null,
            "max_width": null,
            "min_height": null,
            "min_width": null,
            "object_fit": null,
            "object_position": null,
            "order": null,
            "overflow": null,
            "overflow_x": null,
            "overflow_y": null,
            "padding": null,
            "right": null,
            "top": null,
            "visibility": null,
            "width": null
          }
        },
        "f9736422baa448618b87eee21a4db7d1": {
          "model_module": "@jupyter-widgets/controls",
          "model_name": "DescriptionStyleModel",
          "model_module_version": "1.5.0",
          "state": {
            "_model_module": "@jupyter-widgets/controls",
            "_model_module_version": "1.5.0",
            "_model_name": "DescriptionStyleModel",
            "_view_count": null,
            "_view_module": "@jupyter-widgets/base",
            "_view_module_version": "1.2.0",
            "_view_name": "StyleView",
            "description_width": ""
          }
        },
        "5f80cd85cc4c493eabe228ebbf5198ea": {
          "model_module": "@jupyter-widgets/base",
          "model_name": "LayoutModel",
          "model_module_version": "1.2.0",
          "state": {
            "_model_module": "@jupyter-widgets/base",
            "_model_module_version": "1.2.0",
            "_model_name": "LayoutModel",
            "_view_count": null,
            "_view_module": "@jupyter-widgets/base",
            "_view_module_version": "1.2.0",
            "_view_name": "LayoutView",
            "align_content": null,
            "align_items": null,
            "align_self": null,
            "border": null,
            "bottom": null,
            "display": null,
            "flex": null,
            "flex_flow": null,
            "grid_area": null,
            "grid_auto_columns": null,
            "grid_auto_flow": null,
            "grid_auto_rows": null,
            "grid_column": null,
            "grid_gap": null,
            "grid_row": null,
            "grid_template_areas": null,
            "grid_template_columns": null,
            "grid_template_rows": null,
            "height": null,
            "justify_content": null,
            "justify_items": null,
            "left": null,
            "margin": null,
            "max_height": null,
            "max_width": null,
            "min_height": null,
            "min_width": null,
            "object_fit": null,
            "object_position": null,
            "order": null,
            "overflow": null,
            "overflow_x": null,
            "overflow_y": null,
            "padding": null,
            "right": null,
            "top": null,
            "visibility": null,
            "width": null
          }
        },
        "0edc54e3cefc467b806976a6764fa7c5": {
          "model_module": "@jupyter-widgets/controls",
          "model_name": "ProgressStyleModel",
          "model_module_version": "1.5.0",
          "state": {
            "_model_module": "@jupyter-widgets/controls",
            "_model_module_version": "1.5.0",
            "_model_name": "ProgressStyleModel",
            "_view_count": null,
            "_view_module": "@jupyter-widgets/base",
            "_view_module_version": "1.2.0",
            "_view_name": "StyleView",
            "bar_color": null,
            "description_width": ""
          }
        },
        "cfa9fb43ab2f4fc9b7a6cf1de0e4f34b": {
          "model_module": "@jupyter-widgets/controls",
          "model_name": "VBoxModel",
          "model_module_version": "1.5.0",
          "state": {
            "_dom_classes": [],
            "_model_module": "@jupyter-widgets/controls",
            "_model_module_version": "1.5.0",
            "_model_name": "VBoxModel",
            "_view_count": null,
            "_view_module": "@jupyter-widgets/controls",
            "_view_module_version": "1.5.0",
            "_view_name": "VBoxView",
            "box_style": "",
            "children": [
              "IPY_MODEL_ba143c1a41ac4ff9a15618ae45353737",
              "IPY_MODEL_fa5ee6c9ce284e018c981410b47a692c"
            ],
            "layout": "IPY_MODEL_8349c280120d40da824120f1356f72b2"
          }
        },
        "ba143c1a41ac4ff9a15618ae45353737": {
          "model_module": "@jupyter-widgets/controls",
          "model_name": "LabelModel",
          "model_module_version": "1.5.0",
          "state": {
            "_dom_classes": [],
            "_model_module": "@jupyter-widgets/controls",
            "_model_module_version": "1.5.0",
            "_model_name": "LabelModel",
            "_view_count": null,
            "_view_module": "@jupyter-widgets/controls",
            "_view_module_version": "1.5.0",
            "_view_name": "LabelView",
            "description": "",
            "description_tooltip": null,
            "layout": "IPY_MODEL_80f1fb47a58b4fdc8f3d4c7433968e96",
            "placeholder": "​",
            "style": "IPY_MODEL_006da18ba0db4a05b40dcad1ed875338",
            "value": " 0.07MB of 0.07MB uploaded (0.00MB deduped)\r"
          }
        },
        "fa5ee6c9ce284e018c981410b47a692c": {
          "model_module": "@jupyter-widgets/controls",
          "model_name": "FloatProgressModel",
          "model_module_version": "1.5.0",
          "state": {
            "_dom_classes": [],
            "_model_module": "@jupyter-widgets/controls",
            "_model_module_version": "1.5.0",
            "_model_name": "FloatProgressModel",
            "_view_count": null,
            "_view_module": "@jupyter-widgets/controls",
            "_view_module_version": "1.5.0",
            "_view_name": "ProgressView",
            "bar_style": "",
            "description": "",
            "description_tooltip": null,
            "layout": "IPY_MODEL_9503b71f6aad4fea9334ab40218418de",
            "max": 1,
            "min": 0,
            "orientation": "horizontal",
            "style": "IPY_MODEL_0515647279ae4c61a23d42c7bc1fd2fb",
            "value": 1
          }
        },
        "8349c280120d40da824120f1356f72b2": {
          "model_module": "@jupyter-widgets/base",
          "model_name": "LayoutModel",
          "model_module_version": "1.2.0",
          "state": {
            "_model_module": "@jupyter-widgets/base",
            "_model_module_version": "1.2.0",
            "_model_name": "LayoutModel",
            "_view_count": null,
            "_view_module": "@jupyter-widgets/base",
            "_view_module_version": "1.2.0",
            "_view_name": "LayoutView",
            "align_content": null,
            "align_items": null,
            "align_self": null,
            "border": null,
            "bottom": null,
            "display": null,
            "flex": null,
            "flex_flow": null,
            "grid_area": null,
            "grid_auto_columns": null,
            "grid_auto_flow": null,
            "grid_auto_rows": null,
            "grid_column": null,
            "grid_gap": null,
            "grid_row": null,
            "grid_template_areas": null,
            "grid_template_columns": null,
            "grid_template_rows": null,
            "height": null,
            "justify_content": null,
            "justify_items": null,
            "left": null,
            "margin": null,
            "max_height": null,
            "max_width": null,
            "min_height": null,
            "min_width": null,
            "object_fit": null,
            "object_position": null,
            "order": null,
            "overflow": null,
            "overflow_x": null,
            "overflow_y": null,
            "padding": null,
            "right": null,
            "top": null,
            "visibility": null,
            "width": null
          }
        },
        "80f1fb47a58b4fdc8f3d4c7433968e96": {
          "model_module": "@jupyter-widgets/base",
          "model_name": "LayoutModel",
          "model_module_version": "1.2.0",
          "state": {
            "_model_module": "@jupyter-widgets/base",
            "_model_module_version": "1.2.0",
            "_model_name": "LayoutModel",
            "_view_count": null,
            "_view_module": "@jupyter-widgets/base",
            "_view_module_version": "1.2.0",
            "_view_name": "LayoutView",
            "align_content": null,
            "align_items": null,
            "align_self": null,
            "border": null,
            "bottom": null,
            "display": null,
            "flex": null,
            "flex_flow": null,
            "grid_area": null,
            "grid_auto_columns": null,
            "grid_auto_flow": null,
            "grid_auto_rows": null,
            "grid_column": null,
            "grid_gap": null,
            "grid_row": null,
            "grid_template_areas": null,
            "grid_template_columns": null,
            "grid_template_rows": null,
            "height": null,
            "justify_content": null,
            "justify_items": null,
            "left": null,
            "margin": null,
            "max_height": null,
            "max_width": null,
            "min_height": null,
            "min_width": null,
            "object_fit": null,
            "object_position": null,
            "order": null,
            "overflow": null,
            "overflow_x": null,
            "overflow_y": null,
            "padding": null,
            "right": null,
            "top": null,
            "visibility": null,
            "width": null
          }
        },
        "006da18ba0db4a05b40dcad1ed875338": {
          "model_module": "@jupyter-widgets/controls",
          "model_name": "DescriptionStyleModel",
          "model_module_version": "1.5.0",
          "state": {
            "_model_module": "@jupyter-widgets/controls",
            "_model_module_version": "1.5.0",
            "_model_name": "DescriptionStyleModel",
            "_view_count": null,
            "_view_module": "@jupyter-widgets/base",
            "_view_module_version": "1.2.0",
            "_view_name": "StyleView",
            "description_width": ""
          }
        },
        "9503b71f6aad4fea9334ab40218418de": {
          "model_module": "@jupyter-widgets/base",
          "model_name": "LayoutModel",
          "model_module_version": "1.2.0",
          "state": {
            "_model_module": "@jupyter-widgets/base",
            "_model_module_version": "1.2.0",
            "_model_name": "LayoutModel",
            "_view_count": null,
            "_view_module": "@jupyter-widgets/base",
            "_view_module_version": "1.2.0",
            "_view_name": "LayoutView",
            "align_content": null,
            "align_items": null,
            "align_self": null,
            "border": null,
            "bottom": null,
            "display": null,
            "flex": null,
            "flex_flow": null,
            "grid_area": null,
            "grid_auto_columns": null,
            "grid_auto_flow": null,
            "grid_auto_rows": null,
            "grid_column": null,
            "grid_gap": null,
            "grid_row": null,
            "grid_template_areas": null,
            "grid_template_columns": null,
            "grid_template_rows": null,
            "height": null,
            "justify_content": null,
            "justify_items": null,
            "left": null,
            "margin": null,
            "max_height": null,
            "max_width": null,
            "min_height": null,
            "min_width": null,
            "object_fit": null,
            "object_position": null,
            "order": null,
            "overflow": null,
            "overflow_x": null,
            "overflow_y": null,
            "padding": null,
            "right": null,
            "top": null,
            "visibility": null,
            "width": null
          }
        },
        "0515647279ae4c61a23d42c7bc1fd2fb": {
          "model_module": "@jupyter-widgets/controls",
          "model_name": "ProgressStyleModel",
          "model_module_version": "1.5.0",
          "state": {
            "_model_module": "@jupyter-widgets/controls",
            "_model_module_version": "1.5.0",
            "_model_name": "ProgressStyleModel",
            "_view_count": null,
            "_view_module": "@jupyter-widgets/base",
            "_view_module_version": "1.2.0",
            "_view_name": "StyleView",
            "bar_color": null,
            "description_width": ""
          }
        },
        "e1cc230e8441458ba373376fd575e223": {
          "model_module": "@jupyter-widgets/controls",
          "model_name": "VBoxModel",
          "model_module_version": "1.5.0",
          "state": {
            "_view_name": "VBoxView",
            "_dom_classes": [],
            "_model_name": "VBoxModel",
            "_view_module": "@jupyter-widgets/controls",
            "_model_module_version": "1.5.0",
            "_view_count": null,
            "_view_module_version": "1.5.0",
            "box_style": "",
            "layout": "IPY_MODEL_d868fe0cf1fa4c2282928d64d29decca",
            "_model_module": "@jupyter-widgets/controls",
            "children": [
              "IPY_MODEL_9857e0c6283f4b61bfdf4fa9bea571f6",
              "IPY_MODEL_e17df3a990f445e48fd0d3fc7eb72464"
            ]
          }
        },
        "d868fe0cf1fa4c2282928d64d29decca": {
          "model_module": "@jupyter-widgets/base",
          "model_name": "LayoutModel",
          "model_module_version": "1.2.0",
          "state": {
            "_view_name": "LayoutView",
            "grid_template_rows": null,
            "right": null,
            "justify_content": null,
            "_view_module": "@jupyter-widgets/base",
            "overflow": null,
            "_model_module_version": "1.2.0",
            "_view_count": null,
            "flex_flow": null,
            "width": null,
            "min_width": null,
            "border": null,
            "align_items": null,
            "bottom": null,
            "_model_module": "@jupyter-widgets/base",
            "top": null,
            "grid_column": null,
            "overflow_y": null,
            "overflow_x": null,
            "grid_auto_flow": null,
            "grid_area": null,
            "grid_template_columns": null,
            "flex": null,
            "_model_name": "LayoutModel",
            "justify_items": null,
            "grid_row": null,
            "max_height": null,
            "align_content": null,
            "visibility": null,
            "align_self": null,
            "height": null,
            "min_height": null,
            "padding": null,
            "grid_auto_rows": null,
            "grid_gap": null,
            "max_width": null,
            "order": null,
            "_view_module_version": "1.2.0",
            "grid_template_areas": null,
            "object_position": null,
            "object_fit": null,
            "grid_auto_columns": null,
            "margin": null,
            "display": null,
            "left": null
          }
        },
        "9857e0c6283f4b61bfdf4fa9bea571f6": {
          "model_module": "@jupyter-widgets/controls",
          "model_name": "LabelModel",
          "model_module_version": "1.5.0",
          "state": {
            "_view_name": "LabelView",
            "style": "IPY_MODEL_4025346e5c664724a2eb5c882260de4f",
            "_dom_classes": [],
            "description": "",
            "_model_name": "LabelModel",
            "placeholder": "​",
            "_view_module": "@jupyter-widgets/controls",
            "_model_module_version": "1.5.0",
            "value": " 0.07MB of 0.07MB uploaded (0.00MB deduped)\r",
            "_view_count": null,
            "_view_module_version": "1.5.0",
            "description_tooltip": null,
            "_model_module": "@jupyter-widgets/controls",
            "layout": "IPY_MODEL_c91cead1268142b79653713cf3650a06"
          }
        },
        "e17df3a990f445e48fd0d3fc7eb72464": {
          "model_module": "@jupyter-widgets/controls",
          "model_name": "FloatProgressModel",
          "model_module_version": "1.5.0",
          "state": {
            "_view_name": "ProgressView",
            "style": "IPY_MODEL_01bf0f94942e429aaf58bc9fbec0a35f",
            "_dom_classes": [],
            "description": "",
            "_model_name": "FloatProgressModel",
            "bar_style": "",
            "max": 1,
            "_view_module": "@jupyter-widgets/controls",
            "_model_module_version": "1.5.0",
            "value": 1,
            "_view_count": null,
            "_view_module_version": "1.5.0",
            "orientation": "horizontal",
            "min": 0,
            "description_tooltip": null,
            "_model_module": "@jupyter-widgets/controls",
            "layout": "IPY_MODEL_2386d5c520fa4d58b0efa46d0f43e8e3"
          }
        },
        "4025346e5c664724a2eb5c882260de4f": {
          "model_module": "@jupyter-widgets/controls",
          "model_name": "DescriptionStyleModel",
          "model_module_version": "1.5.0",
          "state": {
            "_view_name": "StyleView",
            "_model_name": "DescriptionStyleModel",
            "description_width": "",
            "_view_module": "@jupyter-widgets/base",
            "_model_module_version": "1.5.0",
            "_view_count": null,
            "_view_module_version": "1.2.0",
            "_model_module": "@jupyter-widgets/controls"
          }
        },
        "c91cead1268142b79653713cf3650a06": {
          "model_module": "@jupyter-widgets/base",
          "model_name": "LayoutModel",
          "model_module_version": "1.2.0",
          "state": {
            "_view_name": "LayoutView",
            "grid_template_rows": null,
            "right": null,
            "justify_content": null,
            "_view_module": "@jupyter-widgets/base",
            "overflow": null,
            "_model_module_version": "1.2.0",
            "_view_count": null,
            "flex_flow": null,
            "width": null,
            "min_width": null,
            "border": null,
            "align_items": null,
            "bottom": null,
            "_model_module": "@jupyter-widgets/base",
            "top": null,
            "grid_column": null,
            "overflow_y": null,
            "overflow_x": null,
            "grid_auto_flow": null,
            "grid_area": null,
            "grid_template_columns": null,
            "flex": null,
            "_model_name": "LayoutModel",
            "justify_items": null,
            "grid_row": null,
            "max_height": null,
            "align_content": null,
            "visibility": null,
            "align_self": null,
            "height": null,
            "min_height": null,
            "padding": null,
            "grid_auto_rows": null,
            "grid_gap": null,
            "max_width": null,
            "order": null,
            "_view_module_version": "1.2.0",
            "grid_template_areas": null,
            "object_position": null,
            "object_fit": null,
            "grid_auto_columns": null,
            "margin": null,
            "display": null,
            "left": null
          }
        },
        "01bf0f94942e429aaf58bc9fbec0a35f": {
          "model_module": "@jupyter-widgets/controls",
          "model_name": "ProgressStyleModel",
          "model_module_version": "1.5.0",
          "state": {
            "_view_name": "StyleView",
            "_model_name": "ProgressStyleModel",
            "description_width": "",
            "_view_module": "@jupyter-widgets/base",
            "_model_module_version": "1.5.0",
            "_view_count": null,
            "_view_module_version": "1.2.0",
            "bar_color": null,
            "_model_module": "@jupyter-widgets/controls"
          }
        },
        "2386d5c520fa4d58b0efa46d0f43e8e3": {
          "model_module": "@jupyter-widgets/base",
          "model_name": "LayoutModel",
          "model_module_version": "1.2.0",
          "state": {
            "_view_name": "LayoutView",
            "grid_template_rows": null,
            "right": null,
            "justify_content": null,
            "_view_module": "@jupyter-widgets/base",
            "overflow": null,
            "_model_module_version": "1.2.0",
            "_view_count": null,
            "flex_flow": null,
            "width": null,
            "min_width": null,
            "border": null,
            "align_items": null,
            "bottom": null,
            "_model_module": "@jupyter-widgets/base",
            "top": null,
            "grid_column": null,
            "overflow_y": null,
            "overflow_x": null,
            "grid_auto_flow": null,
            "grid_area": null,
            "grid_template_columns": null,
            "flex": null,
            "_model_name": "LayoutModel",
            "justify_items": null,
            "grid_row": null,
            "max_height": null,
            "align_content": null,
            "visibility": null,
            "align_self": null,
            "height": null,
            "min_height": null,
            "padding": null,
            "grid_auto_rows": null,
            "grid_gap": null,
            "max_width": null,
            "order": null,
            "_view_module_version": "1.2.0",
            "grid_template_areas": null,
            "object_position": null,
            "object_fit": null,
            "grid_auto_columns": null,
            "margin": null,
            "display": null,
            "left": null
          }
        },
        "f575ebe8f9014868ab7558d3a3fc8c09": {
          "model_module": "@jupyter-widgets/controls",
          "model_name": "VBoxModel",
          "model_module_version": "1.5.0",
          "state": {
            "_view_name": "VBoxView",
            "_dom_classes": [],
            "_model_name": "VBoxModel",
            "_view_module": "@jupyter-widgets/controls",
            "_model_module_version": "1.5.0",
            "_view_count": null,
            "_view_module_version": "1.5.0",
            "box_style": "",
            "layout": "IPY_MODEL_df15341d21e54f1e857ab307b22c6fb2",
            "_model_module": "@jupyter-widgets/controls",
            "children": [
              "IPY_MODEL_2bdd5c48d66c46b69d933f0922bc3f18",
              "IPY_MODEL_22a3852c641948f9b75d7e76dd33b53c"
            ]
          }
        },
        "df15341d21e54f1e857ab307b22c6fb2": {
          "model_module": "@jupyter-widgets/base",
          "model_name": "LayoutModel",
          "model_module_version": "1.2.0",
          "state": {
            "_view_name": "LayoutView",
            "grid_template_rows": null,
            "right": null,
            "justify_content": null,
            "_view_module": "@jupyter-widgets/base",
            "overflow": null,
            "_model_module_version": "1.2.0",
            "_view_count": null,
            "flex_flow": null,
            "width": null,
            "min_width": null,
            "border": null,
            "align_items": null,
            "bottom": null,
            "_model_module": "@jupyter-widgets/base",
            "top": null,
            "grid_column": null,
            "overflow_y": null,
            "overflow_x": null,
            "grid_auto_flow": null,
            "grid_area": null,
            "grid_template_columns": null,
            "flex": null,
            "_model_name": "LayoutModel",
            "justify_items": null,
            "grid_row": null,
            "max_height": null,
            "align_content": null,
            "visibility": null,
            "align_self": null,
            "height": null,
            "min_height": null,
            "padding": null,
            "grid_auto_rows": null,
            "grid_gap": null,
            "max_width": null,
            "order": null,
            "_view_module_version": "1.2.0",
            "grid_template_areas": null,
            "object_position": null,
            "object_fit": null,
            "grid_auto_columns": null,
            "margin": null,
            "display": null,
            "left": null
          }
        },
        "2bdd5c48d66c46b69d933f0922bc3f18": {
          "model_module": "@jupyter-widgets/controls",
          "model_name": "LabelModel",
          "model_module_version": "1.5.0",
          "state": {
            "_view_name": "LabelView",
            "style": "IPY_MODEL_0fd025613a434f078309f15de57b1fa0",
            "_dom_classes": [],
            "description": "",
            "_model_name": "LabelModel",
            "placeholder": "​",
            "_view_module": "@jupyter-widgets/controls",
            "_model_module_version": "1.5.0",
            "value": " 0.06MB of 0.06MB uploaded (0.00MB deduped)\r",
            "_view_count": null,
            "_view_module_version": "1.5.0",
            "description_tooltip": null,
            "_model_module": "@jupyter-widgets/controls",
            "layout": "IPY_MODEL_898ffa12f4eb4a7eb4b77bfca148d2b1"
          }
        },
        "22a3852c641948f9b75d7e76dd33b53c": {
          "model_module": "@jupyter-widgets/controls",
          "model_name": "FloatProgressModel",
          "model_module_version": "1.5.0",
          "state": {
            "_view_name": "ProgressView",
            "style": "IPY_MODEL_2e392ce34f9240e78e9fc1258b4f781e",
            "_dom_classes": [],
            "description": "",
            "_model_name": "FloatProgressModel",
            "bar_style": "",
            "max": 1,
            "_view_module": "@jupyter-widgets/controls",
            "_model_module_version": "1.5.0",
            "value": 1,
            "_view_count": null,
            "_view_module_version": "1.5.0",
            "orientation": "horizontal",
            "min": 0,
            "description_tooltip": null,
            "_model_module": "@jupyter-widgets/controls",
            "layout": "IPY_MODEL_247b1c3a5ef846c6af0844c1c64f0371"
          }
        },
        "0fd025613a434f078309f15de57b1fa0": {
          "model_module": "@jupyter-widgets/controls",
          "model_name": "DescriptionStyleModel",
          "model_module_version": "1.5.0",
          "state": {
            "_view_name": "StyleView",
            "_model_name": "DescriptionStyleModel",
            "description_width": "",
            "_view_module": "@jupyter-widgets/base",
            "_model_module_version": "1.5.0",
            "_view_count": null,
            "_view_module_version": "1.2.0",
            "_model_module": "@jupyter-widgets/controls"
          }
        },
        "898ffa12f4eb4a7eb4b77bfca148d2b1": {
          "model_module": "@jupyter-widgets/base",
          "model_name": "LayoutModel",
          "model_module_version": "1.2.0",
          "state": {
            "_view_name": "LayoutView",
            "grid_template_rows": null,
            "right": null,
            "justify_content": null,
            "_view_module": "@jupyter-widgets/base",
            "overflow": null,
            "_model_module_version": "1.2.0",
            "_view_count": null,
            "flex_flow": null,
            "width": null,
            "min_width": null,
            "border": null,
            "align_items": null,
            "bottom": null,
            "_model_module": "@jupyter-widgets/base",
            "top": null,
            "grid_column": null,
            "overflow_y": null,
            "overflow_x": null,
            "grid_auto_flow": null,
            "grid_area": null,
            "grid_template_columns": null,
            "flex": null,
            "_model_name": "LayoutModel",
            "justify_items": null,
            "grid_row": null,
            "max_height": null,
            "align_content": null,
            "visibility": null,
            "align_self": null,
            "height": null,
            "min_height": null,
            "padding": null,
            "grid_auto_rows": null,
            "grid_gap": null,
            "max_width": null,
            "order": null,
            "_view_module_version": "1.2.0",
            "grid_template_areas": null,
            "object_position": null,
            "object_fit": null,
            "grid_auto_columns": null,
            "margin": null,
            "display": null,
            "left": null
          }
        },
        "2e392ce34f9240e78e9fc1258b4f781e": {
          "model_module": "@jupyter-widgets/controls",
          "model_name": "ProgressStyleModel",
          "model_module_version": "1.5.0",
          "state": {
            "_view_name": "StyleView",
            "_model_name": "ProgressStyleModel",
            "description_width": "",
            "_view_module": "@jupyter-widgets/base",
            "_model_module_version": "1.5.0",
            "_view_count": null,
            "_view_module_version": "1.2.0",
            "bar_color": null,
            "_model_module": "@jupyter-widgets/controls"
          }
        },
        "247b1c3a5ef846c6af0844c1c64f0371": {
          "model_module": "@jupyter-widgets/base",
          "model_name": "LayoutModel",
          "model_module_version": "1.2.0",
          "state": {
            "_view_name": "LayoutView",
            "grid_template_rows": null,
            "right": null,
            "justify_content": null,
            "_view_module": "@jupyter-widgets/base",
            "overflow": null,
            "_model_module_version": "1.2.0",
            "_view_count": null,
            "flex_flow": null,
            "width": null,
            "min_width": null,
            "border": null,
            "align_items": null,
            "bottom": null,
            "_model_module": "@jupyter-widgets/base",
            "top": null,
            "grid_column": null,
            "overflow_y": null,
            "overflow_x": null,
            "grid_auto_flow": null,
            "grid_area": null,
            "grid_template_columns": null,
            "flex": null,
            "_model_name": "LayoutModel",
            "justify_items": null,
            "grid_row": null,
            "max_height": null,
            "align_content": null,
            "visibility": null,
            "align_self": null,
            "height": null,
            "min_height": null,
            "padding": null,
            "grid_auto_rows": null,
            "grid_gap": null,
            "max_width": null,
            "order": null,
            "_view_module_version": "1.2.0",
            "grid_template_areas": null,
            "object_position": null,
            "object_fit": null,
            "grid_auto_columns": null,
            "margin": null,
            "display": null,
            "left": null
          }
        },
        "33d3cc5b769f4c40b552b4a76a4ec84e": {
          "model_module": "@jupyter-widgets/controls",
          "model_name": "VBoxModel",
          "model_module_version": "1.5.0",
          "state": {
            "_view_name": "VBoxView",
            "_dom_classes": [],
            "_model_name": "VBoxModel",
            "_view_module": "@jupyter-widgets/controls",
            "_model_module_version": "1.5.0",
            "_view_count": null,
            "_view_module_version": "1.5.0",
            "box_style": "",
            "layout": "IPY_MODEL_14399c1bbcda42309f057354b41aef61",
            "_model_module": "@jupyter-widgets/controls",
            "children": [
              "IPY_MODEL_83bf2d10b78e476c958bea04936c5414",
              "IPY_MODEL_5db2725243c0459cacde726820270e32"
            ]
          }
        },
        "14399c1bbcda42309f057354b41aef61": {
          "model_module": "@jupyter-widgets/base",
          "model_name": "LayoutModel",
          "model_module_version": "1.2.0",
          "state": {
            "_view_name": "LayoutView",
            "grid_template_rows": null,
            "right": null,
            "justify_content": null,
            "_view_module": "@jupyter-widgets/base",
            "overflow": null,
            "_model_module_version": "1.2.0",
            "_view_count": null,
            "flex_flow": null,
            "width": null,
            "min_width": null,
            "border": null,
            "align_items": null,
            "bottom": null,
            "_model_module": "@jupyter-widgets/base",
            "top": null,
            "grid_column": null,
            "overflow_y": null,
            "overflow_x": null,
            "grid_auto_flow": null,
            "grid_area": null,
            "grid_template_columns": null,
            "flex": null,
            "_model_name": "LayoutModel",
            "justify_items": null,
            "grid_row": null,
            "max_height": null,
            "align_content": null,
            "visibility": null,
            "align_self": null,
            "height": null,
            "min_height": null,
            "padding": null,
            "grid_auto_rows": null,
            "grid_gap": null,
            "max_width": null,
            "order": null,
            "_view_module_version": "1.2.0",
            "grid_template_areas": null,
            "object_position": null,
            "object_fit": null,
            "grid_auto_columns": null,
            "margin": null,
            "display": null,
            "left": null
          }
        },
        "83bf2d10b78e476c958bea04936c5414": {
          "model_module": "@jupyter-widgets/controls",
          "model_name": "LabelModel",
          "model_module_version": "1.5.0",
          "state": {
            "_view_name": "LabelView",
            "style": "IPY_MODEL_c9c906b07b6b47b383581e47927ac333",
            "_dom_classes": [],
            "description": "",
            "_model_name": "LabelModel",
            "placeholder": "​",
            "_view_module": "@jupyter-widgets/controls",
            "_model_module_version": "1.5.0",
            "value": " 0.08MB of 0.08MB uploaded (0.00MB deduped)\r",
            "_view_count": null,
            "_view_module_version": "1.5.0",
            "description_tooltip": null,
            "_model_module": "@jupyter-widgets/controls",
            "layout": "IPY_MODEL_4a45b5e7a6e1481a9f08004f6d06e25c"
          }
        },
        "5db2725243c0459cacde726820270e32": {
          "model_module": "@jupyter-widgets/controls",
          "model_name": "FloatProgressModel",
          "model_module_version": "1.5.0",
          "state": {
            "_view_name": "ProgressView",
            "style": "IPY_MODEL_275d16342bd841cba31f4c08d091de4b",
            "_dom_classes": [],
            "description": "",
            "_model_name": "FloatProgressModel",
            "bar_style": "",
            "max": 1,
            "_view_module": "@jupyter-widgets/controls",
            "_model_module_version": "1.5.0",
            "value": 1,
            "_view_count": null,
            "_view_module_version": "1.5.0",
            "orientation": "horizontal",
            "min": 0,
            "description_tooltip": null,
            "_model_module": "@jupyter-widgets/controls",
            "layout": "IPY_MODEL_063de279b7be47f5a563e9f0aee21de0"
          }
        },
        "c9c906b07b6b47b383581e47927ac333": {
          "model_module": "@jupyter-widgets/controls",
          "model_name": "DescriptionStyleModel",
          "model_module_version": "1.5.0",
          "state": {
            "_view_name": "StyleView",
            "_model_name": "DescriptionStyleModel",
            "description_width": "",
            "_view_module": "@jupyter-widgets/base",
            "_model_module_version": "1.5.0",
            "_view_count": null,
            "_view_module_version": "1.2.0",
            "_model_module": "@jupyter-widgets/controls"
          }
        },
        "4a45b5e7a6e1481a9f08004f6d06e25c": {
          "model_module": "@jupyter-widgets/base",
          "model_name": "LayoutModel",
          "model_module_version": "1.2.0",
          "state": {
            "_view_name": "LayoutView",
            "grid_template_rows": null,
            "right": null,
            "justify_content": null,
            "_view_module": "@jupyter-widgets/base",
            "overflow": null,
            "_model_module_version": "1.2.0",
            "_view_count": null,
            "flex_flow": null,
            "width": null,
            "min_width": null,
            "border": null,
            "align_items": null,
            "bottom": null,
            "_model_module": "@jupyter-widgets/base",
            "top": null,
            "grid_column": null,
            "overflow_y": null,
            "overflow_x": null,
            "grid_auto_flow": null,
            "grid_area": null,
            "grid_template_columns": null,
            "flex": null,
            "_model_name": "LayoutModel",
            "justify_items": null,
            "grid_row": null,
            "max_height": null,
            "align_content": null,
            "visibility": null,
            "align_self": null,
            "height": null,
            "min_height": null,
            "padding": null,
            "grid_auto_rows": null,
            "grid_gap": null,
            "max_width": null,
            "order": null,
            "_view_module_version": "1.2.0",
            "grid_template_areas": null,
            "object_position": null,
            "object_fit": null,
            "grid_auto_columns": null,
            "margin": null,
            "display": null,
            "left": null
          }
        },
        "275d16342bd841cba31f4c08d091de4b": {
          "model_module": "@jupyter-widgets/controls",
          "model_name": "ProgressStyleModel",
          "model_module_version": "1.5.0",
          "state": {
            "_view_name": "StyleView",
            "_model_name": "ProgressStyleModel",
            "description_width": "",
            "_view_module": "@jupyter-widgets/base",
            "_model_module_version": "1.5.0",
            "_view_count": null,
            "_view_module_version": "1.2.0",
            "bar_color": null,
            "_model_module": "@jupyter-widgets/controls"
          }
        },
        "063de279b7be47f5a563e9f0aee21de0": {
          "model_module": "@jupyter-widgets/base",
          "model_name": "LayoutModel",
          "model_module_version": "1.2.0",
          "state": {
            "_view_name": "LayoutView",
            "grid_template_rows": null,
            "right": null,
            "justify_content": null,
            "_view_module": "@jupyter-widgets/base",
            "overflow": null,
            "_model_module_version": "1.2.0",
            "_view_count": null,
            "flex_flow": null,
            "width": null,
            "min_width": null,
            "border": null,
            "align_items": null,
            "bottom": null,
            "_model_module": "@jupyter-widgets/base",
            "top": null,
            "grid_column": null,
            "overflow_y": null,
            "overflow_x": null,
            "grid_auto_flow": null,
            "grid_area": null,
            "grid_template_columns": null,
            "flex": null,
            "_model_name": "LayoutModel",
            "justify_items": null,
            "grid_row": null,
            "max_height": null,
            "align_content": null,
            "visibility": null,
            "align_self": null,
            "height": null,
            "min_height": null,
            "padding": null,
            "grid_auto_rows": null,
            "grid_gap": null,
            "max_width": null,
            "order": null,
            "_view_module_version": "1.2.0",
            "grid_template_areas": null,
            "object_position": null,
            "object_fit": null,
            "grid_auto_columns": null,
            "margin": null,
            "display": null,
            "left": null
          }
        },
        "3a6c2a6e290345e680f5af84a4295413": {
          "model_module": "@jupyter-widgets/controls",
          "model_name": "VBoxModel",
          "model_module_version": "1.5.0",
          "state": {
            "_view_name": "VBoxView",
            "_dom_classes": [],
            "_model_name": "VBoxModel",
            "_view_module": "@jupyter-widgets/controls",
            "_model_module_version": "1.5.0",
            "_view_count": null,
            "_view_module_version": "1.5.0",
            "box_style": "",
            "layout": "IPY_MODEL_177c6382716840d29ef8e371b4508ba7",
            "_model_module": "@jupyter-widgets/controls",
            "children": [
              "IPY_MODEL_96442d70d1324ee98e2c897157838b38",
              "IPY_MODEL_a14d73cb960a46dfb27f53ca3b58c1cf"
            ]
          }
        },
        "177c6382716840d29ef8e371b4508ba7": {
          "model_module": "@jupyter-widgets/base",
          "model_name": "LayoutModel",
          "model_module_version": "1.2.0",
          "state": {
            "_view_name": "LayoutView",
            "grid_template_rows": null,
            "right": null,
            "justify_content": null,
            "_view_module": "@jupyter-widgets/base",
            "overflow": null,
            "_model_module_version": "1.2.0",
            "_view_count": null,
            "flex_flow": null,
            "width": null,
            "min_width": null,
            "border": null,
            "align_items": null,
            "bottom": null,
            "_model_module": "@jupyter-widgets/base",
            "top": null,
            "grid_column": null,
            "overflow_y": null,
            "overflow_x": null,
            "grid_auto_flow": null,
            "grid_area": null,
            "grid_template_columns": null,
            "flex": null,
            "_model_name": "LayoutModel",
            "justify_items": null,
            "grid_row": null,
            "max_height": null,
            "align_content": null,
            "visibility": null,
            "align_self": null,
            "height": null,
            "min_height": null,
            "padding": null,
            "grid_auto_rows": null,
            "grid_gap": null,
            "max_width": null,
            "order": null,
            "_view_module_version": "1.2.0",
            "grid_template_areas": null,
            "object_position": null,
            "object_fit": null,
            "grid_auto_columns": null,
            "margin": null,
            "display": null,
            "left": null
          }
        },
        "96442d70d1324ee98e2c897157838b38": {
          "model_module": "@jupyter-widgets/controls",
          "model_name": "LabelModel",
          "model_module_version": "1.5.0",
          "state": {
            "_view_name": "LabelView",
            "style": "IPY_MODEL_1dc7102ab842459eb77c3ef49617cfc6",
            "_dom_classes": [],
            "description": "",
            "_model_name": "LabelModel",
            "placeholder": "​",
            "_view_module": "@jupyter-widgets/controls",
            "_model_module_version": "1.5.0",
            "value": " 0.08MB of 0.08MB uploaded (0.00MB deduped)\r",
            "_view_count": null,
            "_view_module_version": "1.5.0",
            "description_tooltip": null,
            "_model_module": "@jupyter-widgets/controls",
            "layout": "IPY_MODEL_63a91b6f967c4f78aa6a0b2efecc1a2a"
          }
        },
        "a14d73cb960a46dfb27f53ca3b58c1cf": {
          "model_module": "@jupyter-widgets/controls",
          "model_name": "FloatProgressModel",
          "model_module_version": "1.5.0",
          "state": {
            "_view_name": "ProgressView",
            "style": "IPY_MODEL_4068fcd8151b4550b0b7a9bb046218d6",
            "_dom_classes": [],
            "description": "",
            "_model_name": "FloatProgressModel",
            "bar_style": "",
            "max": 1,
            "_view_module": "@jupyter-widgets/controls",
            "_model_module_version": "1.5.0",
            "value": 1,
            "_view_count": null,
            "_view_module_version": "1.5.0",
            "orientation": "horizontal",
            "min": 0,
            "description_tooltip": null,
            "_model_module": "@jupyter-widgets/controls",
            "layout": "IPY_MODEL_828920b1f6284b1497f249e9eced94fe"
          }
        },
        "1dc7102ab842459eb77c3ef49617cfc6": {
          "model_module": "@jupyter-widgets/controls",
          "model_name": "DescriptionStyleModel",
          "model_module_version": "1.5.0",
          "state": {
            "_view_name": "StyleView",
            "_model_name": "DescriptionStyleModel",
            "description_width": "",
            "_view_module": "@jupyter-widgets/base",
            "_model_module_version": "1.5.0",
            "_view_count": null,
            "_view_module_version": "1.2.0",
            "_model_module": "@jupyter-widgets/controls"
          }
        },
        "63a91b6f967c4f78aa6a0b2efecc1a2a": {
          "model_module": "@jupyter-widgets/base",
          "model_name": "LayoutModel",
          "model_module_version": "1.2.0",
          "state": {
            "_view_name": "LayoutView",
            "grid_template_rows": null,
            "right": null,
            "justify_content": null,
            "_view_module": "@jupyter-widgets/base",
            "overflow": null,
            "_model_module_version": "1.2.0",
            "_view_count": null,
            "flex_flow": null,
            "width": null,
            "min_width": null,
            "border": null,
            "align_items": null,
            "bottom": null,
            "_model_module": "@jupyter-widgets/base",
            "top": null,
            "grid_column": null,
            "overflow_y": null,
            "overflow_x": null,
            "grid_auto_flow": null,
            "grid_area": null,
            "grid_template_columns": null,
            "flex": null,
            "_model_name": "LayoutModel",
            "justify_items": null,
            "grid_row": null,
            "max_height": null,
            "align_content": null,
            "visibility": null,
            "align_self": null,
            "height": null,
            "min_height": null,
            "padding": null,
            "grid_auto_rows": null,
            "grid_gap": null,
            "max_width": null,
            "order": null,
            "_view_module_version": "1.2.0",
            "grid_template_areas": null,
            "object_position": null,
            "object_fit": null,
            "grid_auto_columns": null,
            "margin": null,
            "display": null,
            "left": null
          }
        },
        "4068fcd8151b4550b0b7a9bb046218d6": {
          "model_module": "@jupyter-widgets/controls",
          "model_name": "ProgressStyleModel",
          "model_module_version": "1.5.0",
          "state": {
            "_view_name": "StyleView",
            "_model_name": "ProgressStyleModel",
            "description_width": "",
            "_view_module": "@jupyter-widgets/base",
            "_model_module_version": "1.5.0",
            "_view_count": null,
            "_view_module_version": "1.2.0",
            "bar_color": null,
            "_model_module": "@jupyter-widgets/controls"
          }
        },
        "828920b1f6284b1497f249e9eced94fe": {
          "model_module": "@jupyter-widgets/base",
          "model_name": "LayoutModel",
          "model_module_version": "1.2.0",
          "state": {
            "_view_name": "LayoutView",
            "grid_template_rows": null,
            "right": null,
            "justify_content": null,
            "_view_module": "@jupyter-widgets/base",
            "overflow": null,
            "_model_module_version": "1.2.0",
            "_view_count": null,
            "flex_flow": null,
            "width": null,
            "min_width": null,
            "border": null,
            "align_items": null,
            "bottom": null,
            "_model_module": "@jupyter-widgets/base",
            "top": null,
            "grid_column": null,
            "overflow_y": null,
            "overflow_x": null,
            "grid_auto_flow": null,
            "grid_area": null,
            "grid_template_columns": null,
            "flex": null,
            "_model_name": "LayoutModel",
            "justify_items": null,
            "grid_row": null,
            "max_height": null,
            "align_content": null,
            "visibility": null,
            "align_self": null,
            "height": null,
            "min_height": null,
            "padding": null,
            "grid_auto_rows": null,
            "grid_gap": null,
            "max_width": null,
            "order": null,
            "_view_module_version": "1.2.0",
            "grid_template_areas": null,
            "object_position": null,
            "object_fit": null,
            "grid_auto_columns": null,
            "margin": null,
            "display": null,
            "left": null
          }
        },
        "f7999b0bcf6349ee90ff98e16f6547b6": {
          "model_module": "@jupyter-widgets/controls",
          "model_name": "VBoxModel",
          "model_module_version": "1.5.0",
          "state": {
            "_view_name": "VBoxView",
            "_dom_classes": [],
            "_model_name": "VBoxModel",
            "_view_module": "@jupyter-widgets/controls",
            "_model_module_version": "1.5.0",
            "_view_count": null,
            "_view_module_version": "1.5.0",
            "box_style": "",
            "layout": "IPY_MODEL_08ade237432046248d7c11efeee63ae9",
            "_model_module": "@jupyter-widgets/controls",
            "children": [
              "IPY_MODEL_620b223769c4462fb838a0c1bf36eba3",
              "IPY_MODEL_2f529c5f4d234e6ebaecd4eb3fb55987"
            ]
          }
        },
        "08ade237432046248d7c11efeee63ae9": {
          "model_module": "@jupyter-widgets/base",
          "model_name": "LayoutModel",
          "model_module_version": "1.2.0",
          "state": {
            "_view_name": "LayoutView",
            "grid_template_rows": null,
            "right": null,
            "justify_content": null,
            "_view_module": "@jupyter-widgets/base",
            "overflow": null,
            "_model_module_version": "1.2.0",
            "_view_count": null,
            "flex_flow": null,
            "width": null,
            "min_width": null,
            "border": null,
            "align_items": null,
            "bottom": null,
            "_model_module": "@jupyter-widgets/base",
            "top": null,
            "grid_column": null,
            "overflow_y": null,
            "overflow_x": null,
            "grid_auto_flow": null,
            "grid_area": null,
            "grid_template_columns": null,
            "flex": null,
            "_model_name": "LayoutModel",
            "justify_items": null,
            "grid_row": null,
            "max_height": null,
            "align_content": null,
            "visibility": null,
            "align_self": null,
            "height": null,
            "min_height": null,
            "padding": null,
            "grid_auto_rows": null,
            "grid_gap": null,
            "max_width": null,
            "order": null,
            "_view_module_version": "1.2.0",
            "grid_template_areas": null,
            "object_position": null,
            "object_fit": null,
            "grid_auto_columns": null,
            "margin": null,
            "display": null,
            "left": null
          }
        },
        "620b223769c4462fb838a0c1bf36eba3": {
          "model_module": "@jupyter-widgets/controls",
          "model_name": "LabelModel",
          "model_module_version": "1.5.0",
          "state": {
            "_view_name": "LabelView",
            "style": "IPY_MODEL_1571911b599242a798a804cdca88d915",
            "_dom_classes": [],
            "description": "",
            "_model_name": "LabelModel",
            "placeholder": "​",
            "_view_module": "@jupyter-widgets/controls",
            "_model_module_version": "1.5.0",
            "value": " 0.08MB of 0.08MB uploaded (0.00MB deduped)\r",
            "_view_count": null,
            "_view_module_version": "1.5.0",
            "description_tooltip": null,
            "_model_module": "@jupyter-widgets/controls",
            "layout": "IPY_MODEL_50e28c7b3763441288973254c1d7cb9d"
          }
        },
        "2f529c5f4d234e6ebaecd4eb3fb55987": {
          "model_module": "@jupyter-widgets/controls",
          "model_name": "FloatProgressModel",
          "model_module_version": "1.5.0",
          "state": {
            "_view_name": "ProgressView",
            "style": "IPY_MODEL_02c3eb94f89a4483ab716e35888f84dc",
            "_dom_classes": [],
            "description": "",
            "_model_name": "FloatProgressModel",
            "bar_style": "",
            "max": 1,
            "_view_module": "@jupyter-widgets/controls",
            "_model_module_version": "1.5.0",
            "value": 1,
            "_view_count": null,
            "_view_module_version": "1.5.0",
            "orientation": "horizontal",
            "min": 0,
            "description_tooltip": null,
            "_model_module": "@jupyter-widgets/controls",
            "layout": "IPY_MODEL_ce4cdd2002e94825a80b28287004d484"
          }
        },
        "1571911b599242a798a804cdca88d915": {
          "model_module": "@jupyter-widgets/controls",
          "model_name": "DescriptionStyleModel",
          "model_module_version": "1.5.0",
          "state": {
            "_view_name": "StyleView",
            "_model_name": "DescriptionStyleModel",
            "description_width": "",
            "_view_module": "@jupyter-widgets/base",
            "_model_module_version": "1.5.0",
            "_view_count": null,
            "_view_module_version": "1.2.0",
            "_model_module": "@jupyter-widgets/controls"
          }
        },
        "50e28c7b3763441288973254c1d7cb9d": {
          "model_module": "@jupyter-widgets/base",
          "model_name": "LayoutModel",
          "model_module_version": "1.2.0",
          "state": {
            "_view_name": "LayoutView",
            "grid_template_rows": null,
            "right": null,
            "justify_content": null,
            "_view_module": "@jupyter-widgets/base",
            "overflow": null,
            "_model_module_version": "1.2.0",
            "_view_count": null,
            "flex_flow": null,
            "width": null,
            "min_width": null,
            "border": null,
            "align_items": null,
            "bottom": null,
            "_model_module": "@jupyter-widgets/base",
            "top": null,
            "grid_column": null,
            "overflow_y": null,
            "overflow_x": null,
            "grid_auto_flow": null,
            "grid_area": null,
            "grid_template_columns": null,
            "flex": null,
            "_model_name": "LayoutModel",
            "justify_items": null,
            "grid_row": null,
            "max_height": null,
            "align_content": null,
            "visibility": null,
            "align_self": null,
            "height": null,
            "min_height": null,
            "padding": null,
            "grid_auto_rows": null,
            "grid_gap": null,
            "max_width": null,
            "order": null,
            "_view_module_version": "1.2.0",
            "grid_template_areas": null,
            "object_position": null,
            "object_fit": null,
            "grid_auto_columns": null,
            "margin": null,
            "display": null,
            "left": null
          }
        },
        "02c3eb94f89a4483ab716e35888f84dc": {
          "model_module": "@jupyter-widgets/controls",
          "model_name": "ProgressStyleModel",
          "model_module_version": "1.5.0",
          "state": {
            "_view_name": "StyleView",
            "_model_name": "ProgressStyleModel",
            "description_width": "",
            "_view_module": "@jupyter-widgets/base",
            "_model_module_version": "1.5.0",
            "_view_count": null,
            "_view_module_version": "1.2.0",
            "bar_color": null,
            "_model_module": "@jupyter-widgets/controls"
          }
        },
        "ce4cdd2002e94825a80b28287004d484": {
          "model_module": "@jupyter-widgets/base",
          "model_name": "LayoutModel",
          "model_module_version": "1.2.0",
          "state": {
            "_view_name": "LayoutView",
            "grid_template_rows": null,
            "right": null,
            "justify_content": null,
            "_view_module": "@jupyter-widgets/base",
            "overflow": null,
            "_model_module_version": "1.2.0",
            "_view_count": null,
            "flex_flow": null,
            "width": null,
            "min_width": null,
            "border": null,
            "align_items": null,
            "bottom": null,
            "_model_module": "@jupyter-widgets/base",
            "top": null,
            "grid_column": null,
            "overflow_y": null,
            "overflow_x": null,
            "grid_auto_flow": null,
            "grid_area": null,
            "grid_template_columns": null,
            "flex": null,
            "_model_name": "LayoutModel",
            "justify_items": null,
            "grid_row": null,
            "max_height": null,
            "align_content": null,
            "visibility": null,
            "align_self": null,
            "height": null,
            "min_height": null,
            "padding": null,
            "grid_auto_rows": null,
            "grid_gap": null,
            "max_width": null,
            "order": null,
            "_view_module_version": "1.2.0",
            "grid_template_areas": null,
            "object_position": null,
            "object_fit": null,
            "grid_auto_columns": null,
            "margin": null,
            "display": null,
            "left": null
          }
        },
        "206afb2d174247de8153b762c88c37b3": {
          "model_module": "@jupyter-widgets/controls",
          "model_name": "VBoxModel",
          "model_module_version": "1.5.0",
          "state": {
            "_view_name": "VBoxView",
            "_dom_classes": [],
            "_model_name": "VBoxModel",
            "_view_module": "@jupyter-widgets/controls",
            "_model_module_version": "1.5.0",
            "_view_count": null,
            "_view_module_version": "1.5.0",
            "box_style": "",
            "layout": "IPY_MODEL_36c06524fffd4e4394f9662bd25612a4",
            "_model_module": "@jupyter-widgets/controls",
            "children": [
              "IPY_MODEL_3f3b0ddc4a524ba58a46da418be9b9d7",
              "IPY_MODEL_c4686c14bb884b79a251ab06d5549efc"
            ]
          }
        },
        "36c06524fffd4e4394f9662bd25612a4": {
          "model_module": "@jupyter-widgets/base",
          "model_name": "LayoutModel",
          "model_module_version": "1.2.0",
          "state": {
            "_view_name": "LayoutView",
            "grid_template_rows": null,
            "right": null,
            "justify_content": null,
            "_view_module": "@jupyter-widgets/base",
            "overflow": null,
            "_model_module_version": "1.2.0",
            "_view_count": null,
            "flex_flow": null,
            "width": null,
            "min_width": null,
            "border": null,
            "align_items": null,
            "bottom": null,
            "_model_module": "@jupyter-widgets/base",
            "top": null,
            "grid_column": null,
            "overflow_y": null,
            "overflow_x": null,
            "grid_auto_flow": null,
            "grid_area": null,
            "grid_template_columns": null,
            "flex": null,
            "_model_name": "LayoutModel",
            "justify_items": null,
            "grid_row": null,
            "max_height": null,
            "align_content": null,
            "visibility": null,
            "align_self": null,
            "height": null,
            "min_height": null,
            "padding": null,
            "grid_auto_rows": null,
            "grid_gap": null,
            "max_width": null,
            "order": null,
            "_view_module_version": "1.2.0",
            "grid_template_areas": null,
            "object_position": null,
            "object_fit": null,
            "grid_auto_columns": null,
            "margin": null,
            "display": null,
            "left": null
          }
        },
        "3f3b0ddc4a524ba58a46da418be9b9d7": {
          "model_module": "@jupyter-widgets/controls",
          "model_name": "LabelModel",
          "model_module_version": "1.5.0",
          "state": {
            "_view_name": "LabelView",
            "style": "IPY_MODEL_61d2d237324b4dca9b0b08c8a934c2df",
            "_dom_classes": [],
            "description": "",
            "_model_name": "LabelModel",
            "placeholder": "​",
            "_view_module": "@jupyter-widgets/controls",
            "_model_module_version": "1.5.0",
            "value": " 0.08MB of 0.08MB uploaded (0.00MB deduped)\r",
            "_view_count": null,
            "_view_module_version": "1.5.0",
            "description_tooltip": null,
            "_model_module": "@jupyter-widgets/controls",
            "layout": "IPY_MODEL_3bdc3fa9ea3d47e08a613ff8e89f3583"
          }
        },
        "c4686c14bb884b79a251ab06d5549efc": {
          "model_module": "@jupyter-widgets/controls",
          "model_name": "FloatProgressModel",
          "model_module_version": "1.5.0",
          "state": {
            "_view_name": "ProgressView",
            "style": "IPY_MODEL_773e6544988f4341b74e4f15fea8ffb1",
            "_dom_classes": [],
            "description": "",
            "_model_name": "FloatProgressModel",
            "bar_style": "",
            "max": 1,
            "_view_module": "@jupyter-widgets/controls",
            "_model_module_version": "1.5.0",
            "value": 1,
            "_view_count": null,
            "_view_module_version": "1.5.0",
            "orientation": "horizontal",
            "min": 0,
            "description_tooltip": null,
            "_model_module": "@jupyter-widgets/controls",
            "layout": "IPY_MODEL_a576164cd29843388ec89232059871fd"
          }
        },
        "61d2d237324b4dca9b0b08c8a934c2df": {
          "model_module": "@jupyter-widgets/controls",
          "model_name": "DescriptionStyleModel",
          "model_module_version": "1.5.0",
          "state": {
            "_view_name": "StyleView",
            "_model_name": "DescriptionStyleModel",
            "description_width": "",
            "_view_module": "@jupyter-widgets/base",
            "_model_module_version": "1.5.0",
            "_view_count": null,
            "_view_module_version": "1.2.0",
            "_model_module": "@jupyter-widgets/controls"
          }
        },
        "3bdc3fa9ea3d47e08a613ff8e89f3583": {
          "model_module": "@jupyter-widgets/base",
          "model_name": "LayoutModel",
          "model_module_version": "1.2.0",
          "state": {
            "_view_name": "LayoutView",
            "grid_template_rows": null,
            "right": null,
            "justify_content": null,
            "_view_module": "@jupyter-widgets/base",
            "overflow": null,
            "_model_module_version": "1.2.0",
            "_view_count": null,
            "flex_flow": null,
            "width": null,
            "min_width": null,
            "border": null,
            "align_items": null,
            "bottom": null,
            "_model_module": "@jupyter-widgets/base",
            "top": null,
            "grid_column": null,
            "overflow_y": null,
            "overflow_x": null,
            "grid_auto_flow": null,
            "grid_area": null,
            "grid_template_columns": null,
            "flex": null,
            "_model_name": "LayoutModel",
            "justify_items": null,
            "grid_row": null,
            "max_height": null,
            "align_content": null,
            "visibility": null,
            "align_self": null,
            "height": null,
            "min_height": null,
            "padding": null,
            "grid_auto_rows": null,
            "grid_gap": null,
            "max_width": null,
            "order": null,
            "_view_module_version": "1.2.0",
            "grid_template_areas": null,
            "object_position": null,
            "object_fit": null,
            "grid_auto_columns": null,
            "margin": null,
            "display": null,
            "left": null
          }
        },
        "773e6544988f4341b74e4f15fea8ffb1": {
          "model_module": "@jupyter-widgets/controls",
          "model_name": "ProgressStyleModel",
          "model_module_version": "1.5.0",
          "state": {
            "_view_name": "StyleView",
            "_model_name": "ProgressStyleModel",
            "description_width": "",
            "_view_module": "@jupyter-widgets/base",
            "_model_module_version": "1.5.0",
            "_view_count": null,
            "_view_module_version": "1.2.0",
            "bar_color": null,
            "_model_module": "@jupyter-widgets/controls"
          }
        },
        "a576164cd29843388ec89232059871fd": {
          "model_module": "@jupyter-widgets/base",
          "model_name": "LayoutModel",
          "model_module_version": "1.2.0",
          "state": {
            "_view_name": "LayoutView",
            "grid_template_rows": null,
            "right": null,
            "justify_content": null,
            "_view_module": "@jupyter-widgets/base",
            "overflow": null,
            "_model_module_version": "1.2.0",
            "_view_count": null,
            "flex_flow": null,
            "width": null,
            "min_width": null,
            "border": null,
            "align_items": null,
            "bottom": null,
            "_model_module": "@jupyter-widgets/base",
            "top": null,
            "grid_column": null,
            "overflow_y": null,
            "overflow_x": null,
            "grid_auto_flow": null,
            "grid_area": null,
            "grid_template_columns": null,
            "flex": null,
            "_model_name": "LayoutModel",
            "justify_items": null,
            "grid_row": null,
            "max_height": null,
            "align_content": null,
            "visibility": null,
            "align_self": null,
            "height": null,
            "min_height": null,
            "padding": null,
            "grid_auto_rows": null,
            "grid_gap": null,
            "max_width": null,
            "order": null,
            "_view_module_version": "1.2.0",
            "grid_template_areas": null,
            "object_position": null,
            "object_fit": null,
            "grid_auto_columns": null,
            "margin": null,
            "display": null,
            "left": null
          }
        },
        "5e00ad4f17724b2cbce43b374bb84dff": {
          "model_module": "@jupyter-widgets/controls",
          "model_name": "VBoxModel",
          "model_module_version": "1.5.0",
          "state": {
            "_view_name": "VBoxView",
            "_dom_classes": [],
            "_model_name": "VBoxModel",
            "_view_module": "@jupyter-widgets/controls",
            "_model_module_version": "1.5.0",
            "_view_count": null,
            "_view_module_version": "1.5.0",
            "box_style": "",
            "layout": "IPY_MODEL_3cfd56ec3fc948b481661658ba3a8d01",
            "_model_module": "@jupyter-widgets/controls",
            "children": [
              "IPY_MODEL_e891a4f44c3948d193e9b145536a6ba4",
              "IPY_MODEL_a8bf92fda08447208cb882974b94391e"
            ]
          }
        },
        "3cfd56ec3fc948b481661658ba3a8d01": {
          "model_module": "@jupyter-widgets/base",
          "model_name": "LayoutModel",
          "model_module_version": "1.2.0",
          "state": {
            "_view_name": "LayoutView",
            "grid_template_rows": null,
            "right": null,
            "justify_content": null,
            "_view_module": "@jupyter-widgets/base",
            "overflow": null,
            "_model_module_version": "1.2.0",
            "_view_count": null,
            "flex_flow": null,
            "width": null,
            "min_width": null,
            "border": null,
            "align_items": null,
            "bottom": null,
            "_model_module": "@jupyter-widgets/base",
            "top": null,
            "grid_column": null,
            "overflow_y": null,
            "overflow_x": null,
            "grid_auto_flow": null,
            "grid_area": null,
            "grid_template_columns": null,
            "flex": null,
            "_model_name": "LayoutModel",
            "justify_items": null,
            "grid_row": null,
            "max_height": null,
            "align_content": null,
            "visibility": null,
            "align_self": null,
            "height": null,
            "min_height": null,
            "padding": null,
            "grid_auto_rows": null,
            "grid_gap": null,
            "max_width": null,
            "order": null,
            "_view_module_version": "1.2.0",
            "grid_template_areas": null,
            "object_position": null,
            "object_fit": null,
            "grid_auto_columns": null,
            "margin": null,
            "display": null,
            "left": null
          }
        },
        "e891a4f44c3948d193e9b145536a6ba4": {
          "model_module": "@jupyter-widgets/controls",
          "model_name": "LabelModel",
          "model_module_version": "1.5.0",
          "state": {
            "_view_name": "LabelView",
            "style": "IPY_MODEL_f23b42679d4748499af6df8b2d96303f",
            "_dom_classes": [],
            "description": "",
            "_model_name": "LabelModel",
            "placeholder": "​",
            "_view_module": "@jupyter-widgets/controls",
            "_model_module_version": "1.5.0",
            "value": " 0.11MB of 0.11MB uploaded (0.00MB deduped)\r",
            "_view_count": null,
            "_view_module_version": "1.5.0",
            "description_tooltip": null,
            "_model_module": "@jupyter-widgets/controls",
            "layout": "IPY_MODEL_8af03c3f0ded49869f476d7bd1a06706"
          }
        },
        "a8bf92fda08447208cb882974b94391e": {
          "model_module": "@jupyter-widgets/controls",
          "model_name": "FloatProgressModel",
          "model_module_version": "1.5.0",
          "state": {
            "_view_name": "ProgressView",
            "style": "IPY_MODEL_f4565d5068da48b98596fb51865470aa",
            "_dom_classes": [],
            "description": "",
            "_model_name": "FloatProgressModel",
            "bar_style": "",
            "max": 1,
            "_view_module": "@jupyter-widgets/controls",
            "_model_module_version": "1.5.0",
            "value": 1,
            "_view_count": null,
            "_view_module_version": "1.5.0",
            "orientation": "horizontal",
            "min": 0,
            "description_tooltip": null,
            "_model_module": "@jupyter-widgets/controls",
            "layout": "IPY_MODEL_ea43b6baad384de98895e83a6865fb7f"
          }
        },
        "f23b42679d4748499af6df8b2d96303f": {
          "model_module": "@jupyter-widgets/controls",
          "model_name": "DescriptionStyleModel",
          "model_module_version": "1.5.0",
          "state": {
            "_view_name": "StyleView",
            "_model_name": "DescriptionStyleModel",
            "description_width": "",
            "_view_module": "@jupyter-widgets/base",
            "_model_module_version": "1.5.0",
            "_view_count": null,
            "_view_module_version": "1.2.0",
            "_model_module": "@jupyter-widgets/controls"
          }
        },
        "8af03c3f0ded49869f476d7bd1a06706": {
          "model_module": "@jupyter-widgets/base",
          "model_name": "LayoutModel",
          "model_module_version": "1.2.0",
          "state": {
            "_view_name": "LayoutView",
            "grid_template_rows": null,
            "right": null,
            "justify_content": null,
            "_view_module": "@jupyter-widgets/base",
            "overflow": null,
            "_model_module_version": "1.2.0",
            "_view_count": null,
            "flex_flow": null,
            "width": null,
            "min_width": null,
            "border": null,
            "align_items": null,
            "bottom": null,
            "_model_module": "@jupyter-widgets/base",
            "top": null,
            "grid_column": null,
            "overflow_y": null,
            "overflow_x": null,
            "grid_auto_flow": null,
            "grid_area": null,
            "grid_template_columns": null,
            "flex": null,
            "_model_name": "LayoutModel",
            "justify_items": null,
            "grid_row": null,
            "max_height": null,
            "align_content": null,
            "visibility": null,
            "align_self": null,
            "height": null,
            "min_height": null,
            "padding": null,
            "grid_auto_rows": null,
            "grid_gap": null,
            "max_width": null,
            "order": null,
            "_view_module_version": "1.2.0",
            "grid_template_areas": null,
            "object_position": null,
            "object_fit": null,
            "grid_auto_columns": null,
            "margin": null,
            "display": null,
            "left": null
          }
        },
        "f4565d5068da48b98596fb51865470aa": {
          "model_module": "@jupyter-widgets/controls",
          "model_name": "ProgressStyleModel",
          "model_module_version": "1.5.0",
          "state": {
            "_view_name": "StyleView",
            "_model_name": "ProgressStyleModel",
            "description_width": "",
            "_view_module": "@jupyter-widgets/base",
            "_model_module_version": "1.5.0",
            "_view_count": null,
            "_view_module_version": "1.2.0",
            "bar_color": null,
            "_model_module": "@jupyter-widgets/controls"
          }
        },
        "ea43b6baad384de98895e83a6865fb7f": {
          "model_module": "@jupyter-widgets/base",
          "model_name": "LayoutModel",
          "model_module_version": "1.2.0",
          "state": {
            "_view_name": "LayoutView",
            "grid_template_rows": null,
            "right": null,
            "justify_content": null,
            "_view_module": "@jupyter-widgets/base",
            "overflow": null,
            "_model_module_version": "1.2.0",
            "_view_count": null,
            "flex_flow": null,
            "width": null,
            "min_width": null,
            "border": null,
            "align_items": null,
            "bottom": null,
            "_model_module": "@jupyter-widgets/base",
            "top": null,
            "grid_column": null,
            "overflow_y": null,
            "overflow_x": null,
            "grid_auto_flow": null,
            "grid_area": null,
            "grid_template_columns": null,
            "flex": null,
            "_model_name": "LayoutModel",
            "justify_items": null,
            "grid_row": null,
            "max_height": null,
            "align_content": null,
            "visibility": null,
            "align_self": null,
            "height": null,
            "min_height": null,
            "padding": null,
            "grid_auto_rows": null,
            "grid_gap": null,
            "max_width": null,
            "order": null,
            "_view_module_version": "1.2.0",
            "grid_template_areas": null,
            "object_position": null,
            "object_fit": null,
            "grid_auto_columns": null,
            "margin": null,
            "display": null,
            "left": null
          }
        }
      }
    }
  },
  "cells": [
    {
      "cell_type": "markdown",
      "metadata": {
        "id": "h-CKod-dF14g"
      },
      "source": [
        "# Best Model Description\n",
        "\n",
        "** Accuracy Achieved on Validation Dataset = 85%**\n",
        "* Model Name: CIFAR10CNNX\n",
        "* Number of CNN Layer = 3\n",
        "* Hyperparameters:\n",
        "    - epochs = 10,\n",
        "    - output_dim = 10, \n",
        "    - **batch_size = 64,**\n",
        "It started with a batch size of 128 and tuned on the different batch sizes 128,1024,512 and 64.\n",
        "    - **learning_rate = 0.005,**\n",
        "Earlier taken 0.03 then after tunning reduced it to 0.005\n",
        "    - early_stopping = True,\n",
        "\n",
        "* Wandb Project Link of all Conducted Experiments: \n",
        "\n",
        "https://wandb.ai/neetika/CNN_Experiment_Neetika?workspace=user-neetika\n"
      ]
    },
    {
      "cell_type": "markdown",
      "metadata": {
        "id": "UH8TVeZpiXMB"
      },
      "source": [
        "# Importing packages"
      ]
    },
    {
      "cell_type": "code",
      "metadata": {
        "colab": {
          "base_uri": "https://localhost:8080/"
        },
        "id": "8zQfDpmRec6x",
        "outputId": "9d13a6dd-bd46-4c55-a166-23a9929332fa"
      },
      "source": [
        "pip install torch-lr-finder"
      ],
      "execution_count": 1,
      "outputs": [
        {
          "output_type": "stream",
          "name": "stdout",
          "text": [
            "Collecting torch-lr-finder\n",
            "  Downloading torch_lr_finder-0.2.1-py3-none-any.whl (11 kB)\n",
            "Requirement already satisfied: matplotlib in /usr/local/lib/python3.7/dist-packages (from torch-lr-finder) (3.2.2)\n",
            "Requirement already satisfied: tqdm in /usr/local/lib/python3.7/dist-packages (from torch-lr-finder) (4.62.3)\n",
            "Requirement already satisfied: packaging in /usr/local/lib/python3.7/dist-packages (from torch-lr-finder) (21.2)\n",
            "Requirement already satisfied: numpy in /usr/local/lib/python3.7/dist-packages (from torch-lr-finder) (1.19.5)\n",
            "Requirement already satisfied: torch>=0.4.1 in /usr/local/lib/python3.7/dist-packages (from torch-lr-finder) (1.10.0+cu111)\n",
            "Requirement already satisfied: typing-extensions in /usr/local/lib/python3.7/dist-packages (from torch>=0.4.1->torch-lr-finder) (3.10.0.2)\n",
            "Requirement already satisfied: kiwisolver>=1.0.1 in /usr/local/lib/python3.7/dist-packages (from matplotlib->torch-lr-finder) (1.3.2)\n",
            "Requirement already satisfied: cycler>=0.10 in /usr/local/lib/python3.7/dist-packages (from matplotlib->torch-lr-finder) (0.11.0)\n",
            "Requirement already satisfied: python-dateutil>=2.1 in /usr/local/lib/python3.7/dist-packages (from matplotlib->torch-lr-finder) (2.8.2)\n",
            "Requirement already satisfied: pyparsing!=2.0.4,!=2.1.2,!=2.1.6,>=2.0.1 in /usr/local/lib/python3.7/dist-packages (from matplotlib->torch-lr-finder) (2.4.7)\n",
            "Requirement already satisfied: six>=1.5 in /usr/local/lib/python3.7/dist-packages (from python-dateutil>=2.1->matplotlib->torch-lr-finder) (1.15.0)\n",
            "Installing collected packages: torch-lr-finder\n",
            "Successfully installed torch-lr-finder-0.2.1\n"
          ]
        }
      ]
    },
    {
      "cell_type": "code",
      "metadata": {
        "id": "XHvRMcDUeims"
      },
      "source": [
        "# Install wandb and update it to the latest version\n",
        "%%capture\n",
        "!pip install wandb --upgrade"
      ],
      "execution_count": 2,
      "outputs": []
    },
    {
      "cell_type": "code",
      "metadata": {
        "id": "oFaTI_aTeipJ"
      },
      "source": [
        "# Importing the necessary libraries\n",
        "import torch\n",
        "import torch.nn as nn\n",
        "import torchvision\n",
        "import torchvision.transforms as transforms\n",
        "import torch.nn.functional as F\n",
        "from torchsummary import summary\n",
        "\n",
        "from torch.optim.lr_scheduler import ReduceLROnPlateau, ExponentialLR, CyclicLR, OneCycleLR, StepLR\n",
        "from torch_lr_finder import LRFinder\n",
        "\n",
        "import numpy as np\n",
        "import matplotlib.pyplot as plt\n",
        "import seaborn as sns\n",
        "from sklearn.metrics import confusion_matrix\n",
        "import random\n",
        "\n",
        "from datetime import datetime\n",
        "from pathlib import Path\n",
        "import plotly.io as pio\n",
        "pio.renderers.default = 'colab'"
      ],
      "execution_count": 3,
      "outputs": []
    },
    {
      "cell_type": "code",
      "metadata": {
        "id": "4qsi7mg3eitG"
      },
      "source": [
        "# Import random function\n",
        "import random\n",
        "\n",
        "# Fix seed value\n",
        "SEED = 2345\n",
        "random.seed(SEED)\n",
        "np.random.seed(SEED)\n",
        "torch.manual_seed(SEED)\n",
        "torch.cuda.manual_seed(SEED)\n",
        "torch.backends.cudnn.deterministic = True"
      ],
      "execution_count": 4,
      "outputs": []
    },
    {
      "cell_type": "code",
      "metadata": {
        "colab": {
          "base_uri": "https://localhost:8080/"
        },
        "id": "JNdj52cueixn",
        "outputId": "0e403cb8-91ed-4913-b480-76e9c42f960a"
      },
      "source": [
        "from google.colab import drive\n",
        "drive.mount('/content/drive')"
      ],
      "execution_count": 5,
      "outputs": [
        {
          "output_type": "stream",
          "name": "stdout",
          "text": [
            "Mounted at /content/drive\n"
          ]
        }
      ]
    },
    {
      "cell_type": "code",
      "metadata": {
        "id": "FfFp_aAeeizw"
      },
      "source": [
        "data_folder = Path('/content/drive/MyDrive/DL_Assignment5')\n",
        "  "
      ],
      "execution_count": 6,
      "outputs": []
    },
    {
      "cell_type": "code",
      "metadata": {
        "colab": {
          "base_uri": "https://localhost:8080/",
          "height": 68
        },
        "id": "pIUIcpwHei2S",
        "outputId": "71648d6e-85be-43a0-c904-b189fa2a3bac"
      },
      "source": [
        "# Import wandb\n",
        "import wandb\n",
        "\n",
        "# Login to W&B\n",
        "wandb.login()"
      ],
      "execution_count": 7,
      "outputs": [
        {
          "output_type": "display_data",
          "data": {
            "application/javascript": [
              "\n",
              "        window._wandbApiKey = new Promise((resolve, reject) => {\n",
              "            function loadScript(url) {\n",
              "            return new Promise(function(resolve, reject) {\n",
              "                let newScript = document.createElement(\"script\");\n",
              "                newScript.onerror = reject;\n",
              "                newScript.onload = resolve;\n",
              "                document.body.appendChild(newScript);\n",
              "                newScript.src = url;\n",
              "            });\n",
              "            }\n",
              "            loadScript(\"https://cdn.jsdelivr.net/npm/postmate/build/postmate.min.js\").then(() => {\n",
              "            const iframe = document.createElement('iframe')\n",
              "            iframe.style.cssText = \"width:0;height:0;border:none\"\n",
              "            document.body.appendChild(iframe)\n",
              "            const handshake = new Postmate({\n",
              "                container: iframe,\n",
              "                url: 'https://wandb.ai/authorize'\n",
              "            });\n",
              "            const timeout = setTimeout(() => reject(\"Couldn't auto authenticate\"), 5000)\n",
              "            handshake.then(function(child) {\n",
              "                child.on('authorize', data => {\n",
              "                    clearTimeout(timeout)\n",
              "                    resolve(data)\n",
              "                });\n",
              "            });\n",
              "            })\n",
              "        });\n",
              "    "
            ],
            "text/plain": [
              "<IPython.core.display.Javascript object>"
            ]
          },
          "metadata": {}
        },
        {
          "output_type": "stream",
          "name": "stderr",
          "text": [
            "\u001b[34m\u001b[1mwandb\u001b[0m: Appending key for api.wandb.ai to your netrc file: /root/.netrc\n"
          ]
        },
        {
          "output_type": "execute_result",
          "data": {
            "text/plain": [
              "True"
            ]
          },
          "metadata": {},
          "execution_count": 7
        }
      ]
    },
    {
      "cell_type": "markdown",
      "metadata": {
        "id": "I4sCTrVihg4x"
      },
      "source": [
        "The CIFAR-10 dataset consists of 60000 32x32 colour images in 10 classes, with 6000 images per class. There are 50000 training images and 10000 test images.\n",
        "\n",
        "The dataset is divided into five training batches and one test batch, each with 10000 images. The test batch contains exactly 1000 randomly-selected images from each class. The training batches contain the remaining images in random order, but some training batches may contain more images from one class than another. Between them, the training batches contain exactly 5000 images from each class.\n",
        "\n",
        "\n",
        "\n",
        "We will first convert the images in the dataset to pytorch tensors using torchvision.transforms and then normalize them.\n",
        "\n",
        "Next, we will use torchvision.datasets for downloading the CIFAR - 10  datasets and apply transform that we defines earlier.\n",
        "\n",
        "trainset conains the training data\n",
        "testset contains the testing data"
      ]
    },
    {
      "cell_type": "markdown",
      "metadata": {
        "id": "z1pbP0o6-CfY"
      },
      "source": [
        "## Data Transformation"
      ]
    },
    {
      "cell_type": "code",
      "metadata": {
        "colab": {
          "base_uri": "https://localhost:8080/"
        },
        "id": "xaljanw_n2Ai",
        "outputId": "38dd208a-3d2a-4892-ae0a-da247db0835e"
      },
      "source": [
        "# Transform to convert images to pytorch tensors and normalize the data\n",
        "train_trans= transforms.Compose([ \n",
        "                                #  transforms.RandomCrop(size = (32,32), padding = 2),\n",
        "                                #  transforms.RandomAffine(degrees=10, translate =(0.05, 0.05), scale=(0.9, 1.1)),\n",
        "                                #  transforms.RandomHorizontalFlip(),\n",
        "                                 transforms.ToTensor(), \n",
        "                                 transforms.Normalize((0.4914,0.4822,0.4655), (0.2023,0.1994,0.2010))])\n",
        "trans = transforms.Compose([transforms.ToTensor(), transforms.Normalize((0.4914,0.4822,0.4655), (0.2023,0.1994,0.2010))])\n",
        "train_full = torchvision.datasets.CIFAR10(root=data_folder,\n",
        "                                              train=True, \n",
        "                                              transform=train_trans,\n",
        "                                              download=True)\n",
        "trainset, validset = torch.utils.data.random_split(train_full, [40000, 10000], generator=torch.Generator().manual_seed(42))\n",
        "testset  = torchvision.datasets.CIFAR10(root=data_folder,\n",
        "                                              train=False, \n",
        "                                              transform=trans,\n",
        "                                              download=True)"
      ],
      "execution_count": null,
      "outputs": [
        {
          "name": "stdout",
          "output_type": "stream",
          "text": [
            "Files already downloaded and verified\n",
            "Files already downloaded and verified\n"
          ]
        }
      ]
    },
    {
      "cell_type": "code",
      "metadata": {
        "colab": {
          "base_uri": "https://localhost:8080/"
        },
        "id": "vK1xJIk1n181",
        "outputId": "15903c8e-4f27-4b94-c9e5-0d379c8a9d21"
      },
      "source": [
        "len(trainset), len(validset )"
      ],
      "execution_count": null,
      "outputs": [
        {
          "data": {
            "text/plain": [
              "(40000, 10000)"
            ]
          },
          "execution_count": 10,
          "metadata": {},
          "output_type": "execute_result"
        }
      ]
    },
    {
      "cell_type": "code",
      "metadata": {
        "colab": {
          "base_uri": "https://localhost:8080/"
        },
        "id": "IdUYFhCcn16d",
        "outputId": "a8d9deff-5036-49f6-b84d-1b22b937a25f"
      },
      "source": [
        "# check the min value of inputs\n",
        "train_full.data.mean()/255"
      ],
      "execution_count": null,
      "outputs": [
        {
          "data": {
            "text/plain": [
              "0.4733630004850899"
            ]
          },
          "execution_count": 11,
          "metadata": {},
          "output_type": "execute_result"
        }
      ]
    },
    {
      "cell_type": "code",
      "metadata": {
        "colab": {
          "base_uri": "https://localhost:8080/"
        },
        "id": "xHFvCDG3n13B",
        "outputId": "0982850d-5813-4580-f00b-f8949a9d6074"
      },
      "source": [
        "testset.data.shape"
      ],
      "execution_count": null,
      "outputs": [
        {
          "data": {
            "text/plain": [
              "(10000, 32, 32, 3)"
            ]
          },
          "execution_count": 12,
          "metadata": {},
          "output_type": "execute_result"
        }
      ]
    },
    {
      "cell_type": "markdown",
      "metadata": {
        "id": "AK-oZXJ0-JxA"
      },
      "source": [
        "## Creating Smaller Dataset"
      ]
    },
    {
      "cell_type": "code",
      "metadata": {
        "id": "QjXqjZv09vqm"
      },
      "source": [
        "# n sample points\n",
        "train_sample_size = int(len(trainset)/700)\n",
        "valid_sample_size = int(len(validset)/500)\n",
        "\n",
        "# Getting n random indices\n",
        "train_subset_indices = random.sample(range(0, len(trainset)), train_sample_size)\n",
        "valid_subset_indices = random.sample(range(0, len(testset)), valid_sample_size)\n",
        "\n",
        "# Getting subset of dataset\n",
        "train_subset = torch.utils.data.Subset(trainset, train_subset_indices)\n",
        "valid_subset = torch.utils.data.Subset(validset, valid_subset_indices)"
      ],
      "execution_count": null,
      "outputs": []
    },
    {
      "cell_type": "code",
      "metadata": {
        "colab": {
          "base_uri": "https://localhost:8080/"
        },
        "id": "5BjWC9f0qvQc",
        "outputId": "382e13a3-5eb9-4037-b3c6-3a1dbe367df6"
      },
      "source": [
        "train_sample_size"
      ],
      "execution_count": null,
      "outputs": [
        {
          "data": {
            "text/plain": [
              "57"
            ]
          },
          "execution_count": 14,
          "metadata": {},
          "output_type": "execute_result"
        }
      ]
    },
    {
      "cell_type": "markdown",
      "metadata": {
        "id": "sssp9d977WPk"
      },
      "source": [
        "## Predictor Labels"
      ]
    },
    {
      "cell_type": "code",
      "metadata": {
        "id": "1DfTU3NIzaP0"
      },
      "source": [
        "def get_CIAFR10_labels(labels):  \n",
        "    \"\"\" \n",
        "    Function to generate labels.\n",
        "    Input: numerical labels\n",
        "    Output: actual string labels\n",
        "    \"\"\"\n",
        "\n",
        "    # Create a list of labels\n",
        "    text_labels = ['airplane', 'automobile', 'bird', 'cat',\n",
        "                   'deer', 'dog', 'frog', 'horse', 'ship', 'truck']\n",
        "\n",
        "    # Return text_labels according to numerical values\n",
        "    return [text_labels[int(i)] for i in labels]"
      ],
      "execution_count": null,
      "outputs": []
    },
    {
      "cell_type": "code",
      "metadata": {
        "id": "U08dlOWHYf1x"
      },
      "source": [
        ""
      ],
      "execution_count": null,
      "outputs": []
    },
    {
      "cell_type": "markdown",
      "metadata": {
        "id": "SFr7VUKRYgp-"
      },
      "source": [
        "# Model 1 - Tried Different Optimizer and SGD working well\n",
        "\n",
        "**3 Convolution Layer**\n",
        "\n",
        "**Learning Rate 0.05**\n",
        "\n",
        "**Epoch 5**\n",
        "\n",
        "**Batch Size 128**\n",
        "\n",
        "**Train Accuracy:  72.0725% | Valid Accuracy:  68.2200%**\n"
      ]
    },
    {
      "cell_type": "markdown",
      "metadata": {
        "id": "5nYocz63Ygp_"
      },
      "source": [
        "## CNN Model Class"
      ]
    },
    {
      "cell_type": "code",
      "metadata": {
        "id": "4WQx28YQYgp_"
      },
      "source": [
        "class CIFAR10CNN1(nn.Module):\n",
        "    \n",
        "    def __init__(self):\n",
        "\n",
        "      super().__init__()\n",
        "\n",
        "      super(CIFAR10CNN1, self).__init__()\n",
        "      \n",
        "      self.conv1_layer = nn.Sequential(\n",
        "          nn.Conv2d(in_channels=3, out_channels=32, kernel_size=3, padding='same'), # 32*32\n",
        "          nn.ReLU(),\n",
        "          nn.Conv2d(in_channels=32, out_channels=32, kernel_size=3, padding='same'), #32 *32\n",
        "          nn.ReLU(),\n",
        "          nn.MaxPool2d(kernel_size=2, stride = 2), # 16 * 16\n",
        "          \n",
        "      )\n",
        "\n",
        "      self.conv2_layer = nn.Sequential(\n",
        "          nn.Conv2d(in_channels=32, out_channels=64, kernel_size=3, padding='same'), #16*16\n",
        "          nn.ReLU(),\n",
        "          nn.Conv2d(in_channels=64, out_channels=64, kernel_size=3, padding='same'), #16*16\n",
        "          nn.ReLU(),\n",
        "          nn.MaxPool2d(kernel_size=2, stride = 2), # 8 * 8\n",
        "      )\n",
        "      self.conv3_layer = nn.Sequential(\n",
        "          nn.Conv2d(in_channels=64, out_channels=128, kernel_size=3, padding='same'), #8*8\n",
        "          nn.ReLU(),\n",
        "          nn.Conv2d(in_channels=128, out_channels=128, kernel_size=3, padding='same'), #8*8\n",
        "          nn.ReLU(),\n",
        "          nn.MaxPool2d(kernel_size=2, stride = 2),# 4 * 4\n",
        "      )\n",
        "\n",
        "      self.flatten = nn.Flatten()\n",
        "      \n",
        "      self.fc1 = nn.Linear(256*4*4, out_features=1024)\n",
        "      self.fc2 = nn.Linear(1024, out_features=512)\n",
        "      self.fc3 = nn.Linear(512, out_features=10)\n",
        "      \n",
        "      \n",
        "    def forward(self, x):\n",
        "        # conv layers\n",
        "        out = self.conv1_layer(x)\n",
        "        out = self.conv2_layer(out)\n",
        "\n",
        "        # flatten befrore input to linear layer\n",
        "        out = self.flatten(out)\n",
        "        # linear hidden layers\n",
        "        out = F.relu(self.fc1(out))\n",
        "        out = F.relu(self.fc2(out))\n",
        "\n",
        "        # output layer - no softmax as it is applied by nn.CrossEntropyLoss\n",
        "\n",
        "        out = self.fc3(out)\n",
        "        \n",
        "        return out"
      ],
      "execution_count": null,
      "outputs": []
    },
    {
      "cell_type": "code",
      "metadata": {
        "colab": {
          "base_uri": "https://localhost:8080/"
        },
        "id": "smLx0yljYgqC",
        "outputId": "e5798bec-52e0-4dc1-bb43-a3d76906b257"
      },
      "source": [
        "summary(CIFAR10CNN1().cuda(), (3, 32, 32))"
      ],
      "execution_count": null,
      "outputs": [
        {
          "name": "stdout",
          "output_type": "stream",
          "text": [
            "----------------------------------------------------------------\n",
            "        Layer (type)               Output Shape         Param #\n",
            "================================================================\n",
            "            Conv2d-1           [-1, 32, 32, 32]             896\n",
            "              ReLU-2           [-1, 32, 32, 32]               0\n",
            "            Conv2d-3           [-1, 32, 32, 32]           9,248\n",
            "              ReLU-4           [-1, 32, 32, 32]               0\n",
            "         MaxPool2d-5           [-1, 32, 16, 16]               0\n",
            "            Conv2d-6           [-1, 64, 16, 16]          18,496\n",
            "              ReLU-7           [-1, 64, 16, 16]               0\n",
            "            Conv2d-8           [-1, 64, 16, 16]          36,928\n",
            "              ReLU-9           [-1, 64, 16, 16]               0\n",
            "        MaxPool2d-10             [-1, 64, 8, 8]               0\n",
            "          Flatten-11                 [-1, 4096]               0\n",
            "           Linear-12                 [-1, 1024]       4,195,328\n",
            "           Linear-13                  [-1, 512]         524,800\n",
            "           Linear-14                   [-1, 10]           5,130\n",
            "================================================================\n",
            "Total params: 4,790,826\n",
            "Trainable params: 4,790,826\n",
            "Non-trainable params: 0\n",
            "----------------------------------------------------------------\n",
            "Input size (MB): 0.01\n",
            "Forward/backward pass size (MB): 1.64\n",
            "Params size (MB): 18.28\n",
            "Estimated Total Size (MB): 19.92\n",
            "----------------------------------------------------------------\n"
          ]
        }
      ]
    },
    {
      "cell_type": "markdown",
      "metadata": {
        "id": "XvWhk04YYgqD"
      },
      "source": [
        "## Training Epoch"
      ]
    },
    {
      "cell_type": "code",
      "metadata": {
        "id": "L2wXdM14YgqE"
      },
      "source": [
        "def train(train_loader, model, optimizer, loss_function, log_batch, log_interval, grad_clipping, max_norm):\n",
        "\n",
        "  \"\"\" \n",
        "  Function for training the model in each epoch\n",
        "  Input: iterator for train dataset, initial weights and bias, epochs, learning rate.\n",
        "  Output: final weights, bias, train loss, train accuracy\n",
        "  \"\"\"\n",
        "  # initilalize variables as global\n",
        "  # these counts will be updated every epoch\n",
        "  global example_ct_train\n",
        "  global batch_ct_train\n",
        "\n",
        "  # Training Loop loop\n",
        "  # Initialize train_loss at the he start of the epoch\n",
        "  running_train_loss = 0\n",
        "  running_train_correct = 0\n",
        "  \n",
        "  # put the model in training mode\n",
        "  model.train()\n",
        "\n",
        "  # Iterate on batches from the dataset using train_loader\n",
        "  for input, targets in train_loader:\n",
        "    \n",
        "    # move inputs and outputs to GPUs\n",
        "    input = input.to(device)\n",
        "    targets = targets.to(device)\n",
        "\n",
        "    # Forward pass\n",
        "    output = model(input)\n",
        "    loss = loss_function(output, targets)\n",
        "\n",
        "    # Correct prediction\n",
        "    y_pred = torch.argmax(output, dim = 1)\n",
        "    correct = torch.sum(y_pred == targets)\n",
        "\n",
        "    example_ct_train +=  len(targets)\n",
        "    batch_ct_train += 1\n",
        "\n",
        "    # set gradients to zero \n",
        "    optimizer.zero_grad()\n",
        "\n",
        "    # Backward pass\n",
        "    loss.backward()\n",
        "\n",
        "    # Gradient Clipping\n",
        "    if grad_clipping:\n",
        "      nn.utils.clip_grad_norm_(model.parameters(), max_norm=max_norm, norm_type=2)\n",
        "\n",
        "    # Update parameters using their gradient\n",
        "    optimizer.step()\n",
        "\n",
        "    # scheduler.step()\n",
        "          \n",
        "    # Add train loss of a batch \n",
        "    running_train_loss += loss.item()\n",
        "\n",
        "    # Add Corect counts of a batch\n",
        "    running_train_correct += correct\n",
        "\n",
        "    # log batch loss and accuracy\n",
        "    if log_batch:\n",
        "      if ((batch_ct_train + 1) % log_interval) == 0:\n",
        "        wandb.log({f\"Train Batch Loss  :\": loss})\n",
        "        wandb.log({f\"Train Batch Acc :\": correct/len(targets)})\n",
        "        # print(f'Learning rate: {scheduler.get_last_lr()}')\n",
        "\n",
        "    \n",
        "    \n",
        "  # Calculate mean train loss for the whole dataset for a particular epoch\n",
        "  train_loss = running_train_loss/len(train_loader)\n",
        "\n",
        "\n",
        "\n",
        "  # Calculate accuracy for the whole dataset for a particular epoch\n",
        "  train_acc = running_train_correct/len(train_loader.dataset)\n",
        "\n",
        "  return train_loss, train_acc"
      ],
      "execution_count": 17,
      "outputs": []
    },
    {
      "cell_type": "markdown",
      "metadata": {
        "id": "HI5mt3cRYgqG"
      },
      "source": [
        "## Validation Epoch"
      ]
    },
    {
      "cell_type": "code",
      "metadata": {
        "id": "ZZaQ4HbFYgqG"
      },
      "source": [
        "def valid(loader, model, optimizer, loss_function, log_batch, log_interval):\n",
        "\n",
        "  \"\"\" \n",
        "  Function for training the model and plotting the graph for train & valid loss vs epoch.\n",
        "  Input: iterator for train dataset, initial weights and bias, epochs, learning rate, batch size.\n",
        "  Output: final weights, bias and train loss and valid loss for each epoch.\n",
        "  \"\"\"\n",
        "\n",
        "  # initilalize variables as global\n",
        "  # these counts will be updated every epoch\n",
        "  global example_ct_valid\n",
        "  global batch_ct_valid\n",
        "\n",
        "  # Validation loop\n",
        "  # Initialize train_loss at the he strat of the epoch\n",
        "  running_valid_loss = 0\n",
        "  running_valid_correct = 0\n",
        "  \n",
        "  # put the model in evaluation mode\n",
        "  model.eval()\n",
        "\n",
        "  with torch.no_grad():\n",
        "    for input,targets in loader:\n",
        "\n",
        "      # move inputs and outputs to GPUs\n",
        "      input = input.to(device)\n",
        "      targets = targets.to(device)\n",
        "\n",
        "      # Forward pass\n",
        "      output = model(input)\n",
        "      loss = loss_function(output,targets)\n",
        "\n",
        "      # Correct Predictions\n",
        "      y_pred = torch.argmax(output, dim = 1)\n",
        "      correct = torch.sum(y_pred == targets)\n",
        "\n",
        "      # count of images and batches\n",
        "      example_ct_valid +=  len(targets)\n",
        "      batch_ct_valid += 1\n",
        "\n",
        "      # Add valid loss of a batch \n",
        "      running_valid_loss += loss.item()\n",
        "\n",
        "      # Add correct count for each batch\n",
        "      running_valid_correct += correct\n",
        "\n",
        "      # log batch loss and accuracy\n",
        "      if log_batch:\n",
        "        if ((batch_ct_valid + 1) % log_interval) == 0:\n",
        "          wandb.log({f\"Valid Batch Loss  :\": loss})\n",
        "          wandb.log({f\"Valid Batch Accuracy :\": correct/len(targets)})\n",
        "\n",
        "\n",
        "    # Calculate mean valid loss for the whole dataset for a particular epoch\n",
        "    valid_loss = running_valid_loss/len(valid_loader)\n",
        "\n",
        "    # scheduler step\n",
        "    # scheduler.step(valid_loss)\n",
        "    # scheduler.step()\n",
        "\n",
        "    # Calculate accuracy for the whole dataset for a particular epoch\n",
        "    valid_acc = running_valid_correct/len(valid_loader.dataset)\n",
        "    \n",
        "  return valid_loss, valid_acc"
      ],
      "execution_count": 18,
      "outputs": []
    },
    {
      "cell_type": "markdown",
      "metadata": {
        "id": "b3tR7qdlYgqH"
      },
      "source": [
        "## Model Training Loop"
      ]
    },
    {
      "cell_type": "code",
      "metadata": {
        "id": "2L8SHzIrYgqH"
      },
      "source": [
        "def train_loop(train_loader, valid_loader, model, loss_function, optimizer, epochs, device, patience, early_stopping,\n",
        "               file_model):\n",
        "\n",
        "  '''\n",
        "  model: specify your model for training\n",
        "  criterion: loss function \n",
        "  optimizer: optimizer like SGD , ADAM etc.\n",
        "  train loader: function to carete batches for training data\n",
        "  loader : function to create batches for valid data set\n",
        "  file_model : specify file name for saving your model. This way we can upload the model weights from file. We will not to run model again.\n",
        "  \n",
        "\n",
        "  '''\n",
        "  # Create lists to store train and valid loss at each epoch\n",
        "\n",
        "  train_loss_history = []\n",
        "  valid_loss_history = []\n",
        "  train_acc_history = []\n",
        "  valid_acc_history = []\n",
        "  delta = 0\n",
        "  best_score = None\n",
        "  valid_loss_min = np.Inf\n",
        "  counter_early_stop=0\n",
        "  early_stop=False\n",
        "\n",
        "\n",
        "  # Iterate for the given number of epochs\n",
        "  for epoch in range(epochs):\n",
        "    t0 = datetime.now()\n",
        "    # Get train loss and accuracy for one epoch\n",
        "\n",
        "    train_loss, train_acc = train(train_loader, model, optimizer, loss_function, \n",
        "                                  wandb.config.log_batch, wandb.config.log_interval,\n",
        "                                  wandb.config.grad_clipping, wandb.config.max_norm)\n",
        "    valid_loss, valid_acc = valid(valid_loader, model, optimizer, loss_function,\n",
        "                                    wandb.config.log_batch, wandb.config.log_interval)\n",
        "\n",
        "    dt = datetime.now() - t0\n",
        "\n",
        "    # Save history of the Losses and accuracy\n",
        "    train_loss_history.append(train_loss)\n",
        "    train_acc_history.append(train_acc)\n",
        "    valid_loss_history.append(valid_loss)\n",
        "    valid_acc_history.append(valid_acc)\n",
        "\n",
        "    if early_stopping:\n",
        "      score = -valid_loss\n",
        "      if best_score is None:\n",
        "        best_score=score\n",
        "        print(f'Validation loss has decreased ({valid_loss_min:.6f} --> {valid_loss:.6f}). Saving Model...')\n",
        "        torch.save(model.state_dict(), file_model)\n",
        "        valid_loss_min = valid_loss\n",
        "\n",
        "      elif score < best_score + delta:\n",
        "        counter_early_stop += 1\n",
        "        print(f'Early stoping counter: {counter_early_stop} out of {patience}')\n",
        "        if counter_early_stop > patience:\n",
        "          early_stop = True\n",
        "\n",
        "      \n",
        "      else:\n",
        "        best_score = score\n",
        "        print(f'Validation loss has decreased ({valid_loss_min:.6f} --> {valid_loss:.6f}). Saving model...')\n",
        "        torch.save(model.state_dict(), file_model)\n",
        "        counter_early_stop=0\n",
        "        valid_loss_min = valid_loss\n",
        "\n",
        "      if early_stop:\n",
        "        print('Early Stopping')\n",
        "        break\n",
        "\n",
        "    else:\n",
        "\n",
        "      score = -valid_loss\n",
        "      if best_score is None:\n",
        "        best_score=score\n",
        "        print(f'Validation loss has decreased ({valid_loss_min:.6f} --> {valid_loss:.6f}). Saving Model...')\n",
        "        torch.save(model.state_dict(), file_model)\n",
        "        valid_loss_min = valid_loss\n",
        "\n",
        "      elif score < best_score + delta:\n",
        "        print(f'Validation loss has not decreased ({valid_loss_min:.6f} --> {valid_loss:.6f}). Not Saving Model...')\n",
        "      \n",
        "      else:\n",
        "        best_score = score\n",
        "        print(f'Validation loss has decreased ({valid_loss_min:.6f} --> {valid_loss:.6f}). Saving model...')\n",
        "        torch.save(model.state_dict(), file_model)\n",
        "        valid_loss_min = valid_loss\n",
        "\n",
        "\n",
        "\n",
        "    # Log the train and valid loss to W&B\n",
        "    wandb.log({f\"Train epoch Loss :\": train_loss, f\"Valid epoch Loss :\": valid_loss })\n",
        "    wandb.log({f\"Train epoch Acc :\": train_acc, f\"Valid epoch Acc :\": valid_acc})\n",
        "\n",
        "\n",
        "\n",
        "    # Print the train loss and accuracy for given number of epochs, batch size and number of samples\n",
        "    print(f'Epoch : {epoch+1} / {epochs}')\n",
        "    print(f'Time to complete {epoch+1} is {dt}')\n",
        "    # print(f'Learning rate: {scheduler.get_last_lr()}')\n",
        "    # print(f'Learning rate: {scheduler._last_lr[0]}')\n",
        "    print(f'Train Loss: {train_loss : .4f} | Train Accuracy: {train_acc * 100 : .4f}%')\n",
        "    print(f'Valid Loss: {valid_loss : .4f} | Valid Accuracy: {valid_acc * 100 : .4f}%')\n",
        "    print()\n",
        "    torch.cuda.empty_cache()\n",
        "\n",
        "  return train_loss_history, train_acc_history, valid_loss_history, valid_acc_history\n"
      ],
      "execution_count": 19,
      "outputs": []
    },
    {
      "cell_type": "markdown",
      "metadata": {
        "id": "YAdpRLO2YgqI"
      },
      "source": [
        "## HyperParameter"
      ]
    },
    {
      "cell_type": "code",
      "metadata": {
        "id": "d9d853R8YgqJ"
      },
      "source": [
        "hyperparameters = dict(\n",
        "    epochs = 5,\n",
        "    output_dim = 10, \n",
        "    batch_size = 128,\n",
        "    learning_rate = 0.05,\n",
        "    dataset=\"CIFAR10\",\n",
        "    architecture=\"CNN\",\n",
        "    log_interval = 100,\n",
        "    log_batch = True,\n",
        "    file_model = data_folder/'exp3.pt',\n",
        "    grad_clipping = False,\n",
        "    max_norm = 0,\n",
        "    patience = 0 ,\n",
        "    early_stopping = False,\n",
        "    weight_decay = 0,\n",
        "    scheduler_factor = 0,\n",
        "    scheduler_patience = 0,\n",
        "   )\n",
        "\n",
        "device = torch.device('cuda:0' if torch.cuda.is_available() else 'cpu')"
      ],
      "execution_count": null,
      "outputs": []
    },
    {
      "cell_type": "markdown",
      "metadata": {
        "id": "-Ndk8u2cYgqJ"
      },
      "source": [
        "## Intialize wandb"
      ]
    },
    {
      "cell_type": "code",
      "metadata": {
        "colab": {
          "base_uri": "https://localhost:8080/",
          "height": 70
        },
        "id": "3A1BizDrYgqK",
        "outputId": "b165f011-e4f5-47ec-c12f-3b2e4abc6f5b"
      },
      "source": [
        "wandb.init(name = 'Exp1_LR(0.05)-Testing', project = 'CNN_Experiment_Neetika', config = hyperparameters)"
      ],
      "execution_count": null,
      "outputs": [
        {
          "name": "stderr",
          "output_type": "stream",
          "text": [
            "\u001b[34m\u001b[1mwandb\u001b[0m: Currently logged in as: \u001b[33mneetika\u001b[0m (use `wandb login --relogin` to force relogin)\n"
          ]
        },
        {
          "data": {
            "text/html": [
              "\n",
              "                    Syncing run <strong><a href=\"https://wandb.ai/neetika/CNN_Experiment_Neetika/runs/91qfvmlg\" target=\"_blank\">Exp1_LR(0.05)-Testing</a></strong> to <a href=\"https://wandb.ai/neetika/CNN_Experiment_Neetika\" target=\"_blank\">Weights & Biases</a> (<a href=\"https://docs.wandb.com/integrations/jupyter.html\" target=\"_blank\">docs</a>).<br/>\n",
              "\n",
              "                "
            ],
            "text/plain": [
              "<IPython.core.display.HTML object>"
            ]
          },
          "metadata": {},
          "output_type": "display_data"
        },
        {
          "data": {
            "text/html": [
              "<button onClick=\"this.nextSibling.style.display='block';this.style.display='none';\">Display W&B run</button><iframe src=\"https://wandb.ai/neetika/CNN_Experiment_Neetika/runs/91qfvmlg?jupyter=true\" style=\"border:none;width:100%;height:420px;display:none;\"></iframe>"
            ],
            "text/plain": [
              "<wandb.sdk.wandb_run.Run at 0x7f86b5ea5490>"
            ]
          },
          "execution_count": 30,
          "metadata": {},
          "output_type": "execute_result"
        }
      ]
    },
    {
      "cell_type": "code",
      "metadata": {
        "colab": {
          "base_uri": "https://localhost:8080/"
        },
        "id": "y4hWe1GBYgqK",
        "outputId": "4e74b0ab-ef67-4840-9959-bfb6a8e48ef5"
      },
      "source": [
        "wandb.config.device = device\n",
        "print(wandb.config.device )"
      ],
      "execution_count": null,
      "outputs": [
        {
          "name": "stdout",
          "output_type": "stream",
          "text": [
            "cpu\n"
          ]
        }
      ]
    },
    {
      "cell_type": "markdown",
      "metadata": {
        "id": "lF2SVlJTYgqK"
      },
      "source": [
        "## Specify Dataloader, Loss_function, Model, Optimizer, Weight Initialization"
      ]
    },
    {
      "cell_type": "code",
      "metadata": {
        "id": "seJ4ZJTnYgqK"
      },
      "source": [
        "# Fix seed value\n",
        "SEED = 2345\n",
        "random.seed(SEED)\n",
        "np.random.seed(SEED)\n",
        "torch.manual_seed(SEED)\n",
        "torch.cuda.manual_seed(SEED)\n",
        "torch.backends.cudnn.deterministic = True\n",
        "\n",
        "# Data Loader\n",
        "train_loader = torch.utils.data.DataLoader(train_subset, batch_size=wandb.config.batch_size, shuffle = True)\n",
        "valid_loader = torch.utils.data.DataLoader(valid_subset, batch_size=wandb.config.batch_size, shuffle = False)\n",
        "test_loader = torch.utils.data.DataLoader(testset, batch_size=wandb.config.batch_size,   shuffle = False)\n",
        "\n",
        "# cross entropy loss function\n",
        "loss_function = nn.CrossEntropyLoss()\n",
        "\n",
        "# device \n",
        "model = CIFAR10CNN1()\n",
        "\n",
        "def init_weights(m):\n",
        "  if type(m) == nn.Conv2d:\n",
        "        torch.nn.init.kaiming_normal_(m.weight)\n",
        "        torch.nn.init.zeros_(m.bias)\n",
        "\n",
        "        \n",
        "# apply initialization recursively  to all modules\n",
        "# model.apply(init_weights)\n",
        "\n",
        "wandb.config.init_weights = init_weights\n",
        "\n",
        "# put model to GPUs\n",
        "model.to(wandb.config.device)\n",
        "\n",
        "# Intialize stochiastic gradient descent optimizer\n",
        "optimizer = torch.optim.SGD(model.parameters(), lr = wandb.config.learning_rate, weight_decay=wandb.config.weight_decay, momentum = 0.9)\n",
        "# optimizer = torch.optim.Adam(model.parameters(), lr = wandb.config.learning_rate, weight_decay=wandb.config.weight_decay)\n",
        "# optimizer = torch.optim.RMSprop(model.parameters(), lr=wandb.config.learning_rate,weight_decay=wandb.config.weight_decay, momentum=0.9)\n",
        "\n",
        "wandb.config.optimizer = optimizer\n",
        "\n",
        "# scheduler = ReduceLROnPlateau(optimizer, mode='min', factor= wandb.config.scheduler_factor, \n",
        "                              # patience=wandb.config.scheduler_patience, verbose=True)\n",
        "\n",
        "scheduler = torch.optim.lr_scheduler.OneCycleLR(optimizer, max_lr=0.1, total_steps=len(train_loader) * 10 , epochs=10, three_phase=True)\n",
        "\n",
        "#scheduler = StepLR(optimizer, gamma=0.4,step_size=1, verbose=True)"
      ],
      "execution_count": null,
      "outputs": []
    },
    {
      "cell_type": "code",
      "metadata": {
        "colab": {
          "base_uri": "https://localhost:8080/"
        },
        "id": "1FmtA6pDYgqL",
        "outputId": "33f68f77-9dd2-42f6-bfdb-9415a509c4d8"
      },
      "source": [
        "# Fix seed value\n",
        "\n",
        "SEED = 2345 \n",
        "random.seed(SEED)\n",
        "np.random.seed(SEED)\n",
        "torch.manual_seed(SEED)\n",
        "torch.cuda.manual_seed(SEED)\n",
        "torch.backends.cudnn.deterministic = True\n",
        "\n",
        "for input, targets in train_loader:\n",
        "  \n",
        "  # move inputs and outputs to GPUs\n",
        "  input = input.to(device)\n",
        "  targets = targets.to(device)\n",
        "  model.eval()\n",
        "  # Forward pass\n",
        "  output = model(input)\n",
        "  loss = loss_function(output, targets)\n",
        "  print(f'Actual loss: {loss}')\n",
        "  break\n",
        "\n",
        "print(f'Expected Theoretical loss: {np.log(10)}')\n",
        "\n"
      ],
      "execution_count": null,
      "outputs": [
        {
          "name": "stdout",
          "output_type": "stream",
          "text": [
            "Actual loss: 2.3019375801086426\n",
            "Expected Theoretical loss: 2.302585092994046\n"
          ]
        }
      ]
    },
    {
      "cell_type": "markdown",
      "metadata": {
        "id": "hk-rh_cnYgqL"
      },
      "source": [
        "## Training and Saving Model"
      ]
    },
    {
      "cell_type": "code",
      "metadata": {
        "colab": {
          "base_uri": "https://localhost:8080/"
        },
        "id": "aXFqrOllYgqL",
        "outputId": "659dc131-5aa6-4d99-c832-ad5c9dec9b31"
      },
      "source": [
        "wandb.watch(model, log = 'all', log_freq=25, log_graph=True)"
      ],
      "execution_count": null,
      "outputs": [
        {
          "name": "stderr",
          "output_type": "stream",
          "text": [
            "\u001b[34m\u001b[1mwandb\u001b[0m: logging graph, to disable use `wandb.watch(log_graph=False)`\n"
          ]
        },
        {
          "data": {
            "text/plain": [
              "[<wandb.wandb_torch.TorchGraph at 0x7f86b7207a90>]"
            ]
          },
          "execution_count": 36,
          "metadata": {},
          "output_type": "execute_result"
        }
      ]
    },
    {
      "cell_type": "code",
      "metadata": {
        "colab": {
          "base_uri": "https://localhost:8080/"
        },
        "id": "6IsdXULKYgqL",
        "outputId": "52d0d918-41ed-4215-8e05-2d83e8d700be"
      },
      "source": [
        "example_ct_train, batch_ct_train, example_ct_valid, batch_ct_valid = 0, 0, 0, 0\n",
        "train_loss_history, train_acc_history, valid_loss_history, valid_acc_history = train_loop(train_loader, valid_loader, model, loss_function, optimizer, \n",
        "                                                                                          wandb.config.epochs, wandb.config.device,\n",
        "                                                                                          wandb.config.patience, wandb.config.early_stopping,\n",
        "                                                                                          wandb.config.file_model)"
      ],
      "execution_count": null,
      "outputs": [
        {
          "name": "stdout",
          "output_type": "stream",
          "text": [
            "Learning rate: [0.006614526851829006]\n",
            "Learning rate: [0.014272463088775028]\n",
            "Learning rate: [0.026123052998520413]\n",
            "Validation loss has decreased (inf --> 1.564840). Saving Model...\n",
            "Epoch : 1 / 5\n",
            "Time to complete 1 is 0:03:19.337535\n",
            "Learning rate: [0.02804642345947317]\n",
            "Train Loss:  2.0434 | Train Accuracy:  23.7525%\n",
            "Valid Loss:  1.5648 | Valid Accuracy:  43.7800%\n",
            "\n",
            "Learning rate: [0.040849342881520805]\n",
            "Learning rate: [0.05681480307219131]\n",
            "Learning rate: [0.07224519515513114]\n",
            "Validation loss has decreased (1.564840 --> 1.236263). Saving model...\n",
            "Epoch : 2 / 5\n",
            "Time to complete 2 is 0:03:16.895490\n",
            "Learning rate: [0.07609275712154677]\n",
            "Train Loss:  1.3420 | Train Accuracy:  52.0000%\n",
            "Valid Loss:  1.2363 | Valid Accuracy:  57.7500%\n",
            "\n",
            "Learning rate: [0.08542574272732459]\n",
            "Learning rate: [0.09489169415873297]\n",
            "Learning rate: [0.0995911001495962]\n",
            "Validation loss has decreased (1.236263 --> 1.021881). Saving model...\n",
            "Epoch : 3 / 5\n",
            "Time to complete 3 is 0:03:16.003670\n",
            "Learning rate: [0.09999973078149742]\n",
            "Train Loss:  1.0091 | Train Accuracy:  64.5125%\n",
            "Valid Loss:  1.0219 | Valid Accuracy:  63.4700%\n",
            "\n",
            "Learning rate: [0.0990017166468787]\n",
            "Learning rate: [0.09318904172200693]\n",
            "Learning rate: [0.08279903678321958]\n",
            "Validation loss has decreased (1.021881 --> 0.826799). Saving model...\n",
            "Epoch : 4 / 5\n",
            "Time to complete 4 is 0:03:18.497253\n",
            "Learning rate: [0.07581412726175658]\n",
            "Train Loss:  0.7839 | Train Accuracy:  72.8100%\n",
            "Valid Loss:  0.8268 | Valid Accuracy:  71.1200%\n",
            "\n",
            "Learning rate: [0.06898634101275411]\n",
            "Learning rate: [0.053285956544186636]\n",
            "Learning rate: [0.03744266398064515]\n",
            "Validation loss has decreased (0.826799 --> 0.802143). Saving model...\n",
            "Epoch : 5 / 5\n",
            "Time to complete 5 is 0:03:16.898263\n",
            "Learning rate: [0.02776833255643314]\n",
            "Train Loss:  0.5129 | Train Accuracy:  82.2275%\n",
            "Valid Loss:  0.8021 | Valid Accuracy:  73.7900%\n",
            "\n"
          ]
        }
      ]
    },
    {
      "cell_type": "code",
      "metadata": {
        "id": "02NejoBgYfyw"
      },
      "source": [
        ""
      ],
      "execution_count": null,
      "outputs": []
    },
    {
      "cell_type": "markdown",
      "metadata": {
        "id": "DzDXSvbNeOrp"
      },
      "source": [
        "#Model 2 -  Channel Size Increased\n"
      ]
    },
    {
      "cell_type": "markdown",
      "metadata": {
        "id": "9uylJhUTeOrp"
      },
      "source": [
        "## CNN Model Class"
      ]
    },
    {
      "cell_type": "code",
      "metadata": {
        "id": "zwKdXnqkeOrq"
      },
      "source": [
        "class CIFAR10CNN2(nn.Module):\n",
        "    \n",
        "    def __init__(self):\n",
        "\n",
        "      super().__init__()\n",
        "\n",
        "      super(CIFAR10CNN2, self).__init__()\n",
        "      \n",
        "      self.conv1_layer = nn.Sequential(\n",
        "          nn.Conv2d(in_channels=3, out_channels=128, kernel_size=3, padding='same'), # 32*32\n",
        "          nn.ReLU(),\n",
        "          nn.Conv2d(in_channels=128, out_channels=128, kernel_size=3, padding='same'), #32*32\n",
        "          nn.ReLU(),\n",
        "          nn.MaxPool2d(kernel_size=2, stride = 2), # 16*16\n",
        "          \n",
        "      )\n",
        "\n",
        "      self.conv2_layer = nn.Sequential(\n",
        "          nn.Conv2d(in_channels=128, out_channels=512, kernel_size=3, padding='same'), #16*16\n",
        "          nn.ReLU(),\n",
        "          nn.Conv2d(in_channels=512, out_channels=512, kernel_size=3, padding='same'), #16*16\n",
        "          nn.ReLU(),\n",
        "          nn.MaxPool2d(kernel_size=2, stride = 2), # 8*8\n",
        "      )\n",
        "\n",
        "\n",
        "      self.flatten = nn.Flatten()\n",
        "      \n",
        "      self.fc1 = nn.Linear(512*8*8, out_features=1024)\n",
        "      self.fc2 = nn.Linear(1024, out_features=512)\n",
        "      self.fc3 = nn.Linear(512, out_features=10)\n",
        "      \n",
        "      \n",
        "      \n",
        "    def forward(self, x):\n",
        "        # conv layers\n",
        "        out = self.conv1_layer(x)\n",
        "        out = self.conv2_layer(out)\n",
        "\n",
        "        # flatten befrore input to linear layer\n",
        "        out = self.flatten(out)\n",
        "        # linear hidden layers\n",
        "        out = F.relu(self.fc1(out))\n",
        "        out = F.relu(self.fc2(out))\n",
        "        # output layer - no softmax as it is applied by nn.CrossEntropyLoss\n",
        "\n",
        "        out = self.fc3(out)\n",
        "        \n",
        "        return out"
      ],
      "execution_count": null,
      "outputs": []
    },
    {
      "cell_type": "code",
      "metadata": {
        "colab": {
          "base_uri": "https://localhost:8080/"
        },
        "id": "IqDkNoskeOrq",
        "outputId": "fdfa9f87-23a9-4441-d17f-a009beba4f75"
      },
      "source": [
        "summary(CIFAR10CNN2().cuda(), (3, 32, 32))"
      ],
      "execution_count": null,
      "outputs": [
        {
          "name": "stdout",
          "output_type": "stream",
          "text": [
            "----------------------------------------------------------------\n",
            "        Layer (type)               Output Shape         Param #\n",
            "================================================================\n",
            "            Conv2d-1          [-1, 128, 32, 32]           3,584\n",
            "              ReLU-2          [-1, 128, 32, 32]               0\n",
            "            Conv2d-3          [-1, 128, 32, 32]         147,584\n",
            "              ReLU-4          [-1, 128, 32, 32]               0\n",
            "         MaxPool2d-5          [-1, 128, 16, 16]               0\n",
            "            Conv2d-6          [-1, 512, 16, 16]         590,336\n",
            "              ReLU-7          [-1, 512, 16, 16]               0\n",
            "            Conv2d-8          [-1, 512, 16, 16]       2,359,808\n",
            "              ReLU-9          [-1, 512, 16, 16]               0\n",
            "        MaxPool2d-10            [-1, 512, 8, 8]               0\n",
            "          Flatten-11                [-1, 32768]               0\n",
            "           Linear-12                 [-1, 1024]      33,555,456\n",
            "           Linear-13                  [-1, 512]         524,800\n",
            "           Linear-14                   [-1, 10]           5,130\n",
            "================================================================\n",
            "Total params: 37,186,698\n",
            "Trainable params: 37,186,698\n",
            "Non-trainable params: 0\n",
            "----------------------------------------------------------------\n",
            "Input size (MB): 0.01\n",
            "Forward/backward pass size (MB): 8.76\n",
            "Params size (MB): 141.86\n",
            "Estimated Total Size (MB): 150.63\n",
            "----------------------------------------------------------------\n"
          ]
        }
      ]
    },
    {
      "cell_type": "markdown",
      "metadata": {
        "id": "wrrlNPlweOrt"
      },
      "source": [
        "## HyperParameter"
      ]
    },
    {
      "cell_type": "code",
      "metadata": {
        "id": "vO4_ZMeheOrt"
      },
      "source": [
        "hyperparameters = dict(\n",
        "    epochs = 5,\n",
        "    output_dim = 10, \n",
        "    batch_size = 128,\n",
        "    learning_rate = 0.03,\n",
        "    dataset=\"CIFAR10\",\n",
        "    architecture=\"CNN\",\n",
        "    log_interval = 100,\n",
        "    log_batch = True,\n",
        "    file_model = data_folder/'exp3.pt',\n",
        "    grad_clipping = False,\n",
        "    max_norm = 0,\n",
        "    patience = 0 ,\n",
        "    early_stopping = False,\n",
        "    weight_decay = 0,\n",
        "    scheduler_factor = 0,\n",
        "    scheduler_patience = 0,\n",
        "   )\n",
        "\n",
        "device = torch.device('cuda:0' if torch.cuda.is_available() else 'cpu')"
      ],
      "execution_count": null,
      "outputs": []
    },
    {
      "cell_type": "markdown",
      "metadata": {
        "id": "E_sNVeQaeOrt"
      },
      "source": [
        "## Intialize wandb"
      ]
    },
    {
      "cell_type": "code",
      "metadata": {
        "colab": {
          "base_uri": "https://localhost:8080/",
          "height": 435,
          "referenced_widgets": [
            "5ccbed4bce564c5184590c721009514a",
            "a0cc6892ae914c4594f6ffa694cd3967",
            "6bf32e8ea5dd48ec947f2597c68edc1e",
            "7cd476c1adae447f900c98d95f795122",
            "a7e7733a5cfb436496f27b27fcfc1a94",
            "f9736422baa448618b87eee21a4db7d1",
            "5f80cd85cc4c493eabe228ebbf5198ea",
            "0edc54e3cefc467b806976a6764fa7c5"
          ]
        },
        "id": "DWsQxoHIeOrt",
        "outputId": "505f5351-49b3-44d8-95ac-8d18aaa9e148"
      },
      "source": [
        "wandb.init(name = 'Exp2_LR(0.03)+NewChannelSizeIncr', project = 'CNN_Experiment_Neetika', config = hyperparameters)"
      ],
      "execution_count": null,
      "outputs": [
        {
          "data": {
            "text/html": [
              "Finishing last run (ID:1gssjbt3) before initializing another..."
            ],
            "text/plain": [
              "<IPython.core.display.HTML object>"
            ]
          },
          "metadata": {},
          "output_type": "display_data"
        },
        {
          "data": {
            "text/html": [
              "<br/>Waiting for W&B process to finish, PID 1443... <strong style=\"color:green\">(success).</strong>"
            ],
            "text/plain": [
              "<IPython.core.display.HTML object>"
            ]
          },
          "metadata": {},
          "output_type": "display_data"
        },
        {
          "data": {
            "application/vnd.jupyter.widget-view+json": {
              "model_id": "5ccbed4bce564c5184590c721009514a",
              "version_major": 2,
              "version_minor": 0
            },
            "text/plain": [
              "VBox(children=(Label(value=' 0.00MB of 0.00MB uploaded (0.00MB deduped)\\r'), FloatProgress(value=1.0, max=1.0)…"
            ]
          },
          "metadata": {},
          "output_type": "display_data"
        },
        {
          "data": {
            "text/html": [
              "<style>\n",
              "    table.wandb td:nth-child(1) { padding: 0 10px; text-align: right }\n",
              "    .wandb-row { display: flex; flex-direction: row; flex-wrap: wrap; width: 100% }\n",
              "    .wandb-col { display: flex; flex-direction: column; flex-basis: 100%; flex: 1; padding: 10px; }\n",
              "    </style>\n",
              "<div class=\"wandb-row\"><div class=\"wandb-col\">\n",
              "<h3>Run history:</h3><br/><table class=\"wandb\"><tr><td>Train Batch Acc :</td><td>▁▁▄▃▃▅▆▆▆▇▇▆██▇</td></tr><tr><td>Train Batch Loss  :</td><td>█▇▅▅▅▄▃▃▃▂▂▃▁▂▂</td></tr><tr><td>Train epoch Acc :</td><td>▁▄▆▇█</td></tr><tr><td>Train epoch Loss :</td><td>█▅▃▂▁</td></tr><tr><td>Valid Batch Accuracy :</td><td>▁▃█</td></tr><tr><td>Valid Batch Loss  :</td><td>█▅▁</td></tr><tr><td>Valid epoch Acc :</td><td>▁▄▆▇█</td></tr><tr><td>Valid epoch Loss :</td><td>█▅▃▂▁</td></tr></table><br/></div><div class=\"wandb-col\">\n",
              "<h3>Run summary:</h3><br/><table class=\"wandb\"><tr><td>Train Batch Acc :</td><td>0.74219</td></tr><tr><td>Train Batch Loss  :</td><td>0.69995</td></tr><tr><td>Train epoch Acc :</td><td>0.77587</td></tr><tr><td>Train epoch Loss :</td><td>0.64493</td></tr><tr><td>Valid Batch Accuracy :</td><td>0.76562</td></tr><tr><td>Valid Batch Loss  :</td><td>0.7739</td></tr><tr><td>Valid epoch Acc :</td><td>0.7514</td></tr><tr><td>Valid epoch Loss :</td><td>0.70155</td></tr></table>\n",
              "</div></div>\n",
              "Synced 5 W&B file(s), 1 media file(s), 0 artifact file(s) and 0 other file(s)\n",
              "<br/>Synced <strong style=\"color:#cdcd00\">Exp2_LR(0.03)+NewChannelSizeIncr</strong>: <a href=\"https://wandb.ai/neetika/CNN_Experiment_Neetika/runs/1gssjbt3\" target=\"_blank\">https://wandb.ai/neetika/CNN_Experiment_Neetika/runs/1gssjbt3</a><br/>\n",
              "Find logs at: <code>./wandb/run-20211114_052932-1gssjbt3/logs</code><br/>\n"
            ],
            "text/plain": [
              "<IPython.core.display.HTML object>"
            ]
          },
          "metadata": {},
          "output_type": "display_data"
        },
        {
          "data": {
            "text/html": [
              "Successfully finished last run (ID:1gssjbt3). Initializing new run:<br/>"
            ],
            "text/plain": [
              "<IPython.core.display.HTML object>"
            ]
          },
          "metadata": {},
          "output_type": "display_data"
        },
        {
          "data": {
            "text/html": [
              "\n",
              "                    Syncing run <strong><a href=\"https://wandb.ai/neetika/CNN_Experiment_Neetika/runs/36ohtkat\" target=\"_blank\">Exp2_LR(0.03)+NewChannelSizeIncr</a></strong> to <a href=\"https://wandb.ai/neetika/CNN_Experiment_Neetika\" target=\"_blank\">Weights & Biases</a> (<a href=\"https://docs.wandb.com/integrations/jupyter.html\" target=\"_blank\">docs</a>).<br/>\n",
              "\n",
              "                "
            ],
            "text/plain": [
              "<IPython.core.display.HTML object>"
            ]
          },
          "metadata": {},
          "output_type": "display_data"
        },
        {
          "data": {
            "text/html": [
              "<button onClick=\"this.nextSibling.style.display='block';this.style.display='none';\">Display W&B run</button><iframe src=\"https://wandb.ai/neetika/CNN_Experiment_Neetika/runs/36ohtkat?jupyter=true\" style=\"border:none;width:100%;height:420px;display:none;\"></iframe>"
            ],
            "text/plain": [
              "<wandb.sdk.wandb_run.Run at 0x7f2dedf03390>"
            ]
          },
          "execution_count": 128,
          "metadata": {},
          "output_type": "execute_result"
        }
      ]
    },
    {
      "cell_type": "code",
      "metadata": {
        "colab": {
          "base_uri": "https://localhost:8080/"
        },
        "id": "uDDIHNAyeOru",
        "outputId": "a92cf45f-e5a7-4519-e0d3-4978fb1680e3"
      },
      "source": [
        "wandb.config.device = device\n",
        "print(wandb.config.device )"
      ],
      "execution_count": null,
      "outputs": [
        {
          "name": "stdout",
          "output_type": "stream",
          "text": [
            "cuda:0\n"
          ]
        }
      ]
    },
    {
      "cell_type": "markdown",
      "metadata": {
        "id": "7N1rhkETeOru"
      },
      "source": [
        "## Specify Dataloader, Loss_function, Model, Optimizer, Weight Initialization"
      ]
    },
    {
      "cell_type": "code",
      "metadata": {
        "id": "hZU6L8fqeOru"
      },
      "source": [
        "# Fix seed value\n",
        "SEED = 2345\n",
        "random.seed(SEED)\n",
        "np.random.seed(SEED)\n",
        "torch.manual_seed(SEED)\n",
        "torch.cuda.manual_seed(SEED)\n",
        "torch.backends.cudnn.deterministic = True\n",
        "\n",
        "# Data Loader\n",
        "train_loader = torch.utils.data.DataLoader(train_subset, batch_size=wandb.config.batch_size, shuffle = True)\n",
        "valid_loader = torch.utils.data.DataLoader(valid_subset, batch_size=wandb.config.batch_size, shuffle = False)\n",
        "test_loader = torch.utils.data.DataLoader(testset, batch_size=wandb.config.batch_size,   shuffle = False)\n",
        "\n",
        "# cross entropy loss function\n",
        "loss_function = nn.CrossEntropyLoss()\n",
        "\n",
        "# device \n",
        "model = CIFAR10CNN2()\n",
        "\n",
        "def init_weights(m):\n",
        "  if type(m) == nn.Conv2d:\n",
        "        torch.nn.init.kaiming_normal_(m.weight)\n",
        "        torch.nn.init.zeros_(m.bias)\n",
        "\n",
        "        \n",
        "# apply initialization recursively  to all modules\n",
        "# model.apply(init_weights)\n",
        "\n",
        "wandb.config.init_weights = init_weights\n",
        "\n",
        "# put model to GPUs\n",
        "model.to(wandb.config.device)\n",
        "\n",
        "# Intialize stochiastic gradient descent optimizer\n",
        "optimizer = torch.optim.SGD(model.parameters(), lr = wandb.config.learning_rate, weight_decay=wandb.config.weight_decay, momentum = 0.9)\n",
        "# optimizer = torch.optim.Adam(model.parameters(), lr = wandb.config.learning_rate, weight_decay=wandb.config.weight_decay)\n",
        "\n",
        "wandb.config.optimizer = optimizer\n",
        "\n",
        "# scheduler = ReduceLROnPlateau(optimizer, mode='min', factor= wandb.config.scheduler_factor, \n",
        "                              # patience=wandb.config.scheduler_patience, verbose=True)\n",
        "\n",
        "# scheduler = torch.optim.lr_scheduler.OneCycleLR(optimizer, max_lr=0.1, total_steps=len(train_loader) * 10 , epochs=10, three_phase=True)\n",
        "\n",
        "#scheduler = StepLR(optimizer, gamma=0.4,step_size=1, verbose=True)"
      ],
      "execution_count": null,
      "outputs": []
    },
    {
      "cell_type": "code",
      "metadata": {
        "colab": {
          "base_uri": "https://localhost:8080/"
        },
        "id": "qcgz4tjceOrv",
        "outputId": "f9f1eb6b-54be-4601-a24e-7f09c0a1445e"
      },
      "source": [
        "# Fix seed value\n",
        "\n",
        "SEED = 2345 \n",
        "random.seed(SEED)\n",
        "np.random.seed(SEED)\n",
        "torch.manual_seed(SEED)\n",
        "torch.cuda.manual_seed(SEED)\n",
        "torch.backends.cudnn.deterministic = True\n",
        "\n",
        "for input, targets in train_loader:\n",
        "  \n",
        "  # move inputs and outputs to GPUs\n",
        "  input = input.to(device)\n",
        "  targets = targets.to(device)\n",
        "  model.eval()\n",
        "  # Forward pass\n",
        "  output = model(input)\n",
        "  loss = loss_function(output, targets)\n",
        "  print(f'Actual loss: {loss}')\n",
        "  break\n",
        "\n",
        "print(f'Expected Theoretical loss: {np.log(10)}')\n",
        "\n"
      ],
      "execution_count": null,
      "outputs": [
        {
          "name": "stdout",
          "output_type": "stream",
          "text": [
            "Actual loss: 2.30287504196167\n",
            "Expected Theoretical loss: 2.302585092994046\n"
          ]
        }
      ]
    },
    {
      "cell_type": "markdown",
      "metadata": {
        "id": "M-AfaQR0eOrv"
      },
      "source": [
        "## Training and Saving Model"
      ]
    },
    {
      "cell_type": "code",
      "metadata": {
        "colab": {
          "base_uri": "https://localhost:8080/"
        },
        "id": "ImnjEYyqeOrv",
        "outputId": "9574aba5-52d4-4757-c661-d1cdd8ff1a11"
      },
      "source": [
        "wandb.watch(model, log = 'all', log_freq=25, log_graph=True)"
      ],
      "execution_count": null,
      "outputs": [
        {
          "name": "stderr",
          "output_type": "stream",
          "text": [
            "\u001b[34m\u001b[1mwandb\u001b[0m: logging graph, to disable use `wandb.watch(log_graph=False)`\n"
          ]
        },
        {
          "data": {
            "text/plain": [
              "[<wandb.wandb_torch.TorchGraph at 0x7f2dee009e10>]"
            ]
          },
          "execution_count": 131,
          "metadata": {},
          "output_type": "execute_result"
        }
      ]
    },
    {
      "cell_type": "code",
      "metadata": {
        "colab": {
          "base_uri": "https://localhost:8080/"
        },
        "id": "ABZVxzUseOrv",
        "outputId": "9c0f05fb-b110-4a40-a00b-33f6462ec6ab"
      },
      "source": [
        "example_ct_train, batch_ct_train, example_ct_valid, batch_ct_valid = 0, 0, 0, 0\n",
        "train_loss_history, train_acc_history, valid_loss_history, valid_acc_history = train_loop(train_loader, valid_loader, model, loss_function, optimizer, \n",
        "                                                                                          wandb.config.epochs, wandb.config.device,\n",
        "                                                                                          wandb.config.patience, wandb.config.early_stopping,\n",
        "                                                                                          wandb.config.file_model)"
      ],
      "execution_count": null,
      "outputs": [
        {
          "name": "stdout",
          "output_type": "stream",
          "text": [
            "Validation loss has decreased (inf --> 1.229793). Saving Model...\n",
            "Epoch : 1 / 5\n",
            "Time to complete 1 is 0:01:05.161604\n",
            "Train Loss:  1.6498 | Train Accuracy:  39.1775%\n",
            "Valid Loss:  1.2298 | Valid Accuracy:  55.6300%\n",
            "\n",
            "Validation loss has decreased (1.229793 --> 0.880920). Saving model...\n",
            "Epoch : 2 / 5\n",
            "Time to complete 2 is 0:01:06.475897\n",
            "Train Loss:  1.0248 | Train Accuracy:  63.6450%\n",
            "Valid Loss:  0.8809 | Valid Accuracy:  68.7200%\n",
            "\n",
            "Validation loss has decreased (0.880920 --> 0.714982). Saving model...\n",
            "Epoch : 3 / 5\n",
            "Time to complete 3 is 0:01:06.326808\n",
            "Train Loss:  0.7239 | Train Accuracy:  74.7900%\n",
            "Valid Loss:  0.7150 | Valid Accuracy:  75.0200%\n",
            "\n",
            "Validation loss has not decreased (0.714982 --> 0.748220). Not Saving Model...\n",
            "Epoch : 4 / 5\n",
            "Time to complete 4 is 0:01:05.369591\n",
            "Train Loss:  0.4829 | Train Accuracy:  83.0550%\n",
            "Valid Loss:  0.7482 | Valid Accuracy:  74.5200%\n",
            "\n",
            "Validation loss has not decreased (0.714982 --> 0.759010). Not Saving Model...\n",
            "Epoch : 5 / 5\n",
            "Time to complete 5 is 0:01:06.129716\n",
            "Train Loss:  0.2834 | Train Accuracy:  90.1125%\n",
            "Valid Loss:  0.7590 | Valid Accuracy:  76.2800%\n",
            "\n"
          ]
        }
      ]
    },
    {
      "cell_type": "code",
      "metadata": {
        "id": "cRrQURpgYfdQ"
      },
      "source": [
        ""
      ],
      "execution_count": null,
      "outputs": []
    },
    {
      "cell_type": "markdown",
      "metadata": {
        "id": "bXFhFQVBSCj5"
      },
      "source": [
        "# Model 3- Increasing Layer\n",
        "\n",
        "SGD\n",
        "OneCycleLR"
      ]
    },
    {
      "cell_type": "markdown",
      "metadata": {
        "id": "GSEb1kT-ifcf"
      },
      "source": [
        "## CNN Model Class"
      ]
    },
    {
      "cell_type": "code",
      "metadata": {
        "id": "rMCaKWcoei4I"
      },
      "source": [
        "class CIFAR10CNN3(nn.Module):\n",
        "    \n",
        "    def __init__(self):\n",
        "\n",
        "      super().__init__()\n",
        "\n",
        "      super(CIFAR10CNN3, self).__init__()\n",
        "      \n",
        "      self.conv1_layer = nn.Sequential(\n",
        "          nn.Conv2d(in_channels=3, out_channels=128, kernel_size=5, padding='same'), # 32*32\n",
        "          nn.ReLU(),\n",
        "          nn.Conv2d(in_channels=128, out_channels=128, kernel_size=5, padding='same'), #32 *32\n",
        "          nn.ReLU(),\n",
        "          nn.MaxPool2d(kernel_size=2, stride = 2), # 16 * 16\n",
        "          \n",
        "      )\n",
        "\n",
        "      self.conv2_layer = nn.Sequential(\n",
        "          nn.Conv2d(in_channels=128, out_channels=256, kernel_size=3, padding='same'), #16*16\n",
        "          nn.ReLU(),\n",
        "          nn.Conv2d(in_channels=256, out_channels=256, kernel_size=3, padding='same'), #16*16\n",
        "          nn.ReLU(),\n",
        "          nn.MaxPool2d(kernel_size=2, stride = 2), # 8 * 8\n",
        "      )\n",
        "      self.conv3_layer = nn.Sequential(\n",
        "          nn.Conv2d(in_channels=256, out_channels=512, kernel_size=5, padding='same'), #8*8\n",
        "          nn.ReLU(),\n",
        "          nn.Conv2d(in_channels=512, out_channels=512, kernel_size=5, padding='same'), #8*8\n",
        "          nn.ReLU(),\n",
        "          nn.MaxPool2d(kernel_size=2, stride = 2), # 4*4\n",
        "      )\n",
        "\n",
        "\n",
        "      self.flatten = nn.Flatten()\n",
        "      \n",
        "      self.fc1 = nn.Linear(512*4*4, out_features=1024)\n",
        "      self.fc2 = nn.Linear(1024, out_features=512)\n",
        "      self.fc3 = nn.Linear(512, out_features=10)\n",
        "      \n",
        "      \n",
        "    def forward(self, x):\n",
        "        # conv layers\n",
        "        out = self.conv1_layer(x)\n",
        "        out = self.conv2_layer(out)\n",
        "        out = self.conv3_layer(out)\n",
        "\n",
        "        # flatten befrore input to linear layer\n",
        "        out = self.flatten(out)\n",
        "        # linear hidden layers\n",
        "        out = F.relu(self.fc1(out))\n",
        "        out = F.relu(self.fc2(out))\n",
        "\n",
        "        # output layer - no softmax as it is applied by nn.CrossEntropyLoss\n",
        "\n",
        "        out = self.fc3(out)\n",
        "        \n",
        "        return out"
      ],
      "execution_count": null,
      "outputs": []
    },
    {
      "cell_type": "code",
      "metadata": {
        "colab": {
          "base_uri": "https://localhost:8080/"
        },
        "id": "TLE86OT8cjOg",
        "outputId": "405ba963-5cd2-442e-e95a-e369a0688a38"
      },
      "source": [
        "summary(CIFAR10CNN3().cuda(), (3, 32, 32))"
      ],
      "execution_count": null,
      "outputs": [
        {
          "name": "stdout",
          "output_type": "stream",
          "text": [
            "----------------------------------------------------------------\n",
            "        Layer (type)               Output Shape         Param #\n",
            "================================================================\n",
            "            Conv2d-1          [-1, 128, 32, 32]           9,728\n",
            "              ReLU-2          [-1, 128, 32, 32]               0\n",
            "            Conv2d-3          [-1, 128, 32, 32]         409,728\n",
            "              ReLU-4          [-1, 128, 32, 32]               0\n",
            "         MaxPool2d-5          [-1, 128, 16, 16]               0\n",
            "            Conv2d-6          [-1, 256, 16, 16]         295,168\n",
            "              ReLU-7          [-1, 256, 16, 16]               0\n",
            "            Conv2d-8          [-1, 256, 16, 16]         590,080\n",
            "              ReLU-9          [-1, 256, 16, 16]               0\n",
            "        MaxPool2d-10            [-1, 256, 8, 8]               0\n",
            "           Conv2d-11            [-1, 512, 8, 8]       3,277,312\n",
            "             ReLU-12            [-1, 512, 8, 8]               0\n",
            "           Conv2d-13            [-1, 512, 8, 8]       6,554,112\n",
            "             ReLU-14            [-1, 512, 8, 8]               0\n",
            "        MaxPool2d-15            [-1, 512, 4, 4]               0\n",
            "          Flatten-16                 [-1, 8192]               0\n",
            "           Linear-17                 [-1, 1024]       8,389,632\n",
            "           Linear-18                  [-1, 512]         524,800\n",
            "           Linear-19                   [-1, 10]           5,130\n",
            "================================================================\n",
            "Total params: 20,055,690\n",
            "Trainable params: 20,055,690\n",
            "Non-trainable params: 0\n",
            "----------------------------------------------------------------\n",
            "Input size (MB): 0.01\n",
            "Forward/backward pass size (MB): 7.51\n",
            "Params size (MB): 76.51\n",
            "Estimated Total Size (MB): 84.03\n",
            "----------------------------------------------------------------\n"
          ]
        }
      ]
    },
    {
      "cell_type": "markdown",
      "metadata": {
        "id": "HA5SP_mx77sr"
      },
      "source": [
        "## HyperParameter"
      ]
    },
    {
      "cell_type": "code",
      "metadata": {
        "id": "Lc-HIDVkejD-"
      },
      "source": [
        "hyperparameters = dict(\n",
        "    epochs = 5,\n",
        "    output_dim = 10, \n",
        "    batch_size = 128,\n",
        "    learning_rate = 0.03,\n",
        "    dataset=\"CIFAR10\",\n",
        "    architecture=\"CNN\",\n",
        "    log_interval = 100,\n",
        "    log_batch = True,\n",
        "    file_model = data_folder/'exp3.pt',\n",
        "    grad_clipping = False,\n",
        "    max_norm = 0,\n",
        "    patience = 0 ,\n",
        "    early_stopping = False,\n",
        "    weight_decay = 0,\n",
        "    scheduler_factor = 0.5,\n",
        "    scheduler_patience = 0,\n",
        "   )\n",
        "\n",
        "device = torch.device('cuda:0' if torch.cuda.is_available() else 'cpu')"
      ],
      "execution_count": null,
      "outputs": []
    },
    {
      "cell_type": "markdown",
      "metadata": {
        "id": "708m77gs8AzL"
      },
      "source": [
        "## Intialize wandb"
      ]
    },
    {
      "cell_type": "code",
      "metadata": {
        "colab": {
          "base_uri": "https://localhost:8080/",
          "height": 435,
          "referenced_widgets": [
            "cfa9fb43ab2f4fc9b7a6cf1de0e4f34b",
            "ba143c1a41ac4ff9a15618ae45353737",
            "fa5ee6c9ce284e018c981410b47a692c",
            "8349c280120d40da824120f1356f72b2",
            "80f1fb47a58b4fdc8f3d4c7433968e96",
            "006da18ba0db4a05b40dcad1ed875338",
            "9503b71f6aad4fea9334ab40218418de",
            "0515647279ae4c61a23d42c7bc1fd2fb"
          ]
        },
        "id": "HaZfpHanejGO",
        "outputId": "824aa3e8-1f56-4ad4-9f7f-cd41b09a695a"
      },
      "source": [
        "wandb.init(name = 'Exp3_IncreasingLayer', project = 'CNN_Experiment_Neetika', config = hyperparameters)"
      ],
      "execution_count": null,
      "outputs": [
        {
          "data": {
            "text/html": [
              "Finishing last run (ID:1levcaxg) before initializing another..."
            ],
            "text/plain": [
              "<IPython.core.display.HTML object>"
            ]
          },
          "metadata": {},
          "output_type": "display_data"
        },
        {
          "data": {
            "text/html": [
              "<br/>Waiting for W&B process to finish, PID 841... <strong style=\"color:green\">(success).</strong>"
            ],
            "text/plain": [
              "<IPython.core.display.HTML object>"
            ]
          },
          "metadata": {},
          "output_type": "display_data"
        },
        {
          "data": {
            "application/vnd.jupyter.widget-view+json": {
              "model_id": "cfa9fb43ab2f4fc9b7a6cf1de0e4f34b",
              "version_major": 2,
              "version_minor": 0
            },
            "text/plain": [
              "VBox(children=(Label(value=' 0.00MB of 0.00MB uploaded (0.00MB deduped)\\r'), FloatProgress(value=1.0, max=1.0)…"
            ]
          },
          "metadata": {},
          "output_type": "display_data"
        },
        {
          "data": {
            "text/html": [
              "<style>\n",
              "    table.wandb td:nth-child(1) { padding: 0 10px; text-align: right }\n",
              "    .wandb-row { display: flex; flex-direction: row; flex-wrap: wrap; width: 100% }\n",
              "    .wandb-col { display: flex; flex-direction: column; flex-basis: 100%; flex: 1; padding: 10px; }\n",
              "    </style>\n",
              "<div class=\"wandb-row\"><div class=\"wandb-col\">\n",
              "<h3>Run history:</h3><br/><table class=\"wandb\"><tr><td>Train Batch Acc :</td><td>▁▁▂▄▅▄▅▅▇▅▇███▇█</td></tr><tr><td>Train Batch Loss  :</td><td>██▇▅▅▅▄▄▂▄▂▁▂▁▁▁</td></tr><tr><td>Train epoch Acc :</td><td>▁▄▆▇█</td></tr><tr><td>Train epoch Loss :</td><td>█▅▄▂▁</td></tr><tr><td>Valid Batch Accuracy :</td><td>▁▇█</td></tr><tr><td>Valid Batch Loss  :</td><td>█▂▁</td></tr><tr><td>Valid epoch Acc :</td><td>▁▆███</td></tr><tr><td>Valid epoch Loss :</td><td>█▄▁▂▃</td></tr></table><br/></div><div class=\"wandb-col\">\n",
              "<h3>Run summary:</h3><br/><table class=\"wandb\"><tr><td>Train Batch Acc :</td><td>0.88281</td></tr><tr><td>Train Batch Loss  :</td><td>0.31675</td></tr><tr><td>Train epoch Acc :</td><td>0.8942</td></tr><tr><td>Train epoch Loss :</td><td>0.30462</td></tr><tr><td>Valid Batch Accuracy :</td><td>0.78125</td></tr><tr><td>Valid Batch Loss  :</td><td>0.64444</td></tr><tr><td>Valid epoch Acc :</td><td>0.747</td></tr><tr><td>Valid epoch Loss :</td><td>0.81607</td></tr></table>\n",
              "</div></div>\n",
              "Synced 5 W&B file(s), 1 media file(s), 0 artifact file(s) and 0 other file(s)\n",
              "<br/>Synced <strong style=\"color:#cdcd00\">Exp2_LR(0.03)&ChannelSizeIncr</strong>: <a href=\"https://wandb.ai/neetika/CNN_Experiment_Neetika/runs/1levcaxg\" target=\"_blank\">https://wandb.ai/neetika/CNN_Experiment_Neetika/runs/1levcaxg</a><br/>\n",
              "Find logs at: <code>./wandb/run-20211114_043628-1levcaxg/logs</code><br/>\n"
            ],
            "text/plain": [
              "<IPython.core.display.HTML object>"
            ]
          },
          "metadata": {},
          "output_type": "display_data"
        },
        {
          "data": {
            "text/html": [
              "Successfully finished last run (ID:1levcaxg). Initializing new run:<br/>"
            ],
            "text/plain": [
              "<IPython.core.display.HTML object>"
            ]
          },
          "metadata": {},
          "output_type": "display_data"
        },
        {
          "data": {
            "text/html": [
              "\n",
              "                    Syncing run <strong><a href=\"https://wandb.ai/neetika/CNN_Experiment_Neetika/runs/1dyg3ycr\" target=\"_blank\">Exp3_IncreasingLayer</a></strong> to <a href=\"https://wandb.ai/neetika/CNN_Experiment_Neetika\" target=\"_blank\">Weights & Biases</a> (<a href=\"https://docs.wandb.com/integrations/jupyter.html\" target=\"_blank\">docs</a>).<br/>\n",
              "\n",
              "                "
            ],
            "text/plain": [
              "<IPython.core.display.HTML object>"
            ]
          },
          "metadata": {},
          "output_type": "display_data"
        },
        {
          "data": {
            "text/html": [
              "<button onClick=\"this.nextSibling.style.display='block';this.style.display='none';\">Display W&B run</button><iframe src=\"https://wandb.ai/neetika/CNN_Experiment_Neetika/runs/1dyg3ycr?jupyter=true\" style=\"border:none;width:100%;height:420px;display:none;\"></iframe>"
            ],
            "text/plain": [
              "<wandb.sdk.wandb_run.Run at 0x7f2df6c48310>"
            ]
          },
          "execution_count": 76,
          "metadata": {},
          "output_type": "execute_result"
        }
      ]
    },
    {
      "cell_type": "code",
      "metadata": {
        "colab": {
          "base_uri": "https://localhost:8080/"
        },
        "id": "41IdsauB5FUA",
        "outputId": "b3f37e1d-34f8-44e7-8f95-e9f65854868d"
      },
      "source": [
        "wandb.config.device = device\n",
        "print(wandb.config.device )"
      ],
      "execution_count": null,
      "outputs": [
        {
          "name": "stdout",
          "output_type": "stream",
          "text": [
            "cuda:0\n"
          ]
        }
      ]
    },
    {
      "cell_type": "markdown",
      "metadata": {
        "id": "RbuTiWR38K9x"
      },
      "source": [
        "## Specify Dataloader, Loss_function, Model, Optimizer, Weight Initialization"
      ]
    },
    {
      "cell_type": "code",
      "metadata": {
        "id": "wa9-p5rs5HBf"
      },
      "source": [
        "# Fix seed value\n",
        "SEED = 2345\n",
        "random.seed(SEED)\n",
        "np.random.seed(SEED)\n",
        "torch.manual_seed(SEED)\n",
        "torch.cuda.manual_seed(SEED)\n",
        "torch.backends.cudnn.deterministic = True\n",
        "\n",
        "# Data Loader\n",
        "train_loader = torch.utils.data.DataLoader(train_subset, batch_size=wandb.config.batch_size, shuffle = True)\n",
        "valid_loader = torch.utils.data.DataLoader(valid_subset, batch_size=wandb.config.batch_size, shuffle = False)\n",
        "test_loader = torch.utils.data.DataLoader(testset, batch_size=wandb.config.batch_size,   shuffle = False)\n",
        "\n",
        "# cross entropy loss function\n",
        "loss_function = nn.CrossEntropyLoss()\n",
        "\n",
        "# device \n",
        "model = CIFAR10CNN3()\n",
        "\n",
        "def init_weights(m):\n",
        "  if type(m) == nn.Conv2d:\n",
        "        torch.nn.init.kaiming_normal_(m.weight)\n",
        "        torch.nn.init.zeros_(m.bias)\n",
        "\n",
        "        \n",
        "# apply initialization recursively  to all modules\n",
        "# model.apply(init_weights)\n",
        "\n",
        "wandb.config.init_weights = init_weights\n",
        "\n",
        "# put model to GPUs\n",
        "model.to(wandb.config.device)\n",
        "\n",
        "# Intialize stochiastic gradient descent optimizer\n",
        "optimizer = torch.optim.SGD(model.parameters(), lr = wandb.config.learning_rate, weight_decay=wandb.config.weight_decay, momentum = 0.9)\n",
        "# optimizer = torch.optim.Adam(model.parameters(), lr = wandb.config.learning_rate, weight_decay=wandb.config.weight_decay)\n",
        "\n",
        "wandb.config.optimizer = optimizer\n",
        "\n",
        "# scheduler = ReduceLROnPlateau(optimizer, mode='min', factor= wandb.config.scheduler_factor, \n",
        "                              # patience=wandb.config.scheduler_patience, verbose=True)\n",
        "\n",
        "# scheduler = torch.optim.lr_scheduler.OneCycleLR(optimizer, max_lr=0.1, total_steps=len(train_loader) * 10 , epochs=10, three_phase=True)\n",
        "\n",
        "# scheduler = StepLR(optimizer, gamma=0.4,step_size=1, verbose=True)"
      ],
      "execution_count": null,
      "outputs": []
    },
    {
      "cell_type": "markdown",
      "metadata": {
        "id": "BcrsHQXS8S-F"
      },
      "source": [
        "## Training and Saving Model"
      ]
    },
    {
      "cell_type": "code",
      "metadata": {
        "colab": {
          "base_uri": "https://localhost:8080/"
        },
        "id": "0XmOd8bm5G7b",
        "outputId": "4a2d0fd7-f39b-4f6b-b445-4f5dbbe3122f"
      },
      "source": [
        "wandb.watch(model, log = 'all', log_freq=25, log_graph=True)"
      ],
      "execution_count": null,
      "outputs": [
        {
          "name": "stderr",
          "output_type": "stream",
          "text": [
            "\u001b[34m\u001b[1mwandb\u001b[0m: logging graph, to disable use `wandb.watch(log_graph=False)`\n"
          ]
        },
        {
          "data": {
            "text/plain": [
              "[<wandb.wandb_torch.TorchGraph at 0x7f2ded3f6c50>]"
            ]
          },
          "execution_count": 80,
          "metadata": {},
          "output_type": "execute_result"
        }
      ]
    },
    {
      "cell_type": "code",
      "metadata": {
        "colab": {
          "base_uri": "https://localhost:8080/"
        },
        "id": "P8C6tgka5G4y",
        "outputId": "987ca5c9-b545-438e-cb84-87f910f53406"
      },
      "source": [
        "example_ct_train, batch_ct_train, example_ct_valid, batch_ct_valid = 0, 0, 0, 0\n",
        "train_loss_history, train_acc_history, valid_loss_history, valid_acc_history = train_loop(train_loader, valid_loader, model, loss_function, optimizer, \n",
        "                                                                                          wandb.config.epochs, wandb.config.device,\n",
        "                                                                                          wandb.config.patience, wandb.config.early_stopping,\n",
        "                                                                                          wandb.config.file_model)"
      ],
      "execution_count": null,
      "outputs": [
        {
          "name": "stdout",
          "output_type": "stream",
          "text": [
            "Validation loss has decreased (inf --> 1.711429). Saving Model...\n",
            "Epoch : 1 / 5\n",
            "Time to complete 1 is 0:01:12.296384\n",
            "Train Loss:  2.0301 | Train Accuracy:  22.9925%\n",
            "Valid Loss:  1.7114 | Valid Accuracy:  36.5000%\n",
            "\n",
            "Validation loss has decreased (1.711429 --> 1.202313). Saving model...\n",
            "Epoch : 2 / 5\n",
            "Time to complete 2 is 0:01:12.830973\n",
            "Train Loss:  1.4206 | Train Accuracy:  47.5650%\n",
            "Valid Loss:  1.2023 | Valid Accuracy:  56.9200%\n",
            "\n",
            "Validation loss has decreased (1.202313 --> 0.914028). Saving model...\n",
            "Epoch : 3 / 5\n",
            "Time to complete 3 is 0:01:12.816780\n",
            "Train Loss:  1.0328 | Train Accuracy:  63.1875%\n",
            "Valid Loss:  0.9140 | Valid Accuracy:  67.9600%\n",
            "\n",
            "Validation loss has decreased (0.914028 --> 0.733043). Saving model...\n",
            "Epoch : 4 / 5\n",
            "Time to complete 4 is 0:01:12.368443\n",
            "Train Loss:  0.7795 | Train Accuracy:  72.9625%\n",
            "Valid Loss:  0.7330 | Valid Accuracy:  74.4600%\n",
            "\n",
            "Validation loss has decreased (0.733043 --> 0.685352). Saving model...\n",
            "Epoch : 5 / 5\n",
            "Time to complete 5 is 0:01:12.874527\n",
            "Train Loss:  0.5795 | Train Accuracy:  79.8950%\n",
            "Valid Loss:  0.6854 | Valid Accuracy:  76.1000%\n",
            "\n"
          ]
        }
      ]
    },
    {
      "cell_type": "markdown",
      "metadata": {
        "id": "muqBOauRrIjx"
      },
      "source": [
        "# Model 4- After **Overfitting** - Increasing *Size*\n",
        "\n",
        "**Taking Larger Ratio of Dataset**\n",
        "\n",
        "BaseModel - CIFAR10CNN2"
      ]
    },
    {
      "cell_type": "markdown",
      "metadata": {
        "id": "fN3RK3JOMwkP"
      },
      "source": [
        "## Increasing Sample Size"
      ]
    },
    {
      "cell_type": "code",
      "metadata": {
        "id": "jT9k2dgxBX2-"
      },
      "source": [
        "# n sample points\n",
        "train_sample_size = int(len(trainset)/10)\n",
        "valid_sample_size = int(len(validset)/10)\n",
        "\n",
        "# Getting n random indices\n",
        "train_subset_indices = random.sample(range(0, len(trainset)), train_sample_size)\n",
        "valid_subset_indices = random.sample(range(0, len(testset)), valid_sample_size)\n",
        "\n",
        "# Getting subset of dataset\n",
        "train_subset = torch.utils.data.Subset(trainset, train_subset_indices)\n",
        "valid_subset = torch.utils.data.Subset(validset, valid_subset_indices)"
      ],
      "execution_count": 158,
      "outputs": []
    },
    {
      "cell_type": "code",
      "metadata": {
        "colab": {
          "base_uri": "https://localhost:8080/"
        },
        "id": "kVghnLMYBd4c",
        "outputId": "a9ce8310-1d21-4b60-8214-62ecfeed931c"
      },
      "source": [
        "valid_sample_size"
      ],
      "execution_count": 159,
      "outputs": [
        {
          "output_type": "execute_result",
          "data": {
            "text/plain": [
              "1000"
            ]
          },
          "metadata": {},
          "execution_count": 159
        }
      ]
    },
    {
      "cell_type": "markdown",
      "metadata": {
        "id": "5Iuuv-zisKhf"
      },
      "source": [
        "## CNN Model Class"
      ]
    },
    {
      "cell_type": "code",
      "metadata": {
        "id": "z-MAyRjZsKhh"
      },
      "source": [
        "class CIFAR10CNN4(nn.Module):\n",
        "    \n",
        "    def __init__(self):\n",
        "\n",
        "      super().__init__()\n",
        "\n",
        "      super(CIFAR10CNN4, self).__init__()\n",
        "      \n",
        "      self.conv1_layer = nn.Sequential(\n",
        "          nn.Conv2d(in_channels=3, out_channels=128, kernel_size=3, padding='same'), # 32*32\n",
        "          nn.ReLU(),\n",
        "          nn.Conv2d(in_channels=128, out_channels=128, kernel_size=3, padding='same'), #32*32\n",
        "          nn.ReLU(),\n",
        "          nn.MaxPool2d(kernel_size=2, stride = 2), # 16*16 \n",
        "          \n",
        "      )\n",
        "\n",
        "      self.conv2_layer = nn.Sequential(\n",
        "          nn.Conv2d(in_channels=128, out_channels=512, kernel_size=3, padding='same'), #16*16\n",
        "          nn.ReLU(),\n",
        "          nn.Conv2d(in_channels=512, out_channels=512, kernel_size=3, padding='same'), #16*16\n",
        "          nn.ReLU(),\n",
        "          nn.MaxPool2d(kernel_size=2, stride = 2), # 8*8\n",
        "      )\n",
        "\n",
        "\n",
        "      self.flatten = nn.Flatten()\n",
        "      \n",
        "      self.fc1 = nn.Linear(512*8*8, out_features=1024)\n",
        "      self.fc2 = nn.Linear(1024, out_features=512)\n",
        "      self.fc3 = nn.Linear(512, out_features=10)\n",
        "      \n",
        "      \n",
        "      \n",
        "    def forward(self, x):\n",
        "        # conv layers\n",
        "        out = self.conv1_layer(x)\n",
        "        out = self.conv2_layer(out)\n",
        "\n",
        "        # flatten befrore input to linear layer\n",
        "        out = self.flatten(out)\n",
        "        # linear hidden layers\n",
        "        out = F.relu(self.fc1(out))\n",
        "        out = F.relu(self.fc2(out))\n",
        "        # output layer - no softmax as it is applied by nn.CrossEntropyLoss\n",
        "\n",
        "        out = self.fc3(out)\n",
        "        \n",
        "        return out"
      ],
      "execution_count": 160,
      "outputs": []
    },
    {
      "cell_type": "code",
      "metadata": {
        "colab": {
          "base_uri": "https://localhost:8080/"
        },
        "id": "XKXf4KsFsKhj",
        "outputId": "0ef6bf36-d38f-4da2-b915-f16fb306feff"
      },
      "source": [
        "summary(CIFAR10CNN4().cuda(), (3, 32, 32))"
      ],
      "execution_count": 161,
      "outputs": [
        {
          "output_type": "stream",
          "name": "stdout",
          "text": [
            "----------------------------------------------------------------\n",
            "        Layer (type)               Output Shape         Param #\n",
            "================================================================\n",
            "            Conv2d-1          [-1, 128, 32, 32]           3,584\n",
            "              ReLU-2          [-1, 128, 32, 32]               0\n",
            "            Conv2d-3          [-1, 128, 32, 32]         147,584\n",
            "              ReLU-4          [-1, 128, 32, 32]               0\n",
            "         MaxPool2d-5          [-1, 128, 16, 16]               0\n",
            "            Conv2d-6          [-1, 512, 16, 16]         590,336\n",
            "              ReLU-7          [-1, 512, 16, 16]               0\n",
            "            Conv2d-8          [-1, 512, 16, 16]       2,359,808\n",
            "              ReLU-9          [-1, 512, 16, 16]               0\n",
            "        MaxPool2d-10            [-1, 512, 8, 8]               0\n",
            "          Flatten-11                [-1, 32768]               0\n",
            "           Linear-12                 [-1, 1024]      33,555,456\n",
            "           Linear-13                  [-1, 512]         524,800\n",
            "           Linear-14                   [-1, 10]           5,130\n",
            "================================================================\n",
            "Total params: 37,186,698\n",
            "Trainable params: 37,186,698\n",
            "Non-trainable params: 0\n",
            "----------------------------------------------------------------\n",
            "Input size (MB): 0.01\n",
            "Forward/backward pass size (MB): 8.76\n",
            "Params size (MB): 141.86\n",
            "Estimated Total Size (MB): 150.63\n",
            "----------------------------------------------------------------\n"
          ]
        }
      ]
    },
    {
      "cell_type": "markdown",
      "metadata": {
        "id": "iUz9szvhsKhp"
      },
      "source": [
        "## HyperParameter"
      ]
    },
    {
      "cell_type": "code",
      "metadata": {
        "id": "6x4lvV4EsKhq"
      },
      "source": [
        "hyperparameters= dict(\n",
        "    epochs = 5,\n",
        "    output_dim = 10, \n",
        "    batch_size = 128,\n",
        "    learning_rate = 0.03,\n",
        "    dataset=\"CIFAR10\",\n",
        "    architecture=\"CNN\",\n",
        "    log_interval = 100,\n",
        "    log_batch = True,\n",
        "    file_model = data_folder/'exp1.pt',\n",
        "    grad_clipping = False,\n",
        "    max_norm = 0,\n",
        "    patience = 0 ,\n",
        "    early_stopping = False,\n",
        "    weight_decay = 0,\n",
        "    scheduler_factor = 0,\n",
        "    scheduler_patience = 0,\n",
        "   )\n",
        "\n",
        "device = torch.device('cuda:0' if torch.cuda.is_available() else 'cpu')"
      ],
      "execution_count": 162,
      "outputs": []
    },
    {
      "cell_type": "markdown",
      "metadata": {
        "id": "wOfYKYwLsKhq"
      },
      "source": [
        "## Intialize wandb"
      ]
    },
    {
      "cell_type": "code",
      "metadata": {
        "colab": {
          "base_uri": "https://localhost:8080/",
          "height": 448,
          "referenced_widgets": [
            "202d8959fde4401bb1cf47d4de1c43a3"
          ]
        },
        "id": "T9YLKMiwsKhr",
        "outputId": "afcdffbb-8f5a-48ab-a4d5-312e7f71ccd2"
      },
      "source": [
        "wandb.init(name = 'AfterOverFitting_TrainSize(4000)', project = 'CNN_Experiment_Neetika', config = hyperparameters)"
      ],
      "execution_count": 163,
      "outputs": [
        {
          "output_type": "display_data",
          "data": {
            "text/html": [
              "Finishing last run (ID:2mrpc4jq) before initializing another..."
            ],
            "text/plain": [
              "<IPython.core.display.HTML object>"
            ]
          },
          "metadata": {}
        },
        {
          "output_type": "display_data",
          "data": {
            "text/html": [
              "<br/>Waiting for W&B process to finish, PID 1740... <strong style=\"color:green\">(success).</strong>"
            ],
            "text/plain": [
              "<IPython.core.display.HTML object>"
            ]
          },
          "metadata": {}
        },
        {
          "output_type": "display_data",
          "data": {
            "application/vnd.jupyter.widget-view+json": {
              "model_id": "202d8959fde4401bb1cf47d4de1c43a3",
              "version_minor": 0,
              "version_major": 2
            },
            "text/plain": [
              "VBox(children=(Label(value=' 0.00MB of 0.00MB uploaded (0.00MB deduped)\\r'), FloatProgress(value=1.0, max=1.0)…"
            ]
          },
          "metadata": {}
        },
        {
          "output_type": "display_data",
          "data": {
            "text/html": [
              "<style>\n",
              "    table.wandb td:nth-child(1) { padding: 0 10px; text-align: right }\n",
              "    .wandb-row { display: flex; flex-direction: row; flex-wrap: wrap; width: 100% }\n",
              "    .wandb-col { display: flex; flex-direction: column; flex-basis: 100%; flex: 1; padding: 10px; }\n",
              "    </style>\n",
              "<div class=\"wandb-row\"><div class=\"wandb-col\">\n",
              "<h3>Run history:</h3><br/><table class=\"wandb\"><tr><td>Train Batch Acc :</td><td>▁▁▂▄▃▄▅▄▆▆▆▆▇▇▇▇▇▇██▇█████████</td></tr><tr><td>Train Batch Loss  :</td><td>█▇▆▅▆▅▄▄▃▃▃▃▂▂▂▂▁▂▁▁▂▁▁▁▁▁▁▁▁▁</td></tr><tr><td>Train epoch Acc :</td><td>▁▄▅▆▇█████</td></tr><tr><td>Train epoch Loss :</td><td>█▅▄▃▂▁▁▁▁▁</td></tr><tr><td>Valid Batch Accuracy :</td><td>▁▁▆▅█▄</td></tr><tr><td>Valid Batch Loss  :</td><td>▄▂▁▄▅█</td></tr><tr><td>Valid epoch Acc :</td><td>▁▅▇▇██████</td></tr><tr><td>Valid epoch Loss :</td><td>█▃▁▁▂▃▄▆▇▇</td></tr></table><br/></div><div class=\"wandb-col\">\n",
              "<h3>Run summary:</h3><br/><table class=\"wandb\"><tr><td>Train Batch Acc :</td><td>1.0</td></tr><tr><td>Train Batch Loss  :</td><td>0.00823</td></tr><tr><td>Train epoch Acc :</td><td>0.98167</td></tr><tr><td>Train epoch Loss :</td><td>0.0549</td></tr><tr><td>Valid Batch Accuracy :</td><td>0.75781</td></tr><tr><td>Valid Batch Loss  :</td><td>1.18496</td></tr><tr><td>Valid epoch Acc :</td><td>0.7725</td></tr><tr><td>Valid epoch Loss :</td><td>1.16807</td></tr></table>\n",
              "</div></div>\n",
              "Synced 5 W&B file(s), 1 media file(s), 0 artifact file(s) and 0 other file(s)\n",
              "<br/>Synced <strong style=\"color:#cdcd00\">AfterOverFitting_Exp4</strong>: <a href=\"https://wandb.ai/neetika/CNN_Experiment_Neetika/runs/2mrpc4jq\" target=\"_blank\">https://wandb.ai/neetika/CNN_Experiment_Neetika/runs/2mrpc4jq</a><br/>\n",
              "Find logs at: <code>./wandb/run-20211114_060834-2mrpc4jq/logs</code><br/>\n"
            ],
            "text/plain": [
              "<IPython.core.display.HTML object>"
            ]
          },
          "metadata": {}
        },
        {
          "output_type": "display_data",
          "data": {
            "text/html": [
              "Successfully finished last run (ID:2mrpc4jq). Initializing new run:<br/>"
            ],
            "text/plain": [
              "<IPython.core.display.HTML object>"
            ]
          },
          "metadata": {}
        },
        {
          "output_type": "display_data",
          "data": {
            "text/html": [
              "\n",
              "                    Syncing run <strong><a href=\"https://wandb.ai/neetika/CNN_Experiment_Neetika/runs/2bble226\" target=\"_blank\">AfterOverFitting_TrainSize(4000)</a></strong> to <a href=\"https://wandb.ai/neetika/CNN_Experiment_Neetika\" target=\"_blank\">Weights & Biases</a> (<a href=\"https://docs.wandb.com/integrations/jupyter.html\" target=\"_blank\">docs</a>).<br/>\n",
              "\n",
              "                "
            ],
            "text/plain": [
              "<IPython.core.display.HTML object>"
            ]
          },
          "metadata": {}
        },
        {
          "output_type": "execute_result",
          "data": {
            "text/plain": [
              "<wandb.sdk.wandb_run.Run at 0x7f2dedd51650>"
            ],
            "text/html": [
              "<button onClick=\"this.nextSibling.style.display='block';this.style.display='none';\">Display W&B run</button><iframe src=\"https://wandb.ai/neetika/CNN_Experiment_Neetika/runs/2bble226?jupyter=true\" style=\"border:none;width:100%;height:420px;display:none;\"></iframe>"
            ]
          },
          "metadata": {},
          "execution_count": 163
        }
      ]
    },
    {
      "cell_type": "code",
      "metadata": {
        "colab": {
          "base_uri": "https://localhost:8080/"
        },
        "id": "QCdY6aH6sKhs",
        "outputId": "ec62af6b-7750-4ea4-ee49-55177140b5f5"
      },
      "source": [
        "wandb.config.device = device\n",
        "print(wandb.config.device )"
      ],
      "execution_count": 164,
      "outputs": [
        {
          "output_type": "stream",
          "name": "stdout",
          "text": [
            "cuda:0\n"
          ]
        }
      ]
    },
    {
      "cell_type": "markdown",
      "metadata": {
        "id": "dX1VeU2zsKhs"
      },
      "source": [
        "## Specify Dataloader, Loss_function, Model, Optimizer, Weight Initialization"
      ]
    },
    {
      "cell_type": "code",
      "metadata": {
        "id": "ZdmiR_q9sKht"
      },
      "source": [
        "# Fix seed value\n",
        "SEED = 2345\n",
        "random.seed(SEED)\n",
        "np.random.seed(SEED)\n",
        "torch.manual_seed(SEED)\n",
        "torch.cuda.manual_seed(SEED)\n",
        "torch.backends.cudnn.deterministic = True\n",
        "\n",
        "# Data Loader\n",
        "train_loader = torch.utils.data.DataLoader(train_subset, batch_size=wandb.config.batch_size, shuffle = True)\n",
        "valid_loader = torch.utils.data.DataLoader(valid_subset, batch_size=wandb.config.batch_size, shuffle = False)\n",
        "test_loader = torch.utils.data.DataLoader(testset, batch_size=wandb.config.batch_size,   shuffle = False)\n",
        "\n",
        "# cross entropy loss function\n",
        "loss_function = nn.CrossEntropyLoss()\n",
        "\n",
        "# device \n",
        "model = CIFAR10CNN4()\n",
        "\n",
        "def init_weights(m):\n",
        "  if type(m) == nn.Conv2d:\n",
        "        torch.nn.init.kaiming_normal_(m.weight)\n",
        "        torch.nn.init.zeros_(m.bias)\n",
        "\n",
        "        \n",
        "# apply initialization recursively  to all modules\n",
        "# model.apply(init_weights)\n",
        "\n",
        "wandb.config.init_weights = init_weights\n",
        "\n",
        "# put model to GPUs\n",
        "model.to(wandb.config.device)\n",
        "\n",
        "# Intialize stochiastic gradient descent optimizer\n",
        "optimizer = torch.optim.SGD(model.parameters(), lr = wandb.config.learning_rate, weight_decay=wandb.config.weight_decay, momentum = 0.9)\n",
        "# optimizer = torch.optim.Adam(model.parameters(), lr = wandb.config.learning_rate, weight_decay=wandb.config.weight_decay)\n",
        "\n",
        "wandb.config.optimizer = optimizer\n",
        "\n",
        "# scheduler = ReduceLROnPlateau(optimizer, mode='min', factor= wandb.config.scheduler_factor, \n",
        "                              # patience=wandb.config.scheduler_patience, verbose=True)\n",
        "\n",
        "# scheduler = torch.optim.lr_scheduler.OneCycleLR(optimizer, max_lr=0.1, total_steps=len(train_loader) * 10 , epochs=10, three_phase=True)\n",
        "\n",
        "# scheduler = StepLR(optimizer, gamma=0.4,step_size=1, verbose=True)"
      ],
      "execution_count": 165,
      "outputs": []
    },
    {
      "cell_type": "markdown",
      "metadata": {
        "id": "FMo1-aINsKhv"
      },
      "source": [
        "## Training and Saving Model"
      ]
    },
    {
      "cell_type": "code",
      "metadata": {
        "colab": {
          "base_uri": "https://localhost:8080/"
        },
        "id": "SPuIzG-RsKhw",
        "outputId": "f857f9c2-7af2-45eb-b8ad-1d9664fdc00e"
      },
      "source": [
        "wandb.watch(model, log = 'all', log_freq=25, log_graph=True)"
      ],
      "execution_count": 166,
      "outputs": [
        {
          "output_type": "stream",
          "name": "stderr",
          "text": [
            "\u001b[34m\u001b[1mwandb\u001b[0m: logging graph, to disable use `wandb.watch(log_graph=False)`\n"
          ]
        },
        {
          "output_type": "execute_result",
          "data": {
            "text/plain": [
              "[<wandb.wandb_torch.TorchGraph at 0x7f2dee0aa110>]"
            ]
          },
          "metadata": {},
          "execution_count": 166
        }
      ]
    },
    {
      "cell_type": "code",
      "metadata": {
        "colab": {
          "base_uri": "https://localhost:8080/"
        },
        "id": "eHdh_W75sKhy",
        "outputId": "f08b30d3-fea2-45b3-94df-6c8fb2823c7e"
      },
      "source": [
        "example_ct_train, batch_ct_train, example_ct_valid, batch_ct_valid = 0, 0, 0, 0\n",
        "train_loss_history, train_acc_history, valid_loss_history, valid_acc_history = train_loop(train_loader, valid_loader, model, loss_function, optimizer, \n",
        "                                                                                          wandb.config.epochs, wandb.config.device,\n",
        "                                                                                          wandb.config.patience, wandb.config.early_stopping,\n",
        "                                                                                          wandb.config.file_model)"
      ],
      "execution_count": 167,
      "outputs": [
        {
          "output_type": "stream",
          "name": "stdout",
          "text": [
            "Validation loss has decreased (inf --> 1.229793). Saving Model...\n",
            "Epoch : 1 / 5\n",
            "Time to complete 1 is 0:01:04.992217\n",
            "Train Loss:  1.6498 | Train Accuracy:  39.1775%\n",
            "Valid Loss:  1.2298 | Valid Accuracy:  55.6300%\n",
            "\n",
            "Validation loss has decreased (1.229793 --> 0.880920). Saving model...\n",
            "Epoch : 2 / 5\n",
            "Time to complete 2 is 0:01:06.367374\n",
            "Train Loss:  1.0248 | Train Accuracy:  63.6450%\n",
            "Valid Loss:  0.8809 | Valid Accuracy:  68.7200%\n",
            "\n",
            "Validation loss has decreased (0.880920 --> 0.714982). Saving model...\n",
            "Epoch : 3 / 5\n",
            "Time to complete 3 is 0:01:07.111791\n",
            "Train Loss:  0.7239 | Train Accuracy:  74.7900%\n",
            "Valid Loss:  0.7150 | Valid Accuracy:  75.0200%\n",
            "\n",
            "Validation loss has not decreased (0.714982 --> 0.748220). Not Saving Model...\n",
            "Epoch : 4 / 5\n",
            "Time to complete 4 is 0:01:05.261346\n",
            "Train Loss:  0.4829 | Train Accuracy:  83.0550%\n",
            "Valid Loss:  0.7482 | Valid Accuracy:  74.5200%\n",
            "\n",
            "Validation loss has not decreased (0.714982 --> 0.759010). Not Saving Model...\n",
            "Epoch : 5 / 5\n",
            "Time to complete 5 is 0:01:06.205590\n",
            "Train Loss:  0.2834 | Train Accuracy:  90.1125%\n",
            "Valid Loss:  0.7590 | Valid Accuracy:  76.2800%\n",
            "\n"
          ]
        }
      ]
    },
    {
      "cell_type": "markdown",
      "metadata": {
        "id": "YcqwRa9rsKhz"
      },
      "source": [
        "# Model 5 - Adding Dropout Layers\n",
        "\n"
      ]
    },
    {
      "cell_type": "markdown",
      "metadata": {
        "id": "UH08vn-gCkE-"
      },
      "source": [
        "## CNN Model Class"
      ]
    },
    {
      "cell_type": "code",
      "metadata": {
        "id": "YvzvLnQsCkE_"
      },
      "source": [
        "class CIFAR10CNN5(nn.Module):\n",
        "    \n",
        "    def __init__(self):\n",
        "\n",
        "      super().__init__()\n",
        "\n",
        "      super(CIFAR10CNN5, self).__init__()\n",
        "      \n",
        "      self.conv1_layer = nn.Sequential(\n",
        "          nn.Conv2d(in_channels=3, out_channels=128, kernel_size=3, padding='same'), # 32*32\n",
        "          nn.ReLU(),\n",
        "          nn.Conv2d(in_channels=128, out_channels=128, kernel_size=3, padding='same'), #32*32\n",
        "          nn.ReLU(),\n",
        "          nn.MaxPool2d(kernel_size=2, stride = 2), # 16*16\n",
        "          nn.Dropout(0.05) \n",
        "          \n",
        "      )\n",
        "\n",
        "      self.conv2_layer = nn.Sequential(\n",
        "          nn.Conv2d(in_channels=128, out_channels=512, kernel_size=3, padding='same'), #16*16\n",
        "          nn.ReLU(),\n",
        "          nn.Conv2d(in_channels=512, out_channels=512, kernel_size=3, padding='same'), #16*16\n",
        "          nn.ReLU(),\n",
        "          nn.MaxPool2d(kernel_size=2, stride = 2), # 8*8\n",
        "          # nn.Dropout(0.05)\n",
        "      )\n",
        "\n",
        "\n",
        "      self.flatten = nn.Flatten()\n",
        "      \n",
        "      self.fc1 = nn.Linear(512*8*8, out_features=1024)\n",
        "      self.fc2 = nn.Linear(1024, out_features=512)\n",
        "      self.fc3 = nn.Linear(512, out_features=10)\n",
        "      \n",
        "      \n",
        "      \n",
        "    def forward(self, x):\n",
        "        # conv layers\n",
        "        out = self.conv1_layer(x)\n",
        "        out = self.conv2_layer(out)\n",
        "\n",
        "        # flatten befrore input to linear layer\n",
        "        out = self.flatten(out)\n",
        "        # linear hidden layers\n",
        "        out = F.relu(self.fc1(out))\n",
        "        out = F.relu(self.fc2(out))\n",
        "        # output layer - no softmax as it is applied by nn.CrossEntropyLoss\n",
        "\n",
        "        out = self.fc3(out)\n",
        "        \n",
        "        return out"
      ],
      "execution_count": 200,
      "outputs": []
    },
    {
      "cell_type": "code",
      "metadata": {
        "colab": {
          "base_uri": "https://localhost:8080/"
        },
        "id": "KQOWZ_wBCkFA",
        "outputId": "df1affc8-2385-4c69-f2fc-50e1a238be41"
      },
      "source": [
        "summary(CIFAR10CNN5().cuda(), (3, 32, 32))"
      ],
      "execution_count": 201,
      "outputs": [
        {
          "output_type": "stream",
          "name": "stdout",
          "text": [
            "----------------------------------------------------------------\n",
            "        Layer (type)               Output Shape         Param #\n",
            "================================================================\n",
            "            Conv2d-1          [-1, 128, 32, 32]           3,584\n",
            "              ReLU-2          [-1, 128, 32, 32]               0\n",
            "            Conv2d-3          [-1, 128, 32, 32]         147,584\n",
            "              ReLU-4          [-1, 128, 32, 32]               0\n",
            "         MaxPool2d-5          [-1, 128, 16, 16]               0\n",
            "           Dropout-6          [-1, 128, 16, 16]               0\n",
            "            Conv2d-7          [-1, 512, 16, 16]         590,336\n",
            "              ReLU-8          [-1, 512, 16, 16]               0\n",
            "            Conv2d-9          [-1, 512, 16, 16]       2,359,808\n",
            "             ReLU-10          [-1, 512, 16, 16]               0\n",
            "        MaxPool2d-11            [-1, 512, 8, 8]               0\n",
            "          Flatten-12                [-1, 32768]               0\n",
            "           Linear-13                 [-1, 1024]      33,555,456\n",
            "           Linear-14                  [-1, 512]         524,800\n",
            "           Linear-15                   [-1, 10]           5,130\n",
            "================================================================\n",
            "Total params: 37,186,698\n",
            "Trainable params: 37,186,698\n",
            "Non-trainable params: 0\n",
            "----------------------------------------------------------------\n",
            "Input size (MB): 0.01\n",
            "Forward/backward pass size (MB): 9.01\n",
            "Params size (MB): 141.86\n",
            "Estimated Total Size (MB): 150.88\n",
            "----------------------------------------------------------------\n"
          ]
        }
      ]
    },
    {
      "cell_type": "markdown",
      "metadata": {
        "id": "7W1gUrkACkFA"
      },
      "source": [
        "## HyperParameter"
      ]
    },
    {
      "cell_type": "code",
      "metadata": {
        "id": "FW2GT_jjCkFA"
      },
      "source": [
        "hyperparameters= dict(\n",
        "    epochs = 5,\n",
        "    output_dim = 10, \n",
        "    batch_size = 128,\n",
        "    learning_rate = 0.03,\n",
        "    dataset=\"CIFAR-10\",\n",
        "    architecture=\"CNN\",\n",
        "    log_interval = 100,\n",
        "    log_batch = True,\n",
        "    file_model = data_folder/'exp1.pt',\n",
        "    grad_clipping = False,\n",
        "    max_norm = 0,\n",
        "    patience = 0 ,\n",
        "    early_stopping = False,\n",
        "    weight_decay = 0,\n",
        "    scheduler_factor = 0,\n",
        "    scheduler_patience = 0,\n",
        "   )\n",
        "\n",
        "device = torch.device('cuda:0' if torch.cuda.is_available() else 'cpu')"
      ],
      "execution_count": 202,
      "outputs": []
    },
    {
      "cell_type": "markdown",
      "metadata": {
        "id": "NPIcF9-NCkFB"
      },
      "source": [
        "## Intialize wandb"
      ]
    },
    {
      "cell_type": "code",
      "metadata": {
        "colab": {
          "base_uri": "https://localhost:8080/",
          "height": 430,
          "referenced_widgets": [
            "e1cc230e8441458ba373376fd575e223",
            "d868fe0cf1fa4c2282928d64d29decca",
            "9857e0c6283f4b61bfdf4fa9bea571f6",
            "e17df3a990f445e48fd0d3fc7eb72464",
            "4025346e5c664724a2eb5c882260de4f",
            "c91cead1268142b79653713cf3650a06",
            "01bf0f94942e429aaf58bc9fbec0a35f",
            "2386d5c520fa4d58b0efa46d0f43e8e3"
          ]
        },
        "id": "DZqCn77VCkFB",
        "outputId": "984b2ea5-0b22-46fc-9053-0ec2e8bc61f4"
      },
      "source": [
        "wandb.init(name = 'Dropout_Regularization4_1Layer', project = 'CNN_Experiment_Neetika', config = hyperparameters)"
      ],
      "execution_count": 203,
      "outputs": [
        {
          "output_type": "display_data",
          "data": {
            "text/html": [
              "Finishing last run (ID:3qdplxv1) before initializing another..."
            ],
            "text/plain": [
              "<IPython.core.display.HTML object>"
            ]
          },
          "metadata": {}
        },
        {
          "output_type": "display_data",
          "data": {
            "text/html": [
              "<br/>Waiting for W&B process to finish, PID 2483... <strong style=\"color:green\">(success).</strong>"
            ],
            "text/plain": [
              "<IPython.core.display.HTML object>"
            ]
          },
          "metadata": {}
        },
        {
          "output_type": "display_data",
          "data": {
            "application/vnd.jupyter.widget-view+json": {
              "model_id": "e1cc230e8441458ba373376fd575e223",
              "version_minor": 0,
              "version_major": 2
            },
            "text/plain": [
              "VBox(children=(Label(value=' 0.00MB of 0.00MB uploaded (0.00MB deduped)\\r'), FloatProgress(value=1.0, max=1.0)…"
            ]
          },
          "metadata": {}
        },
        {
          "output_type": "display_data",
          "data": {
            "text/html": [
              "<style>\n",
              "    table.wandb td:nth-child(1) { padding: 0 10px; text-align: right }\n",
              "    .wandb-row { display: flex; flex-direction: row; flex-wrap: wrap; width: 100% }\n",
              "    .wandb-col { display: flex; flex-direction: column; flex-basis: 100%; flex: 1; padding: 10px; }\n",
              "    </style>\n",
              "<div class=\"wandb-row\"><div class=\"wandb-col\">\n",
              "<h3>Run history:</h3><br/><table class=\"wandb\"><tr><td>Train Batch Acc :</td><td>▁▁▂▄▄▆▄█▆▇▇▇███</td></tr><tr><td>Train Batch Loss  :</td><td>██▆▄▅▄▄▂▃▂▂▂▁▁▁</td></tr><tr><td>Train epoch Acc :</td><td>▁▄▆▇█</td></tr><tr><td>Train epoch Loss :</td><td>█▅▃▂▁</td></tr><tr><td>Valid Batch Accuracy :</td><td>▁▇█</td></tr><tr><td>Valid Batch Loss  :</td><td>█▄▁</td></tr><tr><td>Valid epoch Acc :</td><td>▁▅▆▇█</td></tr><tr><td>Valid epoch Loss :</td><td>█▄▃▂▁</td></tr></table><br/></div><div class=\"wandb-col\">\n",
              "<h3>Run summary:</h3><br/><table class=\"wandb\"><tr><td>Train Batch Acc :</td><td>0.78906</td></tr><tr><td>Train Batch Loss  :</td><td>0.5496</td></tr><tr><td>Train epoch Acc :</td><td>0.7772</td></tr><tr><td>Train epoch Loss :</td><td>0.64196</td></tr><tr><td>Valid Batch Accuracy :</td><td>0.77344</td></tr><tr><td>Valid Batch Loss  :</td><td>0.58564</td></tr><tr><td>Valid epoch Acc :</td><td>0.7693</td></tr><tr><td>Valid epoch Loss :</td><td>0.65928</td></tr></table>\n",
              "</div></div>\n",
              "Synced 5 W&B file(s), 1 media file(s), 0 artifact file(s) and 0 other file(s)\n",
              "<br/>Synced <strong style=\"color:#cdcd00\">Dropout_Regularization3</strong>: <a href=\"https://wandb.ai/neetika/CNN_Experiment_Neetika/runs/3qdplxv1\" target=\"_blank\">https://wandb.ai/neetika/CNN_Experiment_Neetika/runs/3qdplxv1</a><br/>\n",
              "Find logs at: <code>./wandb/run-20211114_070622-3qdplxv1/logs</code><br/>\n"
            ],
            "text/plain": [
              "<IPython.core.display.HTML object>"
            ]
          },
          "metadata": {}
        },
        {
          "output_type": "display_data",
          "data": {
            "text/html": [
              "Successfully finished last run (ID:3qdplxv1). Initializing new run:<br/>"
            ],
            "text/plain": [
              "<IPython.core.display.HTML object>"
            ]
          },
          "metadata": {}
        },
        {
          "output_type": "display_data",
          "data": {
            "text/html": [
              "\n",
              "                    Syncing run <strong><a href=\"https://wandb.ai/neetika/CNN_Experiment_Neetika/runs/2v9lpbbi\" target=\"_blank\">Dropout_Regularization4_1Layer</a></strong> to <a href=\"https://wandb.ai/neetika/CNN_Experiment_Neetika\" target=\"_blank\">Weights & Biases</a> (<a href=\"https://docs.wandb.com/integrations/jupyter.html\" target=\"_blank\">docs</a>).<br/>\n",
              "\n",
              "                "
            ],
            "text/plain": [
              "<IPython.core.display.HTML object>"
            ]
          },
          "metadata": {}
        },
        {
          "output_type": "execute_result",
          "data": {
            "text/plain": [
              "<wandb.sdk.wandb_run.Run at 0x7f2ded8fe4d0>"
            ],
            "text/html": [
              "<button onClick=\"this.nextSibling.style.display='block';this.style.display='none';\">Display W&B run</button><iframe src=\"https://wandb.ai/neetika/CNN_Experiment_Neetika/runs/2v9lpbbi?jupyter=true\" style=\"border:none;width:100%;height:420px;display:none;\"></iframe>"
            ]
          },
          "metadata": {},
          "execution_count": 203
        }
      ]
    },
    {
      "cell_type": "code",
      "metadata": {
        "colab": {
          "base_uri": "https://localhost:8080/"
        },
        "id": "Qyu9CYCLCkFC",
        "outputId": "50c38491-d48d-472c-d9bd-8043a4cb5610"
      },
      "source": [
        "wandb.config.device = device\n",
        "print(wandb.config.device )"
      ],
      "execution_count": 204,
      "outputs": [
        {
          "output_type": "stream",
          "name": "stdout",
          "text": [
            "cuda:0\n"
          ]
        }
      ]
    },
    {
      "cell_type": "markdown",
      "metadata": {
        "id": "sa10-4T3CkFC"
      },
      "source": [
        "## Specify Dataloader, Loss_function, Model, Optimizer, Weight Initialization"
      ]
    },
    {
      "cell_type": "code",
      "metadata": {
        "colab": {
          "base_uri": "https://localhost:8080/"
        },
        "id": "qGFcm3XjCkFC",
        "outputId": "158a895d-cdb9-4600-f57e-9f2a9635834f"
      },
      "source": [
        "# Fix seed value\n",
        "SEED = 2345\n",
        "random.seed(SEED)\n",
        "np.random.seed(SEED)\n",
        "torch.manual_seed(SEED)\n",
        "torch.cuda.manual_seed(SEED)\n",
        "torch.backends.cudnn.deterministic = True\n",
        "\n",
        "# Data Loader\n",
        "train_loader = torch.utils.data.DataLoader(trainset, batch_size=wandb.config.batch_size, shuffle = True)\n",
        "valid_loader = torch.utils.data.DataLoader(validset, batch_size=wandb.config.batch_size, shuffle = False)\n",
        "test_loader = torch.utils.data.DataLoader(testset, batch_size=wandb.config.batch_size,   shuffle = False)\n",
        "\n",
        "# cross entropy loss function\n",
        "loss_function = nn.CrossEntropyLoss()\n",
        "\n",
        "# device \n",
        "model = CIFAR10CNN5()\n",
        "\n",
        "def init_weights(m):\n",
        "  if type(m) == nn.Conv2d:\n",
        "        torch.nn.init.kaiming_normal_(m.weight)\n",
        "        torch.nn.init.zeros_(m.bias)\n",
        "\n",
        "        \n",
        "# apply initialization recursively  to all modules\n",
        "# model.apply(init_weights)\n",
        "\n",
        "wandb.config.init_weights = init_weights\n",
        "\n",
        "# put model to GPUs\n",
        "model.to(wandb.config.device)\n",
        "\n",
        "# Intialize stochiastic gradient descent optimizer\n",
        "optimizer = torch.optim.SGD(model.parameters(), lr = wandb.config.learning_rate, weight_decay=wandb.config.weight_decay, momentum = 0.9)\n",
        "# optimizer = torch.optim.Adam(model.parameters(), lr = wandb.config.learning_rate, weight_decay=wandb.config.weight_decay)\n",
        "\n",
        "wandb.config.optimizer = optimizer\n",
        "\n",
        "# scheduler = ReduceLROnPlateau(optimizer, mode='min', factor= wandb.config.scheduler_factor, \n",
        "                              # patience=wandb.config.scheduler_patience, verbose=True)\n",
        "\n",
        "# scheduler = torch.optim.lr_scheduler.OneCycleLR(optimizer, max_lr=0.1, total_steps=len(train_loader) * 10 , epochs=10, three_phase=True)\n",
        "\n",
        "scheduler = StepLR(optimizer, gamma=0.4,step_size=1, verbose=True)"
      ],
      "execution_count": 205,
      "outputs": [
        {
          "output_type": "stream",
          "name": "stdout",
          "text": [
            "Adjusting learning rate of group 0 to 3.0000e-02.\n"
          ]
        }
      ]
    },
    {
      "cell_type": "markdown",
      "metadata": {
        "id": "8b-MmEVxCkFE"
      },
      "source": [
        "## Training and Saving Model"
      ]
    },
    {
      "cell_type": "code",
      "metadata": {
        "colab": {
          "base_uri": "https://localhost:8080/"
        },
        "id": "UlyQDBolCkFI",
        "outputId": "894e5db4-8b0e-4724-f0ed-24655b535603"
      },
      "source": [
        "wandb.watch(model, log = 'all', log_freq=25, log_graph=True)"
      ],
      "execution_count": 206,
      "outputs": [
        {
          "output_type": "stream",
          "name": "stderr",
          "text": [
            "\u001b[34m\u001b[1mwandb\u001b[0m: logging graph, to disable use `wandb.watch(log_graph=False)`\n"
          ]
        },
        {
          "output_type": "execute_result",
          "data": {
            "text/plain": [
              "[<wandb.wandb_torch.TorchGraph at 0x7f2dee063ed0>]"
            ]
          },
          "metadata": {},
          "execution_count": 206
        }
      ]
    },
    {
      "cell_type": "code",
      "metadata": {
        "colab": {
          "base_uri": "https://localhost:8080/"
        },
        "id": "eLlfAJp_CkFJ",
        "outputId": "dbee111a-17a5-4c79-fbe8-b446453361aa"
      },
      "source": [
        "example_ct_train, batch_ct_train, example_ct_valid, batch_ct_valid = 0, 0, 0, 0\n",
        "train_loss_history, train_acc_history, valid_loss_history, valid_acc_history = train_loop(train_loader, valid_loader, model, loss_function, optimizer, \n",
        "                                                                                          wandb.config.epochs, wandb.config.device,\n",
        "                                                                                          wandb.config.patience, wandb.config.early_stopping,\n",
        "                                                                                          wandb.config.file_model)"
      ],
      "execution_count": 207,
      "outputs": [
        {
          "output_type": "stream",
          "name": "stdout",
          "text": [
            "Validation loss has decreased (inf --> 1.346098). Saving Model...\n",
            "Epoch : 1 / 5\n",
            "Time to complete 1 is 0:01:13.246768\n",
            "Train Loss:  1.7195 | Train Accuracy:  36.7900%\n",
            "Valid Loss:  1.3461 | Valid Accuracy:  50.4000%\n",
            "\n",
            "Validation loss has decreased (1.346098 --> 1.013818). Saving model...\n",
            "Epoch : 2 / 5\n",
            "Time to complete 2 is 0:01:14.430782\n",
            "Train Loss:  1.1820 | Train Accuracy:  57.3125%\n",
            "Valid Loss:  1.0138 | Valid Accuracy:  63.6400%\n",
            "\n",
            "Validation loss has decreased (1.013818 --> 0.829047). Saving model...\n",
            "Epoch : 3 / 5\n",
            "Time to complete 3 is 0:01:14.539052\n",
            "Train Loss:  0.9040 | Train Accuracy:  68.3075%\n",
            "Valid Loss:  0.8290 | Valid Accuracy:  70.6200%\n",
            "\n",
            "Validation loss has decreased (0.829047 --> 0.706536). Saving model...\n",
            "Epoch : 4 / 5\n",
            "Time to complete 4 is 0:01:13.765510\n",
            "Train Loss:  0.7417 | Train Accuracy:  74.0350%\n",
            "Valid Loss:  0.7065 | Valid Accuracy:  75.0600%\n",
            "\n",
            "Validation loss has decreased (0.706536 --> 0.683502). Saving model...\n",
            "Epoch : 5 / 5\n",
            "Time to complete 5 is 0:01:14.449160\n",
            "Train Loss:  0.6260 | Train Accuracy:  78.2600%\n",
            "Valid Loss:  0.6835 | Valid Accuracy:  76.1600%\n",
            "\n"
          ]
        }
      ]
    },
    {
      "cell_type": "code",
      "metadata": {
        "id": "5yWtk7d_FdM4"
      },
      "source": [
        ""
      ],
      "execution_count": null,
      "outputs": []
    },
    {
      "cell_type": "markdown",
      "metadata": {
        "id": "AKJAL3MgFfVH"
      },
      "source": [
        "# Data Augmentation\n",
        "\n",
        "**To increase variation in the Training**"
      ]
    },
    {
      "cell_type": "code",
      "metadata": {
        "colab": {
          "base_uri": "https://localhost:8080/"
        },
        "id": "AhJoAhXoMoGa",
        "outputId": "4b3e08d9-1d19-48bc-9dcc-168071fe616c"
      },
      "source": [
        "# Transform to convert images to pytorch tensors and normalize the data\n",
        "train_trans= transforms.Compose([ \n",
        "                                #  transforms.RandomCrop(size = (32,32), padding = 2),\n",
        "                                #  transforms.RandomAffine(degrees=10, translate =(0.05, 0.05), scale=(0.9, 1.1)),\n",
        "                                 transforms.RandomRotation(2.8),\n",
        "                                 transforms.RandomHorizontalFlip(),\n",
        "                                 transforms.ToTensor(), \n",
        "                                 transforms.Normalize((0.4914,0.4822,0.4655), (0.2023,0.1994,0.2010))])\n",
        "trans = transforms.Compose([transforms.ToTensor(), transforms.Normalize((0.4914,0.4822,0.4655), (0.2023,0.1994,0.2010))])\n",
        "train_full = torchvision.datasets.CIFAR10(root=data_folder,\n",
        "                                              train=True, \n",
        "                                              transform=train_trans,\n",
        "                                              download=True)\n",
        "trainset, validset = torch.utils.data.random_split(train_full, [40000, 10000], generator=torch.Generator().manual_seed(42))\n",
        "testset  = torchvision.datasets.CIFAR10(root=data_folder,\n",
        "                                              train=False, \n",
        "                                              transform=trans,\n",
        "                                              download=True)"
      ],
      "execution_count": 217,
      "outputs": [
        {
          "output_type": "stream",
          "name": "stdout",
          "text": [
            "Files already downloaded and verified\n",
            "Files already downloaded and verified\n"
          ]
        }
      ]
    },
    {
      "cell_type": "code",
      "metadata": {
        "id": "A91kAotIMsV7"
      },
      "source": [
        "# n sample points\n",
        "train_sample_size = int(len(trainset)/10)\n",
        "valid_sample_size = int(len(validset)/10)\n",
        "\n",
        "# Getting n random indices\n",
        "train_subset_indices = random.sample(range(0, len(trainset)), train_sample_size)\n",
        "valid_subset_indices = random.sample(range(0, len(testset)), valid_sample_size)\n",
        "\n",
        "# Getting subset of dataset\n",
        "train_subset = torch.utils.data.Subset(trainset, train_subset_indices)\n",
        "valid_subset = torch.utils.data.Subset(validset, valid_subset_indices)"
      ],
      "execution_count": 218,
      "outputs": []
    },
    {
      "cell_type": "code",
      "metadata": {
        "id": "uoKxzMlzMr75"
      },
      "source": [
        ""
      ],
      "execution_count": null,
      "outputs": []
    },
    {
      "cell_type": "markdown",
      "metadata": {
        "id": "13L8UusDFdkj"
      },
      "source": [
        "## HyperParameter"
      ]
    },
    {
      "cell_type": "code",
      "metadata": {
        "id": "K6gX9dxhFdkk"
      },
      "source": [
        "hyperparameters= dict(\n",
        "    epochs = 5,\n",
        "    output_dim = 10, \n",
        "    batch_size = 256,\n",
        "    learning_rate = 0.03,\n",
        "    dataset=\"CIFAR10\",\n",
        "    architecture=\"CNN\",\n",
        "    log_interval = 100,\n",
        "    log_batch = True,\n",
        "    file_model = data_folder/'exp1.pt',\n",
        "    grad_clipping = False,\n",
        "    max_norm = 0,\n",
        "    patience = 0 ,\n",
        "    early_stopping = False,\n",
        "    weight_decay = 0,\n",
        "    scheduler_factor = 0,\n",
        "    scheduler_patience = 0,\n",
        "   )\n",
        "\n",
        "device = torch.device('cuda:0' if torch.cuda.is_available() else 'cpu')"
      ],
      "execution_count": 219,
      "outputs": []
    },
    {
      "cell_type": "markdown",
      "metadata": {
        "id": "mjB255u6Fdkk"
      },
      "source": [
        "## Intialize wandb"
      ]
    },
    {
      "cell_type": "code",
      "metadata": {
        "colab": {
          "base_uri": "https://localhost:8080/",
          "height": 430,
          "referenced_widgets": [
            "f575ebe8f9014868ab7558d3a3fc8c09",
            "df15341d21e54f1e857ab307b22c6fb2",
            "2bdd5c48d66c46b69d933f0922bc3f18",
            "22a3852c641948f9b75d7e76dd33b53c",
            "0fd025613a434f078309f15de57b1fa0",
            "898ffa12f4eb4a7eb4b77bfca148d2b1",
            "2e392ce34f9240e78e9fc1258b4f781e",
            "247b1c3a5ef846c6af0844c1c64f0371"
          ]
        },
        "id": "hHZZdIAZFdkk",
        "outputId": "e3d6cc37-73cd-4708-a7dc-52fa7615fcfd"
      },
      "source": [
        "wandb.init(name = 'DataAug1(RandomRotation+Flip)', project = 'CNN_Experiment_Neetika', config = hyperparameters)"
      ],
      "execution_count": 220,
      "outputs": [
        {
          "output_type": "display_data",
          "data": {
            "text/html": [
              "Finishing last run (ID:1ki73c2i) before initializing another..."
            ],
            "text/plain": [
              "<IPython.core.display.HTML object>"
            ]
          },
          "metadata": {}
        },
        {
          "output_type": "display_data",
          "data": {
            "text/html": [
              "<br/>Waiting for W&B process to finish, PID 2760... <strong style=\"color:green\">(success).</strong>"
            ],
            "text/plain": [
              "<IPython.core.display.HTML object>"
            ]
          },
          "metadata": {}
        },
        {
          "output_type": "display_data",
          "data": {
            "application/vnd.jupyter.widget-view+json": {
              "model_id": "f575ebe8f9014868ab7558d3a3fc8c09",
              "version_minor": 0,
              "version_major": 2
            },
            "text/plain": [
              "VBox(children=(Label(value=' 0.00MB of 0.00MB uploaded (0.00MB deduped)\\r'), FloatProgress(value=1.0, max=1.0)…"
            ]
          },
          "metadata": {}
        },
        {
          "output_type": "display_data",
          "data": {
            "text/html": [
              "<style>\n",
              "    table.wandb td:nth-child(1) { padding: 0 10px; text-align: right }\n",
              "    .wandb-row { display: flex; flex-direction: row; flex-wrap: wrap; width: 100% }\n",
              "    .wandb-col { display: flex; flex-direction: column; flex-basis: 100%; flex: 1; padding: 10px; }\n",
              "    </style>\n",
              "<div class=\"wandb-row\"><div class=\"wandb-col\">\n",
              "<h3>Run history:</h3><br/><table class=\"wandb\"><tr><td>Train Batch Acc :</td><td>▂▁▁▄▃▅▄▇▆▆▆▇▆▇█</td></tr><tr><td>Train Batch Loss  :</td><td>█▇▆▅▅▄▄▂▃▂▂▂▂▂▁</td></tr><tr><td>Train epoch Acc :</td><td>▁▄▆▇█</td></tr><tr><td>Train epoch Loss :</td><td>█▅▃▂▁</td></tr><tr><td>Valid Batch Accuracy :</td><td>▁▅█</td></tr><tr><td>Valid Batch Loss  :</td><td>█▄▁</td></tr><tr><td>Valid epoch Acc :</td><td>▁▅▆██</td></tr><tr><td>Valid epoch Loss :</td><td>█▄▃▁▁</td></tr></table><br/></div><div class=\"wandb-col\">\n",
              "<h3>Run summary:</h3><br/><table class=\"wandb\"><tr><td>Train Batch Acc :</td><td>0.84375</td></tr><tr><td>Train Batch Loss  :</td><td>0.49095</td></tr><tr><td>Train epoch Acc :</td><td>0.7826</td></tr><tr><td>Train epoch Loss :</td><td>0.62601</td></tr><tr><td>Valid Batch Accuracy :</td><td>0.8125</td></tr><tr><td>Valid Batch Loss  :</td><td>0.51383</td></tr><tr><td>Valid epoch Acc :</td><td>0.7616</td></tr><tr><td>Valid epoch Loss :</td><td>0.6835</td></tr></table>\n",
              "</div></div>\n",
              "Synced 5 W&B file(s), 1 media file(s), 0 artifact file(s) and 0 other file(s)\n",
              "<br/>Synced <strong style=\"color:#cdcd00\">DataAug1(RandomRotation+Flip)</strong>: <a href=\"https://wandb.ai/neetika/CNN_Experiment_Neetika/runs/1ki73c2i\" target=\"_blank\">https://wandb.ai/neetika/CNN_Experiment_Neetika/runs/1ki73c2i</a><br/>\n",
              "Find logs at: <code>./wandb/run-20211114_072712-1ki73c2i/logs</code><br/>\n"
            ],
            "text/plain": [
              "<IPython.core.display.HTML object>"
            ]
          },
          "metadata": {}
        },
        {
          "output_type": "display_data",
          "data": {
            "text/html": [
              "Successfully finished last run (ID:1ki73c2i). Initializing new run:<br/>"
            ],
            "text/plain": [
              "<IPython.core.display.HTML object>"
            ]
          },
          "metadata": {}
        },
        {
          "output_type": "display_data",
          "data": {
            "text/html": [
              "\n",
              "                    Syncing run <strong><a href=\"https://wandb.ai/neetika/CNN_Experiment_Neetika/runs/25m5bcux\" target=\"_blank\">DataAug1(RandomRotation+Flip)</a></strong> to <a href=\"https://wandb.ai/neetika/CNN_Experiment_Neetika\" target=\"_blank\">Weights & Biases</a> (<a href=\"https://docs.wandb.com/integrations/jupyter.html\" target=\"_blank\">docs</a>).<br/>\n",
              "\n",
              "                "
            ],
            "text/plain": [
              "<IPython.core.display.HTML object>"
            ]
          },
          "metadata": {}
        },
        {
          "output_type": "execute_result",
          "data": {
            "text/plain": [
              "<wandb.sdk.wandb_run.Run at 0x7f2df6cb3b90>"
            ],
            "text/html": [
              "<button onClick=\"this.nextSibling.style.display='block';this.style.display='none';\">Display W&B run</button><iframe src=\"https://wandb.ai/neetika/CNN_Experiment_Neetika/runs/25m5bcux?jupyter=true\" style=\"border:none;width:100%;height:420px;display:none;\"></iframe>"
            ]
          },
          "metadata": {},
          "execution_count": 220
        }
      ]
    },
    {
      "cell_type": "code",
      "metadata": {
        "colab": {
          "base_uri": "https://localhost:8080/"
        },
        "id": "QGfLJLEiFdkk",
        "outputId": "cfaf8452-a634-4018-f4c6-3a33bd47e072"
      },
      "source": [
        "wandb.config.device = device\n",
        "print(wandb.config.device )"
      ],
      "execution_count": 221,
      "outputs": [
        {
          "output_type": "stream",
          "name": "stdout",
          "text": [
            "cuda:0\n"
          ]
        }
      ]
    },
    {
      "cell_type": "markdown",
      "metadata": {
        "id": "98u2zLrkFdkl"
      },
      "source": [
        "## Specify Dataloader, Loss_function, Model, Optimizer, Weight Initialization"
      ]
    },
    {
      "cell_type": "code",
      "metadata": {
        "id": "HZBxg2y6Fdkl"
      },
      "source": [
        "# Fix seed value\n",
        "SEED = 2345\n",
        "random.seed(SEED)\n",
        "np.random.seed(SEED)\n",
        "torch.manual_seed(SEED)\n",
        "torch.cuda.manual_seed(SEED)\n",
        "torch.backends.cudnn.deterministic = True\n",
        "\n",
        "# Data Loader\n",
        "train_loader = torch.utils.data.DataLoader(train_subset, batch_size=wandb.config.batch_size, shuffle = True)\n",
        "valid_loader = torch.utils.data.DataLoader(valid_subset, batch_size=wandb.config.batch_size, shuffle = False)\n",
        "test_loader = torch.utils.data.DataLoader(testset, batch_size=wandb.config.batch_size,   shuffle = False)\n",
        "\n",
        "# cross entropy loss function\n",
        "loss_function = nn.CrossEntropyLoss()\n",
        "\n",
        "# device \n",
        "model = CIFAR10CNN5()\n",
        "\n",
        "def init_weights(m):\n",
        "  if type(m) == nn.Conv2d:\n",
        "        torch.nn.init.kaiming_normal_(m.weight)\n",
        "        torch.nn.init.zeros_(m.bias)\n",
        "\n",
        "        \n",
        "# apply initialization recursively  to all modules\n",
        "# model.apply(init_weights)\n",
        "\n",
        "wandb.config.init_weights = init_weights\n",
        "\n",
        "# put model to GPUs\n",
        "model.to(wandb.config.device)\n",
        "\n",
        "# Intialize stochiastic gradient descent optimizer\n",
        "optimizer = torch.optim.SGD(model.parameters(), lr = wandb.config.learning_rate, weight_decay=wandb.config.weight_decay, momentum = 0.9)\n",
        "# optimizer = torch.optim.Adam(model.parameters(), lr = wandb.config.learning_rate, weight_decay=wandb.config.weight_decay)\n",
        "# optimizer = torch.optim.RMSprop(model.parameters(), lr=wandb.config.learning_rate,weight_decay=wandb.config.weight_decay, momentum=0.9)\n",
        "\n",
        "wandb.config.optimizer = optimizer\n",
        "\n",
        "# scheduler = ReduceLROnPlateau(optimizer, mode='min', factor= wandb.config.scheduler_factor, \n",
        "                              # patience=wandb.config.scheduler_patience, verbose=True)\n",
        "\n",
        "# scheduler = torch.optim.lr_scheduler.OneCycleLR(optimizer, max_lr=0.1, total_steps=len(train_loader) * 10 , epochs=10, three_phase=True)\n",
        "\n",
        "# scheduler = StepLR(optimizer, gamma=0.4,step_size=1, verbose=True)"
      ],
      "execution_count": 222,
      "outputs": []
    },
    {
      "cell_type": "markdown",
      "metadata": {
        "id": "6fy1vFQAFdkl"
      },
      "source": [
        "## Training and Saving Model"
      ]
    },
    {
      "cell_type": "code",
      "metadata": {
        "colab": {
          "base_uri": "https://localhost:8080/"
        },
        "id": "rj4MGwK7Fdkm",
        "outputId": "42969f69-174d-4681-ebd6-4d0a0803e39d"
      },
      "source": [
        "wandb.watch(model, log = 'all', log_freq=25, log_graph=True)\n"
      ],
      "execution_count": 223,
      "outputs": [
        {
          "output_type": "stream",
          "name": "stderr",
          "text": [
            "\u001b[34m\u001b[1mwandb\u001b[0m: logging graph, to disable use `wandb.watch(log_graph=False)`\n"
          ]
        },
        {
          "output_type": "execute_result",
          "data": {
            "text/plain": [
              "[<wandb.wandb_torch.TorchGraph at 0x7f2ded7b2290>]"
            ]
          },
          "metadata": {},
          "execution_count": 223
        }
      ]
    },
    {
      "cell_type": "code",
      "metadata": {
        "colab": {
          "base_uri": "https://localhost:8080/"
        },
        "id": "rWm2G6jIFdkm",
        "outputId": "81bc1a38-d32f-4499-c150-408425ff1401"
      },
      "source": [
        "example_ct_train, batch_ct_train, example_ct_valid, batch_ct_valid = 0, 0, 0, 0\n",
        "train_loss_history, train_acc_history, valid_loss_history, valid_acc_history = train_loop(train_loader, valid_loader, model, loss_function, optimizer, \n",
        "                                                                                          wandb.config.epochs, wandb.config.device,\n",
        "                                                                                          wandb.config.patience, wandb.config.early_stopping,\n",
        "                                                                                          wandb.config.file_model)"
      ],
      "execution_count": 224,
      "outputs": [
        {
          "output_type": "stream",
          "name": "stdout",
          "text": [
            "Validation loss has decreased (inf --> 1.518196). Saving Model...\n",
            "Epoch : 1 / 5\n",
            "Time to complete 1 is 0:01:04.018552\n",
            "Train Loss:  1.8656 | Train Accuracy:  30.9075%\n",
            "Valid Loss:  1.5182 | Valid Accuracy:  43.5600%\n",
            "\n",
            "Validation loss has decreased (1.518196 --> 1.062454). Saving model...\n",
            "Epoch : 2 / 5\n",
            "Time to complete 2 is 0:01:05.259090\n",
            "Train Loss:  1.2837 | Train Accuracy:  53.4500%\n",
            "Valid Loss:  1.0625 | Valid Accuracy:  61.5500%\n",
            "\n",
            "Validation loss has decreased (1.062454 --> 0.876754). Saving model...\n",
            "Epoch : 3 / 5\n",
            "Time to complete 3 is 0:01:05.634388\n",
            "Train Loss:  0.9861 | Train Accuracy:  65.2425%\n",
            "Valid Loss:  0.8768 | Valid Accuracy:  69.7700%\n",
            "\n",
            "Validation loss has decreased (0.876754 --> 0.731770). Saving model...\n",
            "Epoch : 4 / 5\n",
            "Time to complete 4 is 0:01:05.148150\n",
            "Train Loss:  0.7757 | Train Accuracy:  72.6700%\n",
            "Valid Loss:  0.7318 | Valid Accuracy:  74.0900%\n",
            "\n",
            "Validation loss has decreased (0.731770 --> 0.670416). Saving model...\n",
            "Epoch : 5 / 5\n",
            "Time to complete 5 is 0:01:05.135941\n",
            "Train Loss:  0.6310 | Train Accuracy:  77.9675%\n",
            "Valid Loss:  0.6704 | Valid Accuracy:  76.0700%\n",
            "\n"
          ]
        }
      ]
    },
    {
      "cell_type": "code",
      "metadata": {
        "id": "28pjzj8uFdJi"
      },
      "source": [
        ""
      ],
      "execution_count": null,
      "outputs": []
    },
    {
      "cell_type": "code",
      "metadata": {
        "id": "-Mrh6DzjFdFe"
      },
      "source": [
        ""
      ],
      "execution_count": null,
      "outputs": []
    },
    {
      "cell_type": "markdown",
      "metadata": {
        "id": "Us-AMHhg_2jJ"
      },
      "source": [
        "#Model 6 - Adding Batch Normalization"
      ]
    },
    {
      "cell_type": "markdown",
      "metadata": {
        "id": "KxUf9v2i_2kG"
      },
      "source": [
        "## CNN Model Class"
      ]
    },
    {
      "cell_type": "code",
      "metadata": {
        "id": "jX8sGbG1brvd"
      },
      "source": [
        ""
      ],
      "execution_count": null,
      "outputs": []
    },
    {
      "cell_type": "code",
      "metadata": {
        "colab": {
          "base_uri": "https://localhost:8080/"
        },
        "id": "rr38dotSbmPy",
        "outputId": "5d6a38ab-72fc-45ea-dd28-73d2ef79668e"
      },
      "source": [
        "# Transform to convert images to pytorch tensors and normalize the data\n",
        "train_trans= transforms.Compose([ \n",
        "                                #  transforms.RandomCrop(size = (32,32), padding = 2),\n",
        "                                #  transforms.RandomAffine(degrees=10, translate =(0.05, 0.05), scale=(0.9, 1.1)),\n",
        "                                 transforms.RandomRotation(2.8),\n",
        "                                 transforms.RandomHorizontalFlip(),\n",
        "                                 transforms.ToTensor(), \n",
        "                                 transforms.Normalize((0.4914,0.4822,0.4655), (0.2023,0.1994,0.2010))])\n",
        "trans = transforms.Compose([transforms.ToTensor(), transforms.Normalize((0.4914,0.4822,0.4655), (0.2023,0.1994,0.2010))])\n",
        "train_full = torchvision.datasets.CIFAR10(root=data_folder,\n",
        "                                              train=True, \n",
        "                                              transform=train_trans,\n",
        "                                              download=True)\n",
        "trainset, validset = torch.utils.data.random_split(train_full, [40000, 10000], generator=torch.Generator().manual_seed(42))\n",
        "testset  = torchvision.datasets.CIFAR10(root=data_folder,\n",
        "                                              train=False, \n",
        "                                              transform=trans,\n",
        "                                              download=True)"
      ],
      "execution_count": 251,
      "outputs": [
        {
          "output_type": "stream",
          "name": "stdout",
          "text": [
            "Files already downloaded and verified\n",
            "Files already downloaded and verified\n"
          ]
        }
      ]
    },
    {
      "cell_type": "code",
      "metadata": {
        "id": "D1Hu2Pbubp4v"
      },
      "source": [
        "# n sample points\n",
        "train_sample_size = int(len(trainset)/10)\n",
        "valid_sample_size = int(len(validset)/10)\n",
        "\n",
        "# Getting n random indices\n",
        "train_subset_indices = random.sample(range(0, len(trainset)), train_sample_size)\n",
        "valid_subset_indices = random.sample(range(0, len(testset)), valid_sample_size)\n",
        "\n",
        "# Getting subset of dataset\n",
        "train_subset = torch.utils.data.Subset(trainset, train_subset_indices)\n",
        "valid_subset = torch.utils.data.Subset(validset, valid_subset_indices)"
      ],
      "execution_count": 252,
      "outputs": []
    },
    {
      "cell_type": "code",
      "metadata": {
        "id": "sdgnSI6j_2kH"
      },
      "source": [
        "class CIFAR10CNN6(nn.Module):\n",
        "    \n",
        "    def __init__(self):\n",
        "\n",
        "      super().__init__()\n",
        "\n",
        "      super(CIFAR10CNN6, self).__init__()\n",
        "      \n",
        "      self.conv1_layer = nn.Sequential(\n",
        "          nn.Conv2d(in_channels=3, out_channels=128, kernel_size=3, padding='same'), # 32*32\n",
        "          nn.ReLU(),\n",
        "          nn.Conv2d(in_channels=128, out_channels=128, kernel_size=3, padding='same'), #32*32\n",
        "          nn.ReLU(),\n",
        "          nn.MaxPool2d(kernel_size=2, stride = 2), # 16*16\n",
        "          nn.Dropout(0.05) \n",
        "          \n",
        "      )\n",
        "\n",
        "      self.conv2_layer = nn.Sequential(\n",
        "          nn.Conv2d(in_channels=128, out_channels=512, kernel_size=3, padding='same'), #16*16\n",
        "          nn.ReLU(),\n",
        "          nn.BatchNorm2d(512),\n",
        "          nn.Conv2d(in_channels=512, out_channels=512, kernel_size=3, padding='same'), #16*16\n",
        "          nn.ReLU(),\n",
        "          nn.BatchNorm2d(512),\n",
        "          nn.MaxPool2d(kernel_size=2, stride = 2), # 8*8\n",
        "          # nn.Dropout(0.05)\n",
        "      )\n",
        "\n",
        "\n",
        "      self.flatten = nn.Flatten()\n",
        "      \n",
        "      self.fc1 = nn.Linear(512*8*8, out_features=1024)\n",
        "      self.fc2 = nn.Linear(1024, out_features=512)\n",
        "      self.fc3 = nn.Linear(512, out_features=10)\n",
        "      \n",
        "      \n",
        "      \n",
        "    def forward(self, x):\n",
        "        # conv layers\n",
        "        out = self.conv1_layer(x)\n",
        "        out = self.conv2_layer(out)\n",
        "\n",
        "        # flatten befrore input to linear layer\n",
        "        out = self.flatten(out)\n",
        "        # linear hidden layers\n",
        "        out = F.relu(self.fc1(out))\n",
        "        out = F.relu(self.fc2(out))\n",
        "        # output layer - no softmax as it is applied by nn.CrossEntropyLoss\n",
        "\n",
        "        out = self.fc3(out)\n",
        "        \n",
        "        return out"
      ],
      "execution_count": 244,
      "outputs": []
    },
    {
      "cell_type": "code",
      "metadata": {
        "colab": {
          "base_uri": "https://localhost:8080/"
        },
        "id": "8FKeWEWE_2kI",
        "outputId": "703be25c-a197-427c-c70b-b6e03c7dc9da"
      },
      "source": [
        "summary(CIFAR10CNN6().cuda(), (3, 32, 32))"
      ],
      "execution_count": 233,
      "outputs": [
        {
          "output_type": "stream",
          "name": "stdout",
          "text": [
            "----------------------------------------------------------------\n",
            "        Layer (type)               Output Shape         Param #\n",
            "================================================================\n",
            "            Conv2d-1          [-1, 128, 32, 32]           3,584\n",
            "              ReLU-2          [-1, 128, 32, 32]               0\n",
            "            Conv2d-3          [-1, 128, 32, 32]         147,584\n",
            "              ReLU-4          [-1, 128, 32, 32]               0\n",
            "         MaxPool2d-5          [-1, 128, 16, 16]               0\n",
            "           Dropout-6          [-1, 128, 16, 16]               0\n",
            "            Conv2d-7          [-1, 512, 16, 16]         590,336\n",
            "              ReLU-8          [-1, 512, 16, 16]               0\n",
            "       BatchNorm2d-9          [-1, 512, 16, 16]           1,024\n",
            "           Conv2d-10          [-1, 512, 16, 16]       2,359,808\n",
            "             ReLU-11          [-1, 512, 16, 16]               0\n",
            "      BatchNorm2d-12          [-1, 512, 16, 16]           1,024\n",
            "        MaxPool2d-13            [-1, 512, 8, 8]               0\n",
            "          Flatten-14                [-1, 32768]               0\n",
            "           Linear-15                 [-1, 1024]      33,555,456\n",
            "           Linear-16                  [-1, 512]         524,800\n",
            "           Linear-17                   [-1, 10]           5,130\n",
            "================================================================\n",
            "Total params: 37,188,746\n",
            "Trainable params: 37,188,746\n",
            "Non-trainable params: 0\n",
            "----------------------------------------------------------------\n",
            "Input size (MB): 0.01\n",
            "Forward/backward pass size (MB): 11.01\n",
            "Params size (MB): 141.86\n",
            "Estimated Total Size (MB): 152.89\n",
            "----------------------------------------------------------------\n"
          ]
        }
      ]
    },
    {
      "cell_type": "markdown",
      "metadata": {
        "id": "GccJjGhz_2kJ"
      },
      "source": [
        "## HyperParameter"
      ]
    },
    {
      "cell_type": "code",
      "metadata": {
        "id": "zTZtQlGE_2kJ"
      },
      "source": [
        "hyperparameters= dict(\n",
        "    epochs = 5,\n",
        "    output_dim = 10, \n",
        "    batch_size = 128,\n",
        "    learning_rate = 0.03,\n",
        "    dataset=\"CIFAR10\",\n",
        "    architecture=\"CNN\",\n",
        "    log_interval = 100,\n",
        "    log_batch = True,\n",
        "    file_model = data_folder/'exp1.pt',\n",
        "    grad_clipping = False,\n",
        "    max_norm = 0,\n",
        "    patience = 0 ,\n",
        "    early_stopping = False,\n",
        "    weight_decay = 0,\n",
        "    scheduler_factor = 0,\n",
        "    scheduler_patience = 0,\n",
        "   )\n",
        "\n",
        "device = torch.device('cuda:0' if torch.cuda.is_available() else 'cpu')"
      ],
      "execution_count": 253,
      "outputs": []
    },
    {
      "cell_type": "markdown",
      "metadata": {
        "id": "d-LzzysM_2kJ"
      },
      "source": [
        "## Intialize wandb"
      ]
    },
    {
      "cell_type": "code",
      "metadata": {
        "colab": {
          "base_uri": "https://localhost:8080/",
          "height": 430,
          "referenced_widgets": [
            "33d3cc5b769f4c40b552b4a76a4ec84e",
            "14399c1bbcda42309f057354b41aef61",
            "83bf2d10b78e476c958bea04936c5414",
            "5db2725243c0459cacde726820270e32",
            "c9c906b07b6b47b383581e47927ac333",
            "4a45b5e7a6e1481a9f08004f6d06e25c",
            "275d16342bd841cba31f4c08d091de4b",
            "063de279b7be47f5a563e9f0aee21de0"
          ]
        },
        "id": "prNAw9KE_2kK",
        "outputId": "b64f3c51-e41a-4b41-8bba-be881750d7e0"
      },
      "source": [
        "wandb.init(name = 'BatchNorm2-WithDataAug', project = 'CNN_Experiment_Neetika', config = hyperparameters)"
      ],
      "execution_count": 254,
      "outputs": [
        {
          "output_type": "display_data",
          "data": {
            "text/html": [
              "Finishing last run (ID:1yefdke5) before initializing another..."
            ],
            "text/plain": [
              "<IPython.core.display.HTML object>"
            ]
          },
          "metadata": {}
        },
        {
          "output_type": "display_data",
          "data": {
            "text/html": [
              "<br/>Waiting for W&B process to finish, PID 3163... <strong style=\"color:green\">(success).</strong>"
            ],
            "text/plain": [
              "<IPython.core.display.HTML object>"
            ]
          },
          "metadata": {}
        },
        {
          "output_type": "display_data",
          "data": {
            "application/vnd.jupyter.widget-view+json": {
              "model_id": "33d3cc5b769f4c40b552b4a76a4ec84e",
              "version_minor": 0,
              "version_major": 2
            },
            "text/plain": [
              "VBox(children=(Label(value=' 0.00MB of 0.00MB uploaded (0.00MB deduped)\\r'), FloatProgress(value=1.0, max=1.0)…"
            ]
          },
          "metadata": {}
        },
        {
          "output_type": "display_data",
          "data": {
            "text/html": [
              "<style>\n",
              "    table.wandb td:nth-child(1) { padding: 0 10px; text-align: right }\n",
              "    .wandb-row { display: flex; flex-direction: row; flex-wrap: wrap; width: 100% }\n",
              "    .wandb-col { display: flex; flex-direction: column; flex-basis: 100%; flex: 1; padding: 10px; }\n",
              "    </style>\n",
              "<div class=\"wandb-row\"><div class=\"wandb-col\">\n",
              "<h3>Run history:</h3><br/><table class=\"wandb\"><tr><td>Train Batch Acc :</td><td>▁▃▄▅▆▇█</td></tr><tr><td>Train Batch Loss  :</td><td>█▅▅▄▃▂▁</td></tr><tr><td>Train epoch Acc :</td><td>▁▄▆▇█</td></tr><tr><td>Train epoch Loss :</td><td>█▅▃▂▁</td></tr><tr><td>Valid Batch Accuracy :</td><td>▁█</td></tr><tr><td>Valid Batch Loss  :</td><td>█▁</td></tr><tr><td>Valid epoch Acc :</td><td>▁▅▆██</td></tr><tr><td>Valid epoch Loss :</td><td>█▄▂▁▂</td></tr></table><br/></div><div class=\"wandb-col\">\n",
              "<h3>Run summary:</h3><br/><table class=\"wandb\"><tr><td>Train Batch Acc :</td><td>0.94531</td></tr><tr><td>Train Batch Loss  :</td><td>0.20108</td></tr><tr><td>Train epoch Acc :</td><td>0.9113</td></tr><tr><td>Train epoch Loss :</td><td>0.26085</td></tr><tr><td>Valid Batch Accuracy :</td><td>0.76172</td></tr><tr><td>Valid Batch Loss  :</td><td>0.76283</td></tr><tr><td>Valid epoch Acc :</td><td>0.7669</td></tr><tr><td>Valid epoch Loss :</td><td>0.74064</td></tr></table>\n",
              "</div></div>\n",
              "Synced 5 W&B file(s), 1 media file(s), 0 artifact file(s) and 0 other file(s)\n",
              "<br/>Synced <strong style=\"color:#cdcd00\">BatchNorm1-WithoutDataAug</strong>: <a href=\"https://wandb.ai/neetika/CNN_Experiment_Neetika/runs/1yefdke5\" target=\"_blank\">https://wandb.ai/neetika/CNN_Experiment_Neetika/runs/1yefdke5</a><br/>\n",
              "Find logs at: <code>./wandb/run-20211114_075333-1yefdke5/logs</code><br/>\n"
            ],
            "text/plain": [
              "<IPython.core.display.HTML object>"
            ]
          },
          "metadata": {}
        },
        {
          "output_type": "display_data",
          "data": {
            "text/html": [
              "Successfully finished last run (ID:1yefdke5). Initializing new run:<br/>"
            ],
            "text/plain": [
              "<IPython.core.display.HTML object>"
            ]
          },
          "metadata": {}
        },
        {
          "output_type": "display_data",
          "data": {
            "text/html": [
              "\n",
              "                    Syncing run <strong><a href=\"https://wandb.ai/neetika/CNN_Experiment_Neetika/runs/27i2zktd\" target=\"_blank\">BatchNorm2-WithDataAug</a></strong> to <a href=\"https://wandb.ai/neetika/CNN_Experiment_Neetika\" target=\"_blank\">Weights & Biases</a> (<a href=\"https://docs.wandb.com/integrations/jupyter.html\" target=\"_blank\">docs</a>).<br/>\n",
              "\n",
              "                "
            ],
            "text/plain": [
              "<IPython.core.display.HTML object>"
            ]
          },
          "metadata": {}
        },
        {
          "output_type": "execute_result",
          "data": {
            "text/plain": [
              "<wandb.sdk.wandb_run.Run at 0x7f2df6cbb910>"
            ],
            "text/html": [
              "<button onClick=\"this.nextSibling.style.display='block';this.style.display='none';\">Display W&B run</button><iframe src=\"https://wandb.ai/neetika/CNN_Experiment_Neetika/runs/27i2zktd?jupyter=true\" style=\"border:none;width:100%;height:420px;display:none;\"></iframe>"
            ]
          },
          "metadata": {},
          "execution_count": 254
        }
      ]
    },
    {
      "cell_type": "code",
      "metadata": {
        "colab": {
          "base_uri": "https://localhost:8080/"
        },
        "id": "IsylWMHV_2kK",
        "outputId": "8cd62582-e46d-4816-992e-f8572ff24957"
      },
      "source": [
        "wandb.config.device = device\n",
        "print(wandb.config.device )"
      ],
      "execution_count": 255,
      "outputs": [
        {
          "output_type": "stream",
          "name": "stdout",
          "text": [
            "cuda:0\n"
          ]
        }
      ]
    },
    {
      "cell_type": "markdown",
      "metadata": {
        "id": "HwNiu8JH_2kK"
      },
      "source": [
        "## Specify Dataloader, Loss_function, Model, Optimizer, Weight Initialization"
      ]
    },
    {
      "cell_type": "code",
      "metadata": {
        "id": "HCjMiBlH_2kL"
      },
      "source": [
        "# Fix seed value\n",
        "SEED = 2345\n",
        "random.seed(SEED)\n",
        "np.random.seed(SEED)\n",
        "torch.manual_seed(SEED)\n",
        "torch.cuda.manual_seed(SEED)\n",
        "torch.backends.cudnn.deterministic = True\n",
        "\n",
        "# Data Loader\n",
        "train_loader = torch.utils.data.DataLoader(train_subset, batch_size=wandb.config.batch_size, shuffle = True)\n",
        "valid_loader = torch.utils.data.DataLoader(valid_subset, batch_size=wandb.config.batch_size, shuffle = False)\n",
        "test_loader = torch.utils.data.DataLoader(testset, batch_size=wandb.config.batch_size,   shuffle = False)\n",
        "\n",
        "# cross entropy loss function\n",
        "loss_function = nn.CrossEntropyLoss()\n",
        "\n",
        "# device \n",
        "model = CIFAR10CNN6()\n",
        "\n",
        "def init_weights(m):\n",
        "  if type(m) == nn.Conv2d:\n",
        "        torch.nn.init.kaiming_normal_(m.weight)\n",
        "        torch.nn.init.zeros_(m.bias)\n",
        "\n",
        "        \n",
        "# apply initialization recursively  to all modules\n",
        "# model.apply(init_weights)\n",
        "\n",
        "wandb.config.init_weights = init_weights\n",
        "\n",
        "# put model to GPUs\n",
        "model.to(wandb.config.device)\n",
        "\n",
        "# Intialize stochiastic gradient descent optimizer\n",
        "optimizer = torch.optim.SGD(model.parameters(), lr = wandb.config.learning_rate, weight_decay=wandb.config.weight_decay, momentum = 0.9)\n",
        "# optimizer = torch.optim.Adam(model.parameters(), lr = wandb.config.learning_rate, weight_decay=wandb.config.weight_decay)\n",
        "# optimizer = torch.optim.RMSprop(model.parameters(), lr=wandb.config.learning_rate,weight_decay=wandb.config.weight_decay, momentum=0.9)\n",
        "\n",
        "wandb.config.optimizer = optimizer\n",
        "\n",
        "# scheduler = ReduceLROnPlateau(optimizer, mode='min', factor= wandb.config.scheduler_factor, \n",
        "                              # patience=wandb.config.scheduler_patience, verbose=True)\n",
        "\n",
        "scheduler = torch.optim.lr_scheduler.OneCycleLR(optimizer, max_lr=0.1, total_steps=len(train_loader) * 10 , epochs=10, three_phase=True)\n",
        "\n",
        "# scheduler = StepLR(optimizer, gamma=0.4,step_size=1, verbose=True)"
      ],
      "execution_count": 257,
      "outputs": []
    },
    {
      "cell_type": "markdown",
      "metadata": {
        "id": "Fi1oW41M_2kL"
      },
      "source": [
        "## Training and Saving Model"
      ]
    },
    {
      "cell_type": "code",
      "metadata": {
        "colab": {
          "base_uri": "https://localhost:8080/"
        },
        "id": "S6-Fg7p8_2kL",
        "outputId": "e50ff825-846d-4ffd-ddf3-a54fd00c51f6"
      },
      "source": [
        "wandb.watch(model, log = 'all', log_freq=25, log_graph=True)\n"
      ],
      "execution_count": 258,
      "outputs": [
        {
          "output_type": "stream",
          "name": "stderr",
          "text": [
            "\u001b[34m\u001b[1mwandb\u001b[0m: logging graph, to disable use `wandb.watch(log_graph=False)`\n"
          ]
        },
        {
          "output_type": "execute_result",
          "data": {
            "text/plain": [
              "[<wandb.wandb_torch.TorchGraph at 0x7f2ded65b4d0>]"
            ]
          },
          "metadata": {},
          "execution_count": 258
        }
      ]
    },
    {
      "cell_type": "code",
      "metadata": {
        "colab": {
          "base_uri": "https://localhost:8080/"
        },
        "id": "AZQ9U86k_2kM",
        "outputId": "85ea98d0-7d2e-48f7-827d-62f867424447"
      },
      "source": [
        "example_ct_train, batch_ct_train, example_ct_valid, batch_ct_valid = 0, 0, 0, 0\n",
        "train_loss_history, train_acc_history, valid_loss_history, valid_acc_history = train_loop(train_loader, valid_loader, model, loss_function, optimizer, \n",
        "                                                                                          wandb.config.epochs, wandb.config.device,\n",
        "                                                                                          wandb.config.patience, wandb.config.early_stopping,\n",
        "                                                                                          wandb.config.file_model)"
      ],
      "execution_count": 259,
      "outputs": [
        {
          "output_type": "stream",
          "name": "stdout",
          "text": [
            "Validation loss has decreased (inf --> 1.005749). Saving Model...\n",
            "Epoch : 1 / 5\n",
            "Time to complete 1 is 0:01:09.767372\n",
            "Train Loss:  1.2697 | Train Accuracy:  53.9475%\n",
            "Valid Loss:  1.0057 | Valid Accuracy:  64.3000%\n",
            "\n",
            "Validation loss has decreased (1.005749 --> 0.792099). Saving model...\n",
            "Epoch : 2 / 5\n",
            "Time to complete 2 is 0:01:11.120318\n",
            "Train Loss:  0.7996 | Train Accuracy:  71.7900%\n",
            "Valid Loss:  0.7921 | Valid Accuracy:  72.6800%\n",
            "\n",
            "Validation loss has decreased (0.792099 --> 0.662142). Saving model...\n",
            "Epoch : 3 / 5\n",
            "Time to complete 3 is 0:01:11.043428\n",
            "Train Loss:  0.6102 | Train Accuracy:  78.5525%\n",
            "Valid Loss:  0.6621 | Valid Accuracy:  77.1400%\n",
            "\n",
            "Validation loss has decreased (0.662142 --> 0.602200). Saving model...\n",
            "Epoch : 4 / 5\n",
            "Time to complete 4 is 0:01:09.851309\n",
            "Train Loss:  0.4826 | Train Accuracy:  83.1800%\n",
            "Valid Loss:  0.6022 | Valid Accuracy:  79.2100%\n",
            "\n",
            "Validation loss has decreased (0.602200 --> 0.573868). Saving model...\n",
            "Epoch : 5 / 5\n",
            "Time to complete 5 is 0:01:10.839163\n",
            "Train Loss:  0.3797 | Train Accuracy:  86.7200%\n",
            "Valid Loss:  0.5739 | Valid Accuracy:  80.9400%\n",
            "\n"
          ]
        }
      ]
    },
    {
      "cell_type": "markdown",
      "metadata": {
        "id": "UpmDypfdfuOs"
      },
      "source": [
        "# Full Dataset"
      ]
    },
    {
      "cell_type": "markdown",
      "metadata": {
        "id": "2yXDsfClfuLr"
      },
      "source": [
        ""
      ]
    },
    {
      "cell_type": "markdown",
      "metadata": {
        "id": "JQoAxMqBgDia"
      },
      "source": [
        "## Data Transformation"
      ]
    },
    {
      "cell_type": "code",
      "metadata": {
        "id": "U-CZereoYgoz",
        "colab": {
          "base_uri": "https://localhost:8080/"
        },
        "outputId": "0808244e-81c3-486d-ad9b-2a02153e5690"
      },
      "source": [
        "# Transform to convert images to pytorch tensors and normalize the data\n",
        "train_trans= transforms.Compose([ \n",
        "                                #  transforms.RandomCrop(size = (32,32), padding = 2),\n",
        "                                #  transforms.RandomAffine(degrees=10, translate =(0.05, 0.05), scale=(0.9, 1.1)),\n",
        "                                transforms.RandomRotation(2.8),\n",
        "                                transforms.RandomHorizontalFlip(),\n",
        "                                transforms.ToTensor(), \n",
        "                                transforms.Normalize((0.4914,0.4822,0.4655), (0.2023,0.1994,0.2010))])\n",
        "trans = transforms.Compose([transforms.ToTensor(), transforms.Normalize((0.4914,0.4822,0.4655), (0.2023,0.1994,0.2010))])\n",
        "train_full = torchvision.datasets.CIFAR10(root=data_folder,\n",
        "                                              train=True, \n",
        "                                              transform=train_trans,\n",
        "                                              download=True)\n",
        "trainset, validset = torch.utils.data.random_split(train_full, [40000, 10000], generator=torch.Generator().manual_seed(42))\n",
        "testset  = torchvision.datasets.CIFAR10(root=data_folder,\n",
        "                                              train=False, \n",
        "                                              transform=trans,\n",
        "                                              download=True)"
      ],
      "execution_count": 8,
      "outputs": [
        {
          "output_type": "stream",
          "name": "stdout",
          "text": [
            "Files already downloaded and verified\n",
            "Files already downloaded and verified\n"
          ]
        }
      ]
    },
    {
      "cell_type": "markdown",
      "metadata": {
        "id": "aY37L0qNgGtv"
      },
      "source": [
        "## Final Model"
      ]
    },
    {
      "cell_type": "code",
      "metadata": {
        "id": "XLLop6SwYgoz"
      },
      "source": [
        "class CIFAR10CNN(nn.Module):\n",
        "    \n",
        "    def __init__(self):\n",
        "\n",
        "      super().__init__()\n",
        "\n",
        "      super(CIFAR10CNN, self).__init__()\n",
        "      \n",
        "      self.conv1_layer = nn.Sequential(\n",
        "          nn.Conv2d(in_channels=3, out_channels=128, kernel_size=3, padding='same'), # 32*32\n",
        "          nn.ReLU(),\n",
        "          # nn.BatchNorm2d(128),\n",
        "          nn.Conv2d(in_channels=128, out_channels=128, kernel_size=3, padding='same'), #32*32\n",
        "          nn.ReLU(),\n",
        "          # nn.BatchNorm2d(128),\n",
        "          nn.MaxPool2d(kernel_size=2, stride = 2), # 16*16\n",
        "          nn.Dropout(0.05) \n",
        "          \n",
        "      )\n",
        "\n",
        "      self.conv2_layer = nn.Sequential(\n",
        "          nn.Conv2d(in_channels=128, out_channels=512, kernel_size=3, padding='same'), #16*16\n",
        "          nn.ReLU(),\n",
        "          nn.BatchNorm2d(512),\n",
        "          nn.Conv2d(in_channels=512, out_channels=512, kernel_size=3, padding='same'), #16*16\n",
        "          nn.ReLU(),\n",
        "          nn.BatchNorm2d(512),\n",
        "          nn.MaxPool2d(kernel_size=2, stride = 2), # 8*8\n",
        "      )\n",
        "\n",
        "\n",
        "      self.flatten = nn.Flatten()\n",
        "      \n",
        "      self.fc1 = nn.Linear(512*8*8, out_features=1024)\n",
        "      self.fc2 = nn.Linear(1024, out_features=512)\n",
        "      self.fc3 = nn.Linear(512, out_features=10)\n",
        "      \n",
        "      \n",
        "      \n",
        "    def forward(self, x):\n",
        "        # conv layers\n",
        "        out = self.conv1_layer(x)\n",
        "        out = self.conv2_layer(out)\n",
        "\n",
        "        # flatten befrore input to linear layer\n",
        "        out = self.flatten(out)\n",
        "        # linear hidden layers\n",
        "        out = F.relu(self.fc1(out))\n",
        "        out = F.relu(self.fc2(out))\n",
        "        # output layer - no softmax as it is applied by nn.CrossEntropyLoss\n",
        "\n",
        "        out = self.fc3(out)\n",
        "        \n",
        "        return out"
      ],
      "execution_count": 9,
      "outputs": []
    },
    {
      "cell_type": "code",
      "metadata": {
        "id": "fZSruuweYgoz"
      },
      "source": [
        ""
      ],
      "execution_count": 9,
      "outputs": []
    },
    {
      "cell_type": "code",
      "metadata": {
        "colab": {
          "base_uri": "https://localhost:8080/"
        },
        "id": "ecwEN6jiga0u",
        "outputId": "6226054a-8a6f-4a2f-d120-890705dc94ce"
      },
      "source": [
        "summary(CIFAR10CNN().cuda(), (3, 32, 32))"
      ],
      "execution_count": 10,
      "outputs": [
        {
          "output_type": "stream",
          "name": "stdout",
          "text": [
            "----------------------------------------------------------------\n",
            "        Layer (type)               Output Shape         Param #\n",
            "================================================================\n",
            "            Conv2d-1          [-1, 128, 32, 32]           3,584\n",
            "              ReLU-2          [-1, 128, 32, 32]               0\n",
            "            Conv2d-3          [-1, 128, 32, 32]         147,584\n",
            "              ReLU-4          [-1, 128, 32, 32]               0\n",
            "         MaxPool2d-5          [-1, 128, 16, 16]               0\n",
            "           Dropout-6          [-1, 128, 16, 16]               0\n",
            "            Conv2d-7          [-1, 512, 16, 16]         590,336\n",
            "              ReLU-8          [-1, 512, 16, 16]               0\n",
            "       BatchNorm2d-9          [-1, 512, 16, 16]           1,024\n",
            "           Conv2d-10          [-1, 512, 16, 16]       2,359,808\n",
            "             ReLU-11          [-1, 512, 16, 16]               0\n",
            "      BatchNorm2d-12          [-1, 512, 16, 16]           1,024\n",
            "        MaxPool2d-13            [-1, 512, 8, 8]               0\n",
            "          Flatten-14                [-1, 32768]               0\n",
            "           Linear-15                 [-1, 1024]      33,555,456\n",
            "           Linear-16                  [-1, 512]         524,800\n",
            "           Linear-17                   [-1, 10]           5,130\n",
            "================================================================\n",
            "Total params: 37,188,746\n",
            "Trainable params: 37,188,746\n",
            "Non-trainable params: 0\n",
            "----------------------------------------------------------------\n",
            "Input size (MB): 0.01\n",
            "Forward/backward pass size (MB): 11.01\n",
            "Params size (MB): 141.86\n",
            "Estimated Total Size (MB): 152.89\n",
            "----------------------------------------------------------------\n"
          ]
        }
      ]
    },
    {
      "cell_type": "markdown",
      "metadata": {
        "id": "-Zr2vuzoga0v"
      },
      "source": [
        "## HyperParameter"
      ]
    },
    {
      "cell_type": "code",
      "metadata": {
        "id": "ptESda_Nga0w"
      },
      "source": [
        "hyperparameters= dict(\n",
        "    epochs = 10,\n",
        "    output_dim = 10, \n",
        "    batch_size = 512,\n",
        "    learning_rate = 0.005,\n",
        "    dataset=\"CIFAR10\",\n",
        "    architecture=\"CNN\",\n",
        "    log_interval = 100,\n",
        "    log_batch = True,\n",
        "    file_model = data_folder/'exp1.pt',\n",
        "    grad_clipping = False,\n",
        "    max_norm = 0,\n",
        "    patience = 0 ,\n",
        "    early_stopping = False,\n",
        "    weight_decay = 0,\n",
        "    scheduler_factor = 0,\n",
        "    scheduler_patience = 0,\n",
        "   )\n",
        "\n",
        "device = torch.device('cuda:0' if torch.cuda.is_available() else 'cpu')"
      ],
      "execution_count": 55,
      "outputs": []
    },
    {
      "cell_type": "markdown",
      "metadata": {
        "id": "Ddm4JlBaga0x"
      },
      "source": [
        "## Intialize wandb"
      ]
    },
    {
      "cell_type": "code",
      "metadata": {
        "colab": {
          "base_uri": "https://localhost:8080/",
          "height": 430,
          "referenced_widgets": [
            "3a6c2a6e290345e680f5af84a4295413",
            "177c6382716840d29ef8e371b4508ba7",
            "96442d70d1324ee98e2c897157838b38",
            "a14d73cb960a46dfb27f53ca3b58c1cf",
            "1dc7102ab842459eb77c3ef49617cfc6",
            "63a91b6f967c4f78aa6a0b2efecc1a2a",
            "4068fcd8151b4550b0b7a9bb046218d6",
            "828920b1f6284b1497f249e9eced94fe"
          ]
        },
        "id": "sy70qfiHga0x",
        "outputId": "ca8cef92-5fea-4254-85af-3bfef190083f"
      },
      "source": [
        "wandb.init(name = 'FullData-Exp3_batch_size(512)+LR(0.005)', project = 'CNN_Experiment_Neetika', config = hyperparameters)"
      ],
      "execution_count": 49,
      "outputs": [
        {
          "output_type": "display_data",
          "data": {
            "text/html": [
              "Finishing last run (ID:3gibxp9a) before initializing another..."
            ],
            "text/plain": [
              "<IPython.core.display.HTML object>"
            ]
          },
          "metadata": {}
        },
        {
          "output_type": "display_data",
          "data": {
            "text/html": [
              "<br/>Waiting for W&B process to finish, PID 1357... <strong style=\"color:green\">(success).</strong>"
            ],
            "text/plain": [
              "<IPython.core.display.HTML object>"
            ]
          },
          "metadata": {}
        },
        {
          "output_type": "display_data",
          "data": {
            "application/vnd.jupyter.widget-view+json": {
              "model_id": "3a6c2a6e290345e680f5af84a4295413",
              "version_minor": 0,
              "version_major": 2
            },
            "text/plain": [
              "VBox(children=(Label(value=' 0.00MB of 0.00MB uploaded (0.00MB deduped)\\r'), FloatProgress(value=1.0, max=1.0)…"
            ]
          },
          "metadata": {}
        },
        {
          "output_type": "display_data",
          "data": {
            "text/html": [
              "<style>\n",
              "    table.wandb td:nth-child(1) { padding: 0 10px; text-align: right }\n",
              "    .wandb-row { display: flex; flex-direction: row; flex-wrap: wrap; width: 100% }\n",
              "    .wandb-col { display: flex; flex-direction: column; flex-basis: 100%; flex: 1; padding: 10px; }\n",
              "    </style>\n",
              "<div class=\"wandb-row\"><div class=\"wandb-col\">\n",
              "<h3>Run history:</h3><br/><table class=\"wandb\"><tr><td>Train Batch Acc :</td><td>▁▅▇█</td></tr><tr><td>Train Batch Loss  :</td><td>█▄▂▁</td></tr><tr><td>Train epoch Acc :</td><td>▁▄▅▆▆▇▇▇██</td></tr><tr><td>Train epoch Loss :</td><td>█▅▄▃▃▂▂▂▁▁</td></tr><tr><td>Valid Batch Accuracy :</td><td>▁</td></tr><tr><td>Valid Batch Loss  :</td><td>▁</td></tr><tr><td>Valid epoch Acc :</td><td>▁▅▅▆▆▇████</td></tr><tr><td>Valid epoch Loss :</td><td>█▄▃▂▂▂▁▁▁▁</td></tr></table><br/></div><div class=\"wandb-col\">\n",
              "<h3>Run summary:</h3><br/><table class=\"wandb\"><tr><td>Train Batch Acc :</td><td>0.85254</td></tr><tr><td>Train Batch Loss  :</td><td>0.43934</td></tr><tr><td>Train epoch Acc :</td><td>0.8485</td></tr><tr><td>Train epoch Loss :</td><td>0.43506</td></tr><tr><td>Valid Batch Accuracy :</td><td>0.75391</td></tr><tr><td>Valid Batch Loss  :</td><td>0.67364</td></tr><tr><td>Valid epoch Acc :</td><td>0.7748</td></tr><tr><td>Valid epoch Loss :</td><td>0.6525</td></tr></table>\n",
              "</div></div>\n",
              "Synced 5 W&B file(s), 1 media file(s), 0 artifact file(s) and 0 other file(s)\n",
              "<br/>Synced <strong style=\"color:#cdcd00\">FullData-Exp3_batch_size(1024)+LR(0.005)</strong>: <a href=\"https://wandb.ai/neetika/CNN_Experiment_Neetika/runs/3gibxp9a\" target=\"_blank\">https://wandb.ai/neetika/CNN_Experiment_Neetika/runs/3gibxp9a</a><br/>\n",
              "Find logs at: <code>./wandb/run-20211114_160552-3gibxp9a/logs</code><br/>\n"
            ],
            "text/plain": [
              "<IPython.core.display.HTML object>"
            ]
          },
          "metadata": {}
        },
        {
          "output_type": "display_data",
          "data": {
            "text/html": [
              "Successfully finished last run (ID:3gibxp9a). Initializing new run:<br/>"
            ],
            "text/plain": [
              "<IPython.core.display.HTML object>"
            ]
          },
          "metadata": {}
        },
        {
          "output_type": "display_data",
          "data": {
            "text/html": [
              "\n",
              "                    Syncing run <strong><a href=\"https://wandb.ai/neetika/CNN_Experiment_Neetika/runs/2blw74s0\" target=\"_blank\">FullData-Exp3_batch_size(512)+LR(0.005)</a></strong> to <a href=\"https://wandb.ai/neetika/CNN_Experiment_Neetika\" target=\"_blank\">Weights & Biases</a> (<a href=\"https://docs.wandb.com/integrations/jupyter.html\" target=\"_blank\">docs</a>).<br/>\n",
              "\n",
              "                "
            ],
            "text/plain": [
              "<IPython.core.display.HTML object>"
            ]
          },
          "metadata": {}
        },
        {
          "output_type": "execute_result",
          "data": {
            "text/plain": [
              "<wandb.sdk.wandb_run.Run at 0x7f9f60041bd0>"
            ],
            "text/html": [
              "<button onClick=\"this.nextSibling.style.display='block';this.style.display='none';\">Display W&B run</button><iframe src=\"https://wandb.ai/neetika/CNN_Experiment_Neetika/runs/2blw74s0?jupyter=true\" style=\"border:none;width:100%;height:420px;display:none;\"></iframe>"
            ]
          },
          "metadata": {},
          "execution_count": 49
        }
      ]
    },
    {
      "cell_type": "code",
      "metadata": {
        "colab": {
          "base_uri": "https://localhost:8080/"
        },
        "id": "Ons3JWixga0y",
        "outputId": "3a1c78ad-1729-4075-a0d8-250e263cf1c4"
      },
      "source": [
        "wandb.config.device = device\n",
        "print(wandb.config.device )"
      ],
      "execution_count": 50,
      "outputs": [
        {
          "output_type": "stream",
          "name": "stdout",
          "text": [
            "cuda:0\n"
          ]
        }
      ]
    },
    {
      "cell_type": "markdown",
      "metadata": {
        "id": "sbWwQP9Oga0y"
      },
      "source": [
        "## Specify Dataloader, Loss_function, Model, Optimizer, Weight Initialization"
      ]
    },
    {
      "cell_type": "code",
      "metadata": {
        "id": "Wy13ndlZga0z"
      },
      "source": [
        "# Fix seed value\n",
        "SEED = 2345\n",
        "random.seed(SEED)\n",
        "np.random.seed(SEED)\n",
        "torch.manual_seed(SEED)\n",
        "torch.cuda.manual_seed(SEED)\n",
        "torch.backends.cudnn.deterministic = True\n",
        "\n",
        "# Data Loader\n",
        "train_loader = torch.utils.data.DataLoader(trainset, batch_size=wandb.config.batch_size, shuffle = True)\n",
        "valid_loader = torch.utils.data.DataLoader(validset, batch_size=wandb.config.batch_size, shuffle = False)\n",
        "test_loader = torch.utils.data.DataLoader(testset, batch_size=wandb.config.batch_size,   shuffle = False)\n",
        "\n",
        "# cross entropy loss function\n",
        "loss_function = nn.CrossEntropyLoss()\n",
        "\n",
        "# device \n",
        "model = CIFAR10CNN()\n",
        "\n",
        "def init_weights(m):\n",
        "  if type(m) == nn.Conv2d:\n",
        "        torch.nn.init.kaiming_normal_(m.weight)\n",
        "        torch.nn.init.zeros_(m.bias)\n",
        "\n",
        "        \n",
        "# apply initialization recursively  to all modules\n",
        "# model.apply(init_weights)\n",
        "\n",
        "wandb.config.init_weights = init_weights\n",
        "\n",
        "# put model to GPUs\n",
        "model.to(wandb.config.device)\n",
        "\n",
        "# Intialize stochiastic gradient descent optimizer\n",
        "optimizer = torch.optim.SGD(model.parameters(), lr = wandb.config.learning_rate, weight_decay=wandb.config.weight_decay, momentum = 0.9)\n",
        "# optimizer = torch.optim.Adam(model.parameters(), lr = wandb.config.learning_rate, weight_decay=wandb.config.weight_decay)\n",
        "# optimizer = torch.optim.RMSprop(model.parameters(), lr=wandb.config.learning_rate,weight_decay=wandb.config.weight_decay, momentum=0.9)\n",
        "\n",
        "wandb.config.optimizer = optimizer\n",
        "\n",
        "# scheduler = ReduceLROnPlateau(optimizer, mode='min', factor= wandb.config.scheduler_factor, \n",
        "                              # patience=wandb.config.scheduler_patience, verbose=True)\n",
        "\n",
        "scheduler = torch.optim.lr_scheduler.OneCycleLR(optimizer, max_lr=0.1, total_steps=len(train_loader) * 10 , epochs=10, three_phase=True)\n",
        "\n",
        "# scheduler = StepLR(optimizer, gamma=0.4,step_size=1, verbose=True)"
      ],
      "execution_count": 51,
      "outputs": []
    },
    {
      "cell_type": "markdown",
      "metadata": {
        "id": "LJQFtXuUga00"
      },
      "source": [
        "## Training and Saving Model"
      ]
    },
    {
      "cell_type": "code",
      "metadata": {
        "colab": {
          "base_uri": "https://localhost:8080/"
        },
        "id": "nk6wyA1iga00",
        "outputId": "4b535a6c-50bf-4411-9073-b9c13d0ce96b"
      },
      "source": [
        "wandb.watch(model, log = 'all', log_freq=25, log_graph=True)\n"
      ],
      "execution_count": 52,
      "outputs": [
        {
          "output_type": "stream",
          "name": "stderr",
          "text": [
            "\u001b[34m\u001b[1mwandb\u001b[0m: logging graph, to disable use `wandb.watch(log_graph=False)`\n"
          ]
        },
        {
          "output_type": "execute_result",
          "data": {
            "text/plain": [
              "[<wandb.wandb_torch.TorchGraph at 0x7f9f2a7176d0>]"
            ]
          },
          "metadata": {},
          "execution_count": 52
        }
      ]
    },
    {
      "cell_type": "code",
      "metadata": {
        "colab": {
          "base_uri": "https://localhost:8080/"
        },
        "id": "vvqLO0J-ga01",
        "outputId": "d5093bea-e7d8-4c13-a782-c78649a6503f"
      },
      "source": [
        "example_ct_train, batch_ct_train, example_ct_valid, batch_ct_valid = 0, 0, 0, 0\n",
        "train_loss_history, train_acc_history, valid_loss_history, valid_acc_history = train_loop(train_loader, valid_loader, model, loss_function, optimizer, \n",
        "                                                                                          wandb.config.epochs, wandb.config.device,\n",
        "                                                                                          wandb.config.patience, wandb.config.early_stopping,\n",
        "                                                                                          wandb.config.file_model)"
      ],
      "execution_count": 53,
      "outputs": [
        {
          "output_type": "stream",
          "name": "stdout",
          "text": [
            "Validation loss has decreased (inf --> 1.238680). Saving Model...\n",
            "Epoch : 1 / 10\n",
            "Time to complete 1 is 0:00:59.051305\n",
            "Train Loss:  1.5362 | Train Accuracy:  44.4000%\n",
            "Valid Loss:  1.2387 | Valid Accuracy:  55.4600%\n",
            "\n",
            "Validation loss has decreased (1.238680 --> 0.953878). Saving model...\n",
            "Epoch : 2 / 10\n",
            "Time to complete 2 is 0:01:00.133284\n",
            "Train Loss:  1.0322 | Train Accuracy:  62.7325%\n",
            "Valid Loss:  0.9539 | Valid Accuracy:  66.2700%\n",
            "\n",
            "Validation loss has decreased (0.953878 --> 0.811191). Saving model...\n",
            "Epoch : 3 / 10\n",
            "Time to complete 3 is 0:01:00.231129\n",
            "Train Loss:  0.8051 | Train Accuracy:  71.5775%\n",
            "Valid Loss:  0.8112 | Valid Accuracy:  71.0400%\n",
            "\n",
            "Validation loss has decreased (0.811191 --> 0.726982). Saving model...\n",
            "Epoch : 4 / 10\n",
            "Time to complete 4 is 0:01:00.201283\n",
            "Train Loss:  0.6954 | Train Accuracy:  75.3925%\n",
            "Valid Loss:  0.7270 | Valid Accuracy:  73.7700%\n",
            "\n",
            "Validation loss has decreased (0.726982 --> 0.686360). Saving model...\n",
            "Epoch : 5 / 10\n",
            "Time to complete 5 is 0:01:00.062990\n",
            "Train Loss:  0.5744 | Train Accuracy:  79.9325%\n",
            "Valid Loss:  0.6864 | Valid Accuracy:  76.0300%\n",
            "\n",
            "Validation loss has decreased (0.686360 --> 0.641572). Saving model...\n",
            "Epoch : 6 / 10\n",
            "Time to complete 6 is 0:01:00.167026\n",
            "Train Loss:  0.4951 | Train Accuracy:  82.6600%\n",
            "Valid Loss:  0.6416 | Valid Accuracy:  78.1700%\n",
            "\n",
            "Validation loss has not decreased (0.641572 --> 0.645349). Not Saving Model...\n",
            "Epoch : 7 / 10\n",
            "Time to complete 7 is 0:01:00.252142\n",
            "Train Loss:  0.4151 | Train Accuracy:  85.5700%\n",
            "Valid Loss:  0.6453 | Valid Accuracy:  77.9500%\n",
            "\n",
            "Validation loss has decreased (0.641572 --> 0.635996). Saving model...\n",
            "Epoch : 8 / 10\n",
            "Time to complete 8 is 0:01:00.060290\n",
            "Train Loss:  0.3527 | Train Accuracy:  87.9600%\n",
            "Valid Loss:  0.6360 | Valid Accuracy:  78.4700%\n",
            "\n",
            "Validation loss has decreased (0.635996 --> 0.598999). Saving model...\n",
            "Epoch : 9 / 10\n",
            "Time to complete 9 is 0:01:00.112512\n",
            "Train Loss:  0.2818 | Train Accuracy:  90.6075%\n",
            "Valid Loss:  0.5990 | Valid Accuracy:  80.0300%\n",
            "\n",
            "Validation loss has not decreased (0.598999 --> 0.609527). Not Saving Model...\n",
            "Epoch : 10 / 10\n",
            "Time to complete 10 is 0:01:00.085698\n",
            "Train Loss:  0.2347 | Train Accuracy:  92.1425%\n",
            "Valid Loss:  0.6095 | Valid Accuracy:  80.6300%\n",
            "\n"
          ]
        }
      ]
    },
    {
      "cell_type": "markdown",
      "metadata": {
        "id": "L0XBSCZgSUv2"
      },
      "source": [
        "##To increase more variability in the train dataset. Increasing Data Augmentation"
      ]
    },
    {
      "cell_type": "markdown",
      "metadata": {
        "id": "m-ZLZVGia9sv"
      },
      "source": [
        "# Checking Different Optimizer"
      ]
    },
    {
      "cell_type": "markdown",
      "metadata": {
        "id": "r0eCuzBabHUI"
      },
      "source": [
        "## HyperParameter"
      ]
    },
    {
      "cell_type": "code",
      "metadata": {
        "id": "hOIMXKaUbHUI"
      },
      "source": [
        "hyperparameters= dict(\n",
        "    epochs = 10,\n",
        "    output_dim = 10, \n",
        "    batch_size = 512,\n",
        "    learning_rate = 0.01,\n",
        "    dataset=\"CIFAR10\",\n",
        "    architecture=\"CNN\",\n",
        "    log_interval = 100,\n",
        "    log_batch = True,\n",
        "    file_model = data_folder/'exp1.pt',\n",
        "    grad_clipping = False,\n",
        "    max_norm = 0,\n",
        "    patience = 0 ,\n",
        "    early_stopping = False,\n",
        "    weight_decay = 0,\n",
        "    scheduler_factor = 0,\n",
        "    scheduler_patience = 0,\n",
        "   )\n",
        "\n",
        "device = torch.device('cuda:0' if torch.cuda.is_available() else 'cpu')"
      ],
      "execution_count": 81,
      "outputs": []
    },
    {
      "cell_type": "markdown",
      "metadata": {
        "id": "6F56alKabHUJ"
      },
      "source": [
        "## Intialize wandb"
      ]
    },
    {
      "cell_type": "code",
      "metadata": {
        "colab": {
          "base_uri": "https://localhost:8080/",
          "height": 430,
          "referenced_widgets": [
            "f7999b0bcf6349ee90ff98e16f6547b6",
            "08ade237432046248d7c11efeee63ae9",
            "620b223769c4462fb838a0c1bf36eba3",
            "2f529c5f4d234e6ebaecd4eb3fb55987",
            "1571911b599242a798a804cdca88d915",
            "50e28c7b3763441288973254c1d7cb9d",
            "02c3eb94f89a4483ab716e35888f84dc",
            "ce4cdd2002e94825a80b28287004d484"
          ]
        },
        "id": "F1zbRTRxbHUJ",
        "outputId": "52277e66-0608-47de-d442-2b367c2372d0"
      },
      "source": [
        "wandb.init(name = 'FullData-AdamOptimizer+LR(0.01)', project = 'CNN_Experiment_Neetika', config = hyperparameters)"
      ],
      "execution_count": 82,
      "outputs": [
        {
          "output_type": "display_data",
          "data": {
            "text/html": [
              "Finishing last run (ID:equoa0v3) before initializing another..."
            ],
            "text/plain": [
              "<IPython.core.display.HTML object>"
            ]
          },
          "metadata": {}
        },
        {
          "output_type": "display_data",
          "data": {
            "text/html": [
              "<br/>Waiting for W&B process to finish, PID 2110... <strong style=\"color:green\">(success).</strong>"
            ],
            "text/plain": [
              "<IPython.core.display.HTML object>"
            ]
          },
          "metadata": {}
        },
        {
          "output_type": "display_data",
          "data": {
            "application/vnd.jupyter.widget-view+json": {
              "model_id": "f7999b0bcf6349ee90ff98e16f6547b6",
              "version_minor": 0,
              "version_major": 2
            },
            "text/plain": [
              "VBox(children=(Label(value=' 0.00MB of 0.00MB uploaded (0.00MB deduped)\\r'), FloatProgress(value=1.0, max=1.0)…"
            ]
          },
          "metadata": {}
        },
        {
          "output_type": "display_data",
          "data": {
            "text/html": [
              "<style>\n",
              "    table.wandb td:nth-child(1) { padding: 0 10px; text-align: right }\n",
              "    .wandb-row { display: flex; flex-direction: row; flex-wrap: wrap; width: 100% }\n",
              "    .wandb-col { display: flex; flex-direction: column; flex-basis: 100%; flex: 1; padding: 10px; }\n",
              "    </style>\n",
              "<div class=\"wandb-row\"><div class=\"wandb-col\">\n",
              "<h3>Run history:</h3><br/><table class=\"wandb\"><tr><td>Train Batch Acc :</td><td>▁▃▅▆███</td></tr><tr><td>Train Batch Loss  :</td><td>█▆▄▃▁▁▁</td></tr><tr><td>Train epoch Acc :</td><td>▁▄▅▆▆▇▇▇██</td></tr><tr><td>Train epoch Loss :</td><td>█▅▄▃▃▂▂▂▁▁</td></tr><tr><td>Valid Batch Accuracy :</td><td>▁█</td></tr><tr><td>Valid Batch Loss  :</td><td>█▁</td></tr><tr><td>Valid epoch Acc :</td><td>▁▃▅▆▇▇▇███</td></tr><tr><td>Valid epoch Loss :</td><td>█▅▄▃▂▂▂▁▁▁</td></tr></table><br/></div><div class=\"wandb-col\">\n",
              "<h3>Run summary:</h3><br/><table class=\"wandb\"><tr><td>Train Batch Acc :</td><td>0.79297</td></tr><tr><td>Train Batch Loss  :</td><td>0.59889</td></tr><tr><td>Train epoch Acc :</td><td>0.82125</td></tr><tr><td>Train epoch Loss :</td><td>0.50459</td></tr><tr><td>Valid Batch Accuracy :</td><td>0.78711</td></tr><tr><td>Valid Batch Loss  :</td><td>0.6694</td></tr><tr><td>Valid epoch Acc :</td><td>0.767</td></tr><tr><td>Valid epoch Loss :</td><td>0.65801</td></tr></table>\n",
              "</div></div>\n",
              "Synced 5 W&B file(s), 1 media file(s), 0 artifact file(s) and 0 other file(s)\n",
              "<br/>Synced <strong style=\"color:#cdcd00\">FullData-Exp4_DataAug(Flip+Rotate)+LR(0.03)</strong>: <a href=\"https://wandb.ai/neetika/CNN_Experiment_Neetika/runs/equoa0v3\" target=\"_blank\">https://wandb.ai/neetika/CNN_Experiment_Neetika/runs/equoa0v3</a><br/>\n",
              "Find logs at: <code>./wandb/run-20211114_170509-equoa0v3/logs</code><br/>\n"
            ],
            "text/plain": [
              "<IPython.core.display.HTML object>"
            ]
          },
          "metadata": {}
        },
        {
          "output_type": "display_data",
          "data": {
            "text/html": [
              "Successfully finished last run (ID:equoa0v3). Initializing new run:<br/>"
            ],
            "text/plain": [
              "<IPython.core.display.HTML object>"
            ]
          },
          "metadata": {}
        },
        {
          "output_type": "display_data",
          "data": {
            "text/html": [
              "\n",
              "                    Syncing run <strong><a href=\"https://wandb.ai/neetika/CNN_Experiment_Neetika/runs/3g4at3pw\" target=\"_blank\">FullData-AdamOptimizer+LR(0.01)</a></strong> to <a href=\"https://wandb.ai/neetika/CNN_Experiment_Neetika\" target=\"_blank\">Weights & Biases</a> (<a href=\"https://docs.wandb.com/integrations/jupyter.html\" target=\"_blank\">docs</a>).<br/>\n",
              "\n",
              "                "
            ],
            "text/plain": [
              "<IPython.core.display.HTML object>"
            ]
          },
          "metadata": {}
        },
        {
          "output_type": "execute_result",
          "data": {
            "text/plain": [
              "<wandb.sdk.wandb_run.Run at 0x7f9f684f3bd0>"
            ],
            "text/html": [
              "<button onClick=\"this.nextSibling.style.display='block';this.style.display='none';\">Display W&B run</button><iframe src=\"https://wandb.ai/neetika/CNN_Experiment_Neetika/runs/3g4at3pw?jupyter=true\" style=\"border:none;width:100%;height:420px;display:none;\"></iframe>"
            ]
          },
          "metadata": {},
          "execution_count": 82
        }
      ]
    },
    {
      "cell_type": "code",
      "metadata": {
        "colab": {
          "base_uri": "https://localhost:8080/"
        },
        "id": "iEtjXGnHbHUJ",
        "outputId": "127a4bae-512f-4bab-8655-39113d812c3d"
      },
      "source": [
        "wandb.config.device = device\n",
        "print(wandb.config.device )"
      ],
      "execution_count": 83,
      "outputs": [
        {
          "output_type": "stream",
          "name": "stdout",
          "text": [
            "cuda:0\n"
          ]
        }
      ]
    },
    {
      "cell_type": "markdown",
      "metadata": {
        "id": "GL0mx-FYbHUK"
      },
      "source": [
        "## Specify Dataloader, Loss_function, Model, Optimizer, Weight Initialization"
      ]
    },
    {
      "cell_type": "code",
      "metadata": {
        "id": "EC1EaUFnbHUK"
      },
      "source": [
        "# Fix seed value\n",
        "SEED = 2345\n",
        "random.seed(SEED)\n",
        "np.random.seed(SEED)\n",
        "torch.manual_seed(SEED)\n",
        "torch.cuda.manual_seed(SEED)\n",
        "torch.backends.cudnn.deterministic = True\n",
        "\n",
        "# Data Loader\n",
        "train_loader = torch.utils.data.DataLoader(trainset, batch_size=wandb.config.batch_size, shuffle = True)\n",
        "valid_loader = torch.utils.data.DataLoader(validset, batch_size=wandb.config.batch_size, shuffle = False)\n",
        "test_loader = torch.utils.data.DataLoader(testset, batch_size=wandb.config.batch_size,   shuffle = False)\n",
        "\n",
        "# cross entropy loss function\n",
        "loss_function = nn.CrossEntropyLoss()\n",
        "\n",
        "# device \n",
        "model = CIFAR10CNN()\n",
        "\n",
        "def init_weights(m):\n",
        "  if type(m) == nn.Conv2d:\n",
        "        torch.nn.init.kaiming_normal_(m.weight)\n",
        "        torch.nn.init.zeros_(m.bias)\n",
        "\n",
        "        \n",
        "# apply initialization recursively  to all modules\n",
        "# model.apply(init_weights)\n",
        "\n",
        "wandb.config.init_weights = init_weights\n",
        "\n",
        "# put model to GPUs\n",
        "model.to(wandb.config.device)\n",
        "\n",
        "# Intialize stochiastic gradient descent optimizer\n",
        "# optimizer = torch.optim.SGD(model.parameters(), lr = wandb.config.learning_rate, weight_decay=wandb.config.weight_decay, momentum = 0.9)\n",
        "optimizer = torch.optim.Adam(model.parameters(), lr = wandb.config.learning_rate, weight_decay=wandb.config.weight_decay)\n",
        "# optimizer = torch.optim.RMSprop(model.parameters(), lr=wandb.config.learning_rate,weight_decay=wandb.config.weight_decay, momentum=0.9)\n",
        "\n",
        "wandb.config.optimizer = optimizer\n",
        "\n",
        "# scheduler = ReduceLROnPlateau(optimizer, mode='min', factor= wandb.config.scheduler_factor, \n",
        "                              # patience=wandb.config.scheduler_patience, verbose=True)\n",
        "\n",
        "scheduler = torch.optim.lr_scheduler.OneCycleLR(optimizer, max_lr=0.1, total_steps=len(train_loader) * 10 , epochs=10, three_phase=True)\n",
        "\n",
        "# scheduler = StepLR(optimizer, gamma=0.4,step_size=1, verbose=True)"
      ],
      "execution_count": 84,
      "outputs": []
    },
    {
      "cell_type": "markdown",
      "metadata": {
        "id": "SU_4ZJjqbHUK"
      },
      "source": [
        "## Training and Saving Model"
      ]
    },
    {
      "cell_type": "code",
      "metadata": {
        "colab": {
          "base_uri": "https://localhost:8080/"
        },
        "id": "--7RaB1ubHUK",
        "outputId": "97268013-ae42-47c9-ab1c-17ba973a3829"
      },
      "source": [
        "wandb.watch(model, log = 'all', log_freq=25, log_graph=True)\n"
      ],
      "execution_count": 85,
      "outputs": [
        {
          "output_type": "stream",
          "name": "stderr",
          "text": [
            "\u001b[34m\u001b[1mwandb\u001b[0m: logging graph, to disable use `wandb.watch(log_graph=False)`\n"
          ]
        },
        {
          "output_type": "execute_result",
          "data": {
            "text/plain": [
              "[<wandb.wandb_torch.TorchGraph at 0x7f9f6851e610>]"
            ]
          },
          "metadata": {},
          "execution_count": 85
        }
      ]
    },
    {
      "cell_type": "code",
      "metadata": {
        "colab": {
          "base_uri": "https://localhost:8080/"
        },
        "id": "BGb1ReDpbHUK",
        "outputId": "e2340dca-a30e-4d44-ac17-49c57416fe7c"
      },
      "source": [
        "example_ct_train, batch_ct_train, example_ct_valid, batch_ct_valid = 0, 0, 0, 0\n",
        "train_loss_history, train_acc_history, valid_loss_history, valid_acc_history = train_loop(train_loader, valid_loader, model, loss_function, optimizer, \n",
        "                                                                                          wandb.config.epochs, wandb.config.device,\n",
        "                                                                                          wandb.config.patience, wandb.config.early_stopping,\n",
        "                                                                                          wandb.config.file_model)"
      ],
      "execution_count": 86,
      "outputs": [
        {
          "output_type": "stream",
          "name": "stdout",
          "text": [
            "Validation loss has decreased (inf --> 1.968872). Saving Model...\n",
            "Epoch : 1 / 10\n",
            "Time to complete 1 is 0:01:03.595660\n",
            "Train Loss:  5.1019 | Train Accuracy:  21.7850%\n",
            "Valid Loss:  1.9689 | Valid Accuracy:  28.2700%\n",
            "\n",
            "Validation loss has decreased (1.968872 --> 1.940318). Saving model...\n",
            "Epoch : 2 / 10\n",
            "Time to complete 2 is 0:01:04.421564\n",
            "Train Loss:  1.8797 | Train Accuracy:  31.4050%\n",
            "Valid Loss:  1.9403 | Valid Accuracy:  30.3000%\n",
            "\n",
            "Validation loss has decreased (1.940318 --> 1.730662). Saving model...\n",
            "Epoch : 3 / 10\n",
            "Time to complete 3 is 0:01:04.829983\n",
            "Train Loss:  1.7823 | Train Accuracy:  35.2025%\n",
            "Valid Loss:  1.7307 | Valid Accuracy:  36.4500%\n",
            "\n",
            "Validation loss has decreased (1.730662 --> 1.585110). Saving model...\n",
            "Epoch : 4 / 10\n",
            "Time to complete 4 is 0:01:04.886820\n",
            "Train Loss:  1.6466 | Train Accuracy:  39.5650%\n",
            "Valid Loss:  1.5851 | Valid Accuracy:  42.1900%\n",
            "\n",
            "Validation loss has decreased (1.585110 --> 1.523493). Saving model...\n",
            "Epoch : 5 / 10\n",
            "Time to complete 5 is 0:01:05.011802\n",
            "Train Loss:  1.5552 | Train Accuracy:  43.1525%\n",
            "Valid Loss:  1.5235 | Valid Accuracy:  43.9700%\n",
            "\n",
            "Validation loss has decreased (1.523493 --> 1.455554). Saving model...\n",
            "Epoch : 6 / 10\n",
            "Time to complete 6 is 0:01:04.874154\n",
            "Train Loss:  1.4771 | Train Accuracy:  46.1375%\n",
            "Valid Loss:  1.4556 | Valid Accuracy:  47.4000%\n",
            "\n",
            "Validation loss has decreased (1.455554 --> 1.385708). Saving model...\n",
            "Epoch : 7 / 10\n",
            "Time to complete 7 is 0:01:05.009042\n",
            "Train Loss:  1.3957 | Train Accuracy:  49.2000%\n",
            "Valid Loss:  1.3857 | Valid Accuracy:  49.4600%\n",
            "\n",
            "Validation loss has decreased (1.385708 --> 1.303769). Saving model...\n",
            "Epoch : 8 / 10\n",
            "Time to complete 8 is 0:01:05.172053\n",
            "Train Loss:  1.3231 | Train Accuracy:  51.9000%\n",
            "Valid Loss:  1.3038 | Valid Accuracy:  53.0500%\n",
            "\n",
            "Validation loss has decreased (1.303769 --> 1.298104). Saving model...\n",
            "Epoch : 9 / 10\n",
            "Time to complete 9 is 0:01:05.020646\n",
            "Train Loss:  1.2463 | Train Accuracy:  54.9200%\n",
            "Valid Loss:  1.2981 | Valid Accuracy:  53.4500%\n",
            "\n",
            "Validation loss has decreased (1.298104 --> 1.164612). Saving model...\n",
            "Epoch : 10 / 10\n",
            "Time to complete 10 is 0:01:05.361675\n",
            "Train Loss:  1.1694 | Train Accuracy:  57.5875%\n",
            "Valid Loss:  1.1646 | Valid Accuracy:  59.2500%\n",
            "\n"
          ]
        }
      ]
    },
    {
      "cell_type": "code",
      "metadata": {
        "id": "mE4k4cx3a9Fh"
      },
      "source": [
        ""
      ],
      "execution_count": null,
      "outputs": []
    },
    {
      "cell_type": "code",
      "metadata": {
        "id": "BRw266CMa9Bw"
      },
      "source": [
        ""
      ],
      "execution_count": null,
      "outputs": []
    },
    {
      "cell_type": "markdown",
      "metadata": {
        "id": "LMWmwaWoSh8H"
      },
      "source": [
        "# Data Augmentation"
      ]
    },
    {
      "cell_type": "code",
      "metadata": {
        "id": "KdjwuG17DgH1",
        "colab": {
          "base_uri": "https://localhost:8080/"
        },
        "outputId": "61dc444f-1645-4f72-f2da-7c3374cae801"
      },
      "source": [
        "# Transform to convert images to pytorch tensors and normalize the data\n",
        "train_trans= transforms.Compose([ \n",
        "                                #  transforms.RandomCrop(size = (32,32), padding = 2),\n",
        "                                #  transforms.RandomAffine(degrees=10, translate =(0.05, 0.05), scale=(0.9, 1.1)),\n",
        "                                 transforms.RandomRotation(2.8),\n",
        "                                 transforms.RandomHorizontalFlip(),\n",
        "                                 transforms.ToTensor(), \n",
        "                                 transforms.Normalize((0.4914,0.4822,0.4655), (0.2023,0.1994,0.2010))])\n",
        "trans = transforms.Compose([transforms.ToTensor(), transforms.Normalize((0.4914,0.4822,0.4655), (0.2023,0.1994,0.2010))])\n",
        "train_full = torchvision.datasets.CIFAR10(root=data_folder,\n",
        "                                              train=True, \n",
        "                                              transform=train_trans,\n",
        "                                              download=True)\n",
        "trainset, validset = torch.utils.data.random_split(train_full, [40000, 10000], generator=torch.Generator().manual_seed(42))\n",
        "testset  = torchvision.datasets.CIFAR10(root=data_folder,\n",
        "                                              train=False, \n",
        "                                              transform=trans,\n",
        "                                              download=True)"
      ],
      "execution_count": 135,
      "outputs": [
        {
          "output_type": "stream",
          "name": "stdout",
          "text": [
            "Files already downloaded and verified\n",
            "Files already downloaded and verified\n"
          ]
        }
      ]
    },
    {
      "cell_type": "code",
      "metadata": {
        "id": "9Kka-MxrDgH1"
      },
      "source": [
        ""
      ],
      "execution_count": null,
      "outputs": []
    },
    {
      "cell_type": "markdown",
      "metadata": {
        "id": "V52UF61gSsH-"
      },
      "source": [
        "## HyperParameter"
      ]
    },
    {
      "cell_type": "code",
      "metadata": {
        "id": "lPxgMDvgSsH-"
      },
      "source": [
        "hyperparameters= dict(\n",
        "    epochs = 10,\n",
        "    output_dim = 10, \n",
        "    batch_size = 512,\n",
        "    learning_rate = 0.03,\n",
        "    dataset=\"CIFAR10\",\n",
        "    architecture=\"CNN\",\n",
        "    log_interval = 100,\n",
        "    log_batch = True,\n",
        "    file_model = data_folder/'exp1.pt',\n",
        "    grad_clipping = False,\n",
        "    max_norm = 0,\n",
        "    patience = 0 ,\n",
        "    early_stopping = False,\n",
        "    weight_decay = 0,\n",
        "    scheduler_factor = 0,\n",
        "    scheduler_patience = 0,\n",
        "   )\n",
        "\n",
        "device = torch.device('cuda:0' if torch.cuda.is_available() else 'cpu')"
      ],
      "execution_count": 72,
      "outputs": []
    },
    {
      "cell_type": "markdown",
      "metadata": {
        "id": "dBhJ3M1ESsH-"
      },
      "source": [
        "## Intialize wandb"
      ]
    },
    {
      "cell_type": "code",
      "metadata": {
        "colab": {
          "base_uri": "https://localhost:8080/",
          "height": 430,
          "referenced_widgets": [
            "206afb2d174247de8153b762c88c37b3",
            "36c06524fffd4e4394f9662bd25612a4",
            "3f3b0ddc4a524ba58a46da418be9b9d7",
            "c4686c14bb884b79a251ab06d5549efc",
            "61d2d237324b4dca9b0b08c8a934c2df",
            "3bdc3fa9ea3d47e08a613ff8e89f3583",
            "773e6544988f4341b74e4f15fea8ffb1",
            "a576164cd29843388ec89232059871fd"
          ]
        },
        "id": "IgZkfSGeSsH-",
        "outputId": "4d2e2a8b-4f85-4efe-e4b1-7696b2f404e2"
      },
      "source": [
        "wandb.init(name = 'FullData-Exp4_DataAug(Flip+Rotate)+LR(0.03)', project = 'CNN_Experiment_Neetika', config = hyperparameters)"
      ],
      "execution_count": 73,
      "outputs": [
        {
          "output_type": "display_data",
          "data": {
            "text/html": [
              "Finishing last run (ID:3qu6a35q) before initializing another..."
            ],
            "text/plain": [
              "<IPython.core.display.HTML object>"
            ]
          },
          "metadata": {}
        },
        {
          "output_type": "display_data",
          "data": {
            "text/html": [
              "<br/>Waiting for W&B process to finish, PID 1915... <strong style=\"color:green\">(success).</strong>"
            ],
            "text/plain": [
              "<IPython.core.display.HTML object>"
            ]
          },
          "metadata": {}
        },
        {
          "output_type": "display_data",
          "data": {
            "application/vnd.jupyter.widget-view+json": {
              "model_id": "206afb2d174247de8153b762c88c37b3",
              "version_minor": 0,
              "version_major": 2
            },
            "text/plain": [
              "VBox(children=(Label(value=' 0.00MB of 0.00MB uploaded (0.00MB deduped)\\r'), FloatProgress(value=1.0, max=1.0)…"
            ]
          },
          "metadata": {}
        },
        {
          "output_type": "display_data",
          "data": {
            "text/html": [
              "<style>\n",
              "    table.wandb td:nth-child(1) { padding: 0 10px; text-align: right }\n",
              "    .wandb-row { display: flex; flex-direction: row; flex-wrap: wrap; width: 100% }\n",
              "    .wandb-col { display: flex; flex-direction: column; flex-basis: 100%; flex: 1; padding: 10px; }\n",
              "    </style>\n",
              "<div class=\"wandb-row\"><div class=\"wandb-col\">\n",
              "<h3>Run history:</h3><br/><table class=\"wandb\"><tr><td>Train Batch Acc :</td><td>▁▃▅▆███</td></tr><tr><td>Train Batch Loss  :</td><td>█▆▄▃▁▁▁</td></tr><tr><td>Train epoch Acc :</td><td>▁▄▅▆▆▇▇▇██</td></tr><tr><td>Train epoch Loss :</td><td>█▅▄▃▃▂▂▂▁▁</td></tr><tr><td>Valid Batch Accuracy :</td><td>▁█</td></tr><tr><td>Valid Batch Loss  :</td><td>█▁</td></tr><tr><td>Valid epoch Acc :</td><td>▁▃▅▆▇▇▇███</td></tr><tr><td>Valid epoch Loss :</td><td>█▅▄▃▂▂▂▁▁▁</td></tr></table><br/></div><div class=\"wandb-col\">\n",
              "<h3>Run summary:</h3><br/><table class=\"wandb\"><tr><td>Train Batch Acc :</td><td>0.79297</td></tr><tr><td>Train Batch Loss  :</td><td>0.59889</td></tr><tr><td>Train epoch Acc :</td><td>0.82125</td></tr><tr><td>Train epoch Loss :</td><td>0.50459</td></tr><tr><td>Valid Batch Accuracy :</td><td>0.78711</td></tr><tr><td>Valid Batch Loss  :</td><td>0.6694</td></tr><tr><td>Valid epoch Acc :</td><td>0.767</td></tr><tr><td>Valid epoch Loss :</td><td>0.65801</td></tr></table>\n",
              "</div></div>\n",
              "Synced 5 W&B file(s), 1 media file(s), 0 artifact file(s) and 0 other file(s)\n",
              "<br/>Synced <strong style=\"color:#cdcd00\">FullData-Exp4_DataAug(Flip+Rotate+RandomAffine)+LR(0.03)</strong>: <a href=\"https://wandb.ai/neetika/CNN_Experiment_Neetika/runs/3qu6a35q\" target=\"_blank\">https://wandb.ai/neetika/CNN_Experiment_Neetika/runs/3qu6a35q</a><br/>\n",
              "Find logs at: <code>./wandb/run-20211114_164812-3qu6a35q/logs</code><br/>\n"
            ],
            "text/plain": [
              "<IPython.core.display.HTML object>"
            ]
          },
          "metadata": {}
        },
        {
          "output_type": "display_data",
          "data": {
            "text/html": [
              "Successfully finished last run (ID:3qu6a35q). Initializing new run:<br/>"
            ],
            "text/plain": [
              "<IPython.core.display.HTML object>"
            ]
          },
          "metadata": {}
        },
        {
          "output_type": "display_data",
          "data": {
            "text/html": [
              "\n",
              "                    Syncing run <strong><a href=\"https://wandb.ai/neetika/CNN_Experiment_Neetika/runs/equoa0v3\" target=\"_blank\">FullData-Exp4_DataAug(Flip+Rotate)+LR(0.03)</a></strong> to <a href=\"https://wandb.ai/neetika/CNN_Experiment_Neetika\" target=\"_blank\">Weights & Biases</a> (<a href=\"https://docs.wandb.com/integrations/jupyter.html\" target=\"_blank\">docs</a>).<br/>\n",
              "\n",
              "                "
            ],
            "text/plain": [
              "<IPython.core.display.HTML object>"
            ]
          },
          "metadata": {}
        },
        {
          "output_type": "execute_result",
          "data": {
            "text/plain": [
              "<wandb.sdk.wandb_run.Run at 0x7f9f697f7a50>"
            ],
            "text/html": [
              "<button onClick=\"this.nextSibling.style.display='block';this.style.display='none';\">Display W&B run</button><iframe src=\"https://wandb.ai/neetika/CNN_Experiment_Neetika/runs/equoa0v3?jupyter=true\" style=\"border:none;width:100%;height:420px;display:none;\"></iframe>"
            ]
          },
          "metadata": {},
          "execution_count": 73
        }
      ]
    },
    {
      "cell_type": "code",
      "metadata": {
        "colab": {
          "base_uri": "https://localhost:8080/"
        },
        "id": "pKdGMI2kSsH_",
        "outputId": "7af2bffb-36c7-4d52-998c-6f9dc9514428"
      },
      "source": [
        "wandb.config.device = device\n",
        "print(wandb.config.device )"
      ],
      "execution_count": 74,
      "outputs": [
        {
          "output_type": "stream",
          "name": "stdout",
          "text": [
            "cuda:0\n"
          ]
        }
      ]
    },
    {
      "cell_type": "markdown",
      "metadata": {
        "id": "E0V__CMtSsH_"
      },
      "source": [
        "## Specify Dataloader, Loss_function, Model, Optimizer, Weight Initialization"
      ]
    },
    {
      "cell_type": "code",
      "metadata": {
        "id": "s7DndtToSsH_"
      },
      "source": [
        "# Fix seed value\n",
        "SEED = 2345\n",
        "random.seed(SEED)\n",
        "np.random.seed(SEED)\n",
        "torch.manual_seed(SEED)\n",
        "torch.cuda.manual_seed(SEED)\n",
        "torch.backends.cudnn.deterministic = True\n",
        "\n",
        "# Data Loader\n",
        "train_loader = torch.utils.data.DataLoader(trainset, batch_size=wandb.config.batch_size, shuffle = True)\n",
        "valid_loader = torch.utils.data.DataLoader(validset, batch_size=wandb.config.batch_size, shuffle = False)\n",
        "test_loader = torch.utils.data.DataLoader(testset, batch_size=wandb.config.batch_size,   shuffle = False)\n",
        "\n",
        "# cross entropy loss function\n",
        "loss_function = nn.CrossEntropyLoss()\n",
        "\n",
        "# device \n",
        "model = CIFAR10CNN()\n",
        "\n",
        "def init_weights(m):\n",
        "  if type(m) == nn.Conv2d:\n",
        "        torch.nn.init.kaiming_normal_(m.weight)\n",
        "        torch.nn.init.zeros_(m.bias)\n",
        "\n",
        "        \n",
        "# apply initialization recursively  to all modules\n",
        "# model.apply(init_weights)\n",
        "\n",
        "wandb.config.init_weights = init_weights\n",
        "\n",
        "# put model to GPUs\n",
        "model.to(wandb.config.device)\n",
        "\n",
        "# Intialize stochiastic gradient descent optimizer\n",
        "optimizer = torch.optim.SGD(model.parameters(), lr = wandb.config.learning_rate, weight_decay=wandb.config.weight_decay, momentum = 0.9)\n",
        "# optimizer = torch.optim.Adam(model.parameters(), lr = wandb.config.learning_rate, weight_decay=wandb.config.weight_decay)\n",
        "# optimizer = torch.optim.RMSprop(model.parameters(), lr=wandb.config.learning_rate,weight_decay=wandb.config.weight_decay, momentum=0.9)\n",
        "\n",
        "wandb.config.optimizer = optimizer\n",
        "\n",
        "# scheduler = ReduceLROnPlateau(optimizer, mode='min', factor= wandb.config.scheduler_factor, \n",
        "                              # patience=wandb.config.scheduler_patience, verbose=True)\n",
        "\n",
        "scheduler = torch.optim.lr_scheduler.OneCycleLR(optimizer, max_lr=0.1, total_steps=len(train_loader) * 10 , epochs=10, three_phase=True)\n",
        "\n",
        "# scheduler = StepLR(optimizer, gamma=0.4,step_size=1, verbose=True)"
      ],
      "execution_count": 78,
      "outputs": []
    },
    {
      "cell_type": "markdown",
      "metadata": {
        "id": "KG8P1YsNSsH_"
      },
      "source": [
        "## Training and Saving Model"
      ]
    },
    {
      "cell_type": "code",
      "metadata": {
        "colab": {
          "base_uri": "https://localhost:8080/"
        },
        "id": "9Wl6A6KZSsIA",
        "outputId": "52964b6f-9f05-4728-d2a9-856650481930"
      },
      "source": [
        "wandb.watch(model, log = 'all', log_freq=25, log_graph=True)\n"
      ],
      "execution_count": 79,
      "outputs": [
        {
          "output_type": "stream",
          "name": "stderr",
          "text": [
            "\u001b[34m\u001b[1mwandb\u001b[0m: logging graph, to disable use `wandb.watch(log_graph=False)`\n"
          ]
        },
        {
          "output_type": "execute_result",
          "data": {
            "text/plain": [
              "[<wandb.wandb_torch.TorchGraph at 0x7f9f6e94bb50>]"
            ]
          },
          "metadata": {},
          "execution_count": 79
        }
      ]
    },
    {
      "cell_type": "code",
      "metadata": {
        "colab": {
          "base_uri": "https://localhost:8080/"
        },
        "id": "hri2scP4SsIA",
        "outputId": "1a02279d-8760-4597-ac2a-6b10989d8559"
      },
      "source": [
        "example_ct_train, batch_ct_train, example_ct_valid, batch_ct_valid = 0, 0, 0, 0\n",
        "train_loss_history, train_acc_history, valid_loss_history, valid_acc_history = train_loop(train_loader, valid_loader, model, loss_function, optimizer, \n",
        "                                                                                          wandb.config.epochs, wandb.config.device,\n",
        "                                                                                          wandb.config.patience, wandb.config.early_stopping,\n",
        "                                                                                          wandb.config.file_model)"
      ],
      "execution_count": 80,
      "outputs": [
        {
          "output_type": "stream",
          "name": "stdout",
          "text": [
            "Validation loss has decreased (inf --> 1.325209). Saving Model...\n",
            "Epoch : 1 / 10\n",
            "Time to complete 1 is 0:01:02.334581\n",
            "Train Loss:  1.6312 | Train Accuracy:  40.8125%\n",
            "Valid Loss:  1.3252 | Valid Accuracy:  52.0200%\n",
            "\n",
            "Validation loss has decreased (1.325209 --> 1.085118). Saving model...\n",
            "Epoch : 2 / 10\n",
            "Time to complete 2 is 0:01:03.593011\n",
            "Train Loss:  1.1957 | Train Accuracy:  57.1825%\n",
            "Valid Loss:  1.0851 | Valid Accuracy:  60.8100%\n",
            "\n",
            "Validation loss has decreased (1.085118 --> 0.946641). Saving model...\n",
            "Epoch : 3 / 10\n",
            "Time to complete 3 is 0:01:03.811576\n",
            "Train Loss:  1.0039 | Train Accuracy:  64.0650%\n",
            "Valid Loss:  0.9466 | Valid Accuracy:  66.1600%\n",
            "\n",
            "Validation loss has decreased (0.946641 --> 0.888469). Saving model...\n",
            "Epoch : 4 / 10\n",
            "Time to complete 4 is 0:01:03.994453\n",
            "Train Loss:  0.8788 | Train Accuracy:  68.6175%\n",
            "Valid Loss:  0.8885 | Valid Accuracy:  68.8400%\n",
            "\n",
            "Validation loss has decreased (0.888469 --> 0.792284). Saving model...\n",
            "Epoch : 5 / 10\n",
            "Time to complete 5 is 0:01:03.985124\n",
            "Train Loss:  0.7772 | Train Accuracy:  72.0325%\n",
            "Valid Loss:  0.7923 | Valid Accuracy:  71.8300%\n",
            "\n",
            "Validation loss has decreased (0.792284 --> 0.745896). Saving model...\n",
            "Epoch : 6 / 10\n",
            "Time to complete 6 is 0:01:04.177192\n",
            "Train Loss:  0.7089 | Train Accuracy:  74.7500%\n",
            "Valid Loss:  0.7459 | Valid Accuracy:  74.1600%\n",
            "\n",
            "Validation loss has not decreased (0.745896 --> 0.797185). Not Saving Model...\n",
            "Epoch : 7 / 10\n",
            "Time to complete 7 is 0:01:04.136623\n",
            "Train Loss:  0.6517 | Train Accuracy:  77.0900%\n",
            "Valid Loss:  0.7972 | Valid Accuracy:  72.4400%\n",
            "\n",
            "Validation loss has decreased (0.745896 --> 0.675307). Saving model...\n",
            "Epoch : 8 / 10\n",
            "Time to complete 8 is 0:01:03.984543\n",
            "Train Loss:  0.5973 | Train Accuracy:  78.8250%\n",
            "Valid Loss:  0.6753 | Valid Accuracy:  76.4700%\n",
            "\n",
            "Validation loss has decreased (0.675307 --> 0.668423). Saving model...\n",
            "Epoch : 9 / 10\n",
            "Time to complete 9 is 0:01:04.268205\n",
            "Train Loss:  0.5416 | Train Accuracy:  81.0400%\n",
            "Valid Loss:  0.6684 | Valid Accuracy:  76.7700%\n",
            "\n",
            "Validation loss has decreased (0.668423 --> 0.658008). Saving model...\n",
            "Epoch : 10 / 10\n",
            "Time to complete 10 is 0:01:04.057673\n",
            "Train Loss:  0.5046 | Train Accuracy:  82.1250%\n",
            "Valid Loss:  0.6580 | Valid Accuracy:  76.7000%\n",
            "\n"
          ]
        }
      ]
    },
    {
      "cell_type": "markdown",
      "metadata": {
        "id": "ZatwhQqXahN_"
      },
      "source": [
        "# As Train and Valid Score are almost equal. Increasing the complexity in the Model"
      ]
    },
    {
      "cell_type": "code",
      "metadata": {
        "id": "9l-UB4eEagXv"
      },
      "source": [
        ""
      ],
      "execution_count": null,
      "outputs": []
    },
    {
      "cell_type": "markdown",
      "metadata": {
        "id": "bxDHiERPfTUg"
      },
      "source": [
        "#**Final Model** \n",
        "\n",
        "Full Datatset with Validation Accuracy"
      ]
    },
    {
      "cell_type": "code",
      "metadata": {
        "id": "UmVaNwb0fTUg"
      },
      "source": [
        "class CIFAR10CNNX(nn.Module):\n",
        "    \n",
        "    def __init__(self):\n",
        "\n",
        "      super().__init__()\n",
        "\n",
        "      super(CIFAR10CNNX, self).__init__()\n",
        "      \n",
        "      self.conv1_layer = nn.Sequential(\n",
        "          nn.Conv2d(in_channels=3, out_channels=128, kernel_size=3, padding='same'), # 32*32\n",
        "          nn.ReLU(),\n",
        "          nn.Conv2d(in_channels=128, out_channels=128, kernel_size=3, padding='same'), #32*32\n",
        "          nn.ReLU(),\n",
        "          nn.MaxPool2d(kernel_size=2, stride = 2), # 16*16\n",
        "          nn.Dropout(0.05) \n",
        "          \n",
        "      )\n",
        "\n",
        "      self.conv2_layer = nn.Sequential(\n",
        "          nn.Conv2d(in_channels=128, out_channels=512, kernel_size=3, padding='same'), #16*16\n",
        "          nn.ReLU(),\n",
        "          nn.BatchNorm2d(512),\n",
        "          nn.Conv2d(in_channels=512, out_channels=512, kernel_size=3, padding='same'), #16*16\n",
        "          nn.ReLU(),\n",
        "          nn.BatchNorm2d(512),\n",
        "          nn.MaxPool2d(kernel_size=2, stride = 2), # 8*8\n",
        "      )\n",
        "      self.conv3_layer = nn.Sequential(\n",
        "          nn.Conv2d(in_channels=512, out_channels=1024, kernel_size=5, padding='same'), #8*8\n",
        "          nn.ReLU(),\n",
        "          nn.BatchNorm2d(1024),\n",
        "          nn.Conv2d(in_channels=1024, out_channels=1024, kernel_size=5, padding='same'), #8*8\n",
        "          nn.ReLU(),\n",
        "          nn.BatchNorm2d(1024),\n",
        "          nn.MaxPool2d(kernel_size=2, stride = 2), # 4*4\n",
        "          nn.Dropout(0.05) \n",
        "      )\n",
        "\n",
        "\n",
        "      self.flatten = nn.Flatten()\n",
        "      \n",
        "      self.fc1 = nn.Linear(1024*4*4, out_features=2048)\n",
        "      self.fc2 = nn.Linear(2048, out_features=1024)\n",
        "      self.fc3 = nn.Linear(1024, out_features=10)\n",
        "      \n",
        "      \n",
        "      \n",
        "    def forward(self, x):\n",
        "        # conv layers\n",
        "        out = self.conv1_layer(x)\n",
        "        out = self.conv2_layer(out)\n",
        "        out = self.conv3_layer(out)\n",
        "\n",
        "        # flatten befrore input to linear layer\n",
        "        out = self.flatten(out)\n",
        "        # linear hidden layers\n",
        "        out = F.relu(self.fc1(out))\n",
        "        out = F.relu(self.fc2(out))\n",
        "        # output layer - no softmax as it is applied by nn.CrossEntropyLoss\n",
        "\n",
        "        out = self.fc3(out)\n",
        "        \n",
        "        return out"
      ],
      "execution_count": 129,
      "outputs": []
    },
    {
      "cell_type": "code",
      "metadata": {
        "id": "kdd-YmfLfTUh"
      },
      "source": [
        ""
      ],
      "execution_count": null,
      "outputs": []
    },
    {
      "cell_type": "code",
      "metadata": {
        "colab": {
          "base_uri": "https://localhost:8080/"
        },
        "id": "CWXnRuTwfTUh",
        "outputId": "db2b4d45-49ad-4412-aa1a-a6e3439f4e5d"
      },
      "source": [
        "summary(CIFAR10CNNX().cuda(), (3, 32, 32))"
      ],
      "execution_count": 130,
      "outputs": [
        {
          "output_type": "stream",
          "name": "stdout",
          "text": [
            "----------------------------------------------------------------\n",
            "        Layer (type)               Output Shape         Param #\n",
            "================================================================\n",
            "            Conv2d-1          [-1, 128, 32, 32]           3,584\n",
            "              ReLU-2          [-1, 128, 32, 32]               0\n",
            "            Conv2d-3          [-1, 128, 32, 32]         147,584\n",
            "              ReLU-4          [-1, 128, 32, 32]               0\n",
            "         MaxPool2d-5          [-1, 128, 16, 16]               0\n",
            "           Dropout-6          [-1, 128, 16, 16]               0\n",
            "            Conv2d-7          [-1, 512, 16, 16]         590,336\n",
            "              ReLU-8          [-1, 512, 16, 16]               0\n",
            "       BatchNorm2d-9          [-1, 512, 16, 16]           1,024\n",
            "           Conv2d-10          [-1, 512, 16, 16]       2,359,808\n",
            "             ReLU-11          [-1, 512, 16, 16]               0\n",
            "      BatchNorm2d-12          [-1, 512, 16, 16]           1,024\n",
            "        MaxPool2d-13            [-1, 512, 8, 8]               0\n",
            "           Conv2d-14           [-1, 1024, 8, 8]      13,108,224\n",
            "             ReLU-15           [-1, 1024, 8, 8]               0\n",
            "      BatchNorm2d-16           [-1, 1024, 8, 8]           2,048\n",
            "           Conv2d-17           [-1, 1024, 8, 8]      26,215,424\n",
            "             ReLU-18           [-1, 1024, 8, 8]               0\n",
            "      BatchNorm2d-19           [-1, 1024, 8, 8]           2,048\n",
            "        MaxPool2d-20           [-1, 1024, 4, 4]               0\n",
            "          Dropout-21           [-1, 1024, 4, 4]               0\n",
            "          Flatten-22                [-1, 16384]               0\n",
            "           Linear-23                 [-1, 2048]      33,556,480\n",
            "           Linear-24                 [-1, 1024]       2,098,176\n",
            "           Linear-25                   [-1, 10]          10,250\n",
            "================================================================\n",
            "Total params: 78,096,010\n",
            "Trainable params: 78,096,010\n",
            "Non-trainable params: 0\n",
            "----------------------------------------------------------------\n",
            "Input size (MB): 0.01\n",
            "Forward/backward pass size (MB): 14.15\n",
            "Params size (MB): 297.91\n",
            "Estimated Total Size (MB): 312.07\n",
            "----------------------------------------------------------------\n"
          ]
        }
      ]
    },
    {
      "cell_type": "markdown",
      "metadata": {
        "id": "SnhXAoQYfTUh"
      },
      "source": [
        "## HyperParameter -Batch Size Reduced\n",
        "\n",
        "\n"
      ]
    },
    {
      "cell_type": "code",
      "metadata": {
        "id": "dL-cH64GfTUi"
      },
      "source": [
        "# hyperparameters= dict(\n",
        "#     epochs = 10,\n",
        "#     output_dim = 10, \n",
        "#     batch_size = 64,\n",
        "#     learning_rate = 0.005,\n",
        "#     dataset=\"CIFAR10\",\n",
        "#     architecture=\"CNN\",\n",
        "#     log_interval = 100,\n",
        "#     log_batch = True,\n",
        "#     file_model = data_folder/'exp1.pt',\n",
        "#     grad_clipping = False,\n",
        "#     max_norm = 0,\n",
        "#     patience = 0 ,\n",
        "#     early_stopping = False,\n",
        "#     weight_decay = 0,\n",
        "#     scheduler_factor = 0,\n",
        "#     scheduler_patience = 0,\n",
        "#    )\n",
        "   \n",
        "\n",
        "# device = torch.device('cuda:0' if torch.cuda.is_available() else 'cpu')"
      ],
      "execution_count": 140,
      "outputs": []
    },
    {
      "cell_type": "markdown",
      "metadata": {
        "id": "1R-D_ufm-a5u"
      },
      "source": [
        "##HyperParameter - Early Stopping"
      ]
    },
    {
      "cell_type": "code",
      "metadata": {
        "id": "EiRiMdnM6k4i"
      },
      "source": [
        "hyperparameters_1= dict(\n",
        "    epochs = 10,\n",
        "    output_dim = 10, \n",
        "    batch_size = 64,\n",
        "    learning_rate = 0.005,\n",
        "    dataset=\"CIFAR10\",\n",
        "    architecture=\"CNN\",\n",
        "    log_interval = 100,\n",
        "    log_batch = True,\n",
        "    file_model = data_folder/'exp1.pt',\n",
        "    grad_clipping = False,\n",
        "    max_norm = 0,\n",
        "    patience = 0 ,\n",
        "    early_stopping = True,\n",
        "    weight_decay = 0,\n",
        "    scheduler_factor = 0,\n",
        "    scheduler_patience = 0,\n",
        "   )\n",
        "   \n",
        "\n",
        "device = torch.device('cuda:0' if torch.cuda.is_available() else 'cpu')"
      ],
      "execution_count": 146,
      "outputs": []
    },
    {
      "cell_type": "markdown",
      "metadata": {
        "id": "ac9Il9bSfTUi"
      },
      "source": [
        "## Intialize wandb"
      ]
    },
    {
      "cell_type": "code",
      "metadata": {
        "colab": {
          "base_uri": "https://localhost:8080/",
          "height": 430,
          "referenced_widgets": [
            "5e00ad4f17724b2cbce43b374bb84dff",
            "3cfd56ec3fc948b481661658ba3a8d01",
            "e891a4f44c3948d193e9b145536a6ba4",
            "a8bf92fda08447208cb882974b94391e",
            "f23b42679d4748499af6df8b2d96303f",
            "8af03c3f0ded49869f476d7bd1a06706",
            "f4565d5068da48b98596fb51865470aa",
            "ea43b6baad384de98895e83a6865fb7f"
          ]
        },
        "id": "elU6333OfTUi",
        "outputId": "e78cd50b-c3ef-49ee-e596-387f3ba4c2b6"
      },
      "source": [
        "wandb.init(name = 'FullData-EarlStopping', project = 'CNN_Experiment_Neetika', config = hyperparameters_1)"
      ],
      "execution_count": 147,
      "outputs": [
        {
          "output_type": "display_data",
          "data": {
            "text/html": [
              "Finishing last run (ID:nshq6hbh) before initializing another..."
            ],
            "text/plain": [
              "<IPython.core.display.HTML object>"
            ]
          },
          "metadata": {}
        },
        {
          "output_type": "display_data",
          "data": {
            "text/html": [
              "<br/>Waiting for W&B process to finish, PID 3853... <strong style=\"color:green\">(success).</strong>"
            ],
            "text/plain": [
              "<IPython.core.display.HTML object>"
            ]
          },
          "metadata": {}
        },
        {
          "output_type": "display_data",
          "data": {
            "application/vnd.jupyter.widget-view+json": {
              "model_id": "5e00ad4f17724b2cbce43b374bb84dff",
              "version_minor": 0,
              "version_major": 2
            },
            "text/plain": [
              "VBox(children=(Label(value=' 0.01MB of 0.01MB uploaded (0.00MB deduped)\\r'), FloatProgress(value=1.0, max=1.0)…"
            ]
          },
          "metadata": {}
        },
        {
          "output_type": "display_data",
          "data": {
            "text/html": [
              "<style>\n",
              "    table.wandb td:nth-child(1) { padding: 0 10px; text-align: right }\n",
              "    .wandb-row { display: flex; flex-direction: row; flex-wrap: wrap; width: 100% }\n",
              "    .wandb-col { display: flex; flex-direction: column; flex-basis: 100%; flex: 1; padding: 10px; }\n",
              "    </style>\n",
              "<div class=\"wandb-row\"><div class=\"wandb-col\">\n",
              "<h3>Run history:</h3><br/><table class=\"wandb\"><tr><td>Train Batch Acc :</td><td>▁▄▄▃▄▄▄▄▆▆▆▇▆▇▇▇▇▇▆▆▇▇▇▆▆▇▇▇▇▇█▆▇██▇███▇</td></tr><tr><td>Train Batch Loss  :</td><td>█▆▅▆▅▅▅▅▄▄▄▃▃▂▂▂▂▃▂▃▂▂▂▂▂▂▂▂▂▂▁▂▁▂▁▂▁▁▁▂</td></tr><tr><td>Train epoch Acc :</td><td>▁▄▅▆▇▇▇███</td></tr><tr><td>Train epoch Loss :</td><td>█▅▄▃▂▂▂▁▁▁</td></tr><tr><td>Valid Batch Accuracy :</td><td>▁▃▃▃▄▄▇▅▆▄█▃█▆▂</td></tr><tr><td>Valid Batch Loss  :</td><td>█▆▆▅▄▄▃▄▃▅▁▆▁▃█</td></tr><tr><td>Valid epoch Acc :</td><td>▁▄▅▆▇████▇</td></tr><tr><td>Valid epoch Loss :</td><td>█▅▄▂▂▁▁▁▁▂</td></tr></table><br/></div><div class=\"wandb-col\">\n",
              "<h3>Run summary:</h3><br/><table class=\"wandb\"><tr><td>Train Batch Acc :</td><td>0.90625</td></tr><tr><td>Train Batch Loss  :</td><td>0.25918</td></tr><tr><td>Train epoch Acc :</td><td>0.95792</td></tr><tr><td>Train epoch Loss :</td><td>0.12502</td></tr><tr><td>Valid Batch Accuracy :</td><td>0.75</td></tr><tr><td>Valid Batch Loss  :</td><td>1.02043</td></tr><tr><td>Valid epoch Acc :</td><td>0.8444</td></tr><tr><td>Valid epoch Loss :</td><td>0.54039</td></tr></table>\n",
              "</div></div>\n",
              "Synced 5 W&B file(s), 1 media file(s), 0 artifact file(s) and 0 other file(s)\n",
              "<br/>Synced <strong style=\"color:#cdcd00\">FullData-DropoutLastLayer+BatchSize(64)</strong>: <a href=\"https://wandb.ai/neetika/CNN_Experiment_Neetika/runs/nshq6hbh\" target=\"_blank\">https://wandb.ai/neetika/CNN_Experiment_Neetika/runs/nshq6hbh</a><br/>\n",
              "Find logs at: <code>./wandb/run-20211114_185224-nshq6hbh/logs</code><br/>\n"
            ],
            "text/plain": [
              "<IPython.core.display.HTML object>"
            ]
          },
          "metadata": {}
        },
        {
          "output_type": "display_data",
          "data": {
            "text/html": [
              "Successfully finished last run (ID:nshq6hbh). Initializing new run:<br/>"
            ],
            "text/plain": [
              "<IPython.core.display.HTML object>"
            ]
          },
          "metadata": {}
        },
        {
          "output_type": "display_data",
          "data": {
            "text/html": [
              "\n",
              "                    Syncing run <strong><a href=\"https://wandb.ai/neetika/CNN_Experiment_Neetika/runs/traobbcd\" target=\"_blank\">FullData-EarlStopping</a></strong> to <a href=\"https://wandb.ai/neetika/CNN_Experiment_Neetika\" target=\"_blank\">Weights & Biases</a> (<a href=\"https://docs.wandb.com/integrations/jupyter.html\" target=\"_blank\">docs</a>).<br/>\n",
              "\n",
              "                "
            ],
            "text/plain": [
              "<IPython.core.display.HTML object>"
            ]
          },
          "metadata": {}
        },
        {
          "output_type": "execute_result",
          "data": {
            "text/plain": [
              "<wandb.sdk.wandb_run.Run at 0x7f9f2a373890>"
            ],
            "text/html": [
              "<button onClick=\"this.nextSibling.style.display='block';this.style.display='none';\">Display W&B run</button><iframe src=\"https://wandb.ai/neetika/CNN_Experiment_Neetika/runs/traobbcd?jupyter=true\" style=\"border:none;width:100%;height:420px;display:none;\"></iframe>"
            ]
          },
          "metadata": {},
          "execution_count": 147
        }
      ]
    },
    {
      "cell_type": "code",
      "metadata": {
        "colab": {
          "base_uri": "https://localhost:8080/"
        },
        "id": "W54zp1Z3fTUi",
        "outputId": "c521719f-123e-4501-ab8a-9d0f03fcc465"
      },
      "source": [
        "wandb.config.device = device\n",
        "print(wandb.config.device )"
      ],
      "execution_count": 149,
      "outputs": [
        {
          "output_type": "stream",
          "name": "stdout",
          "text": [
            "cuda:0\n"
          ]
        }
      ]
    },
    {
      "cell_type": "markdown",
      "metadata": {
        "id": "3vsIGfw5fTUj"
      },
      "source": [
        "## Specify Dataloader, Loss_function, Model, Optimizer, Weight Initialization"
      ]
    },
    {
      "cell_type": "code",
      "metadata": {
        "id": "MOc8LvUVfTUj"
      },
      "source": [
        "# Fix seed value\n",
        "SEED = 2345\n",
        "random.seed(SEED)\n",
        "np.random.seed(SEED)\n",
        "torch.manual_seed(SEED)\n",
        "torch.cuda.manual_seed(SEED)\n",
        "torch.backends.cudnn.deterministic = True\n",
        "\n",
        "# Data Loader\n",
        "train_loader = torch.utils.data.DataLoader(trainset, batch_size=wandb.config.batch_size, shuffle = True)\n",
        "valid_loader = torch.utils.data.DataLoader(validset, batch_size=wandb.config.batch_size, shuffle = False)\n",
        "test_loader = torch.utils.data.DataLoader(testset, batch_size=wandb.config.batch_size,   shuffle = False)\n",
        "\n",
        "# cross entropy loss function\n",
        "loss_function = nn.CrossEntropyLoss()\n",
        "\n",
        "# device \n",
        "model = CIFAR10CNNX()\n",
        "\n",
        "def init_weights(m):\n",
        "  if type(m) == nn.Conv2d:\n",
        "        torch.nn.init.kaiming_normal_(m.weight)\n",
        "        torch.nn.init.zeros_(m.bias)\n",
        "\n",
        "        \n",
        "# apply initialization recursively  to all modules\n",
        "# model.apply(init_weights)\n",
        "\n",
        "wandb.config.init_weights = init_weights\n",
        "\n",
        "# put model to GPUs\n",
        "model.to(wandb.config.device)\n",
        "\n",
        "# Intialize stochiastic gradient descent optimizer\n",
        "optimizer = torch.optim.SGD(model.parameters(), lr = wandb.config.learning_rate, weight_decay=wandb.config.weight_decay, momentum = 0.9)\n",
        "# optimizer = torch.optim.Adam(model.parameters(), lr = wandb.config.learning_rate, weight_decay=wandb.config.weight_decay)\n",
        "# optimizer = torch.optim.RMSprop(model.parameters(), lr=wandb.config.learning_rate,weight_decay=wandb.config.weight_decay, momentum=0.9)\n",
        "\n",
        "wandb.config.optimizer = optimizer\n",
        "\n",
        "# scheduler = ReduceLROnPlateau(optimizer, mode='min', factor= wandb.config.scheduler_factor, \n",
        "                              # patience=wandb.config.scheduler_patience, verbose=True)\n",
        "\n",
        "scheduler = torch.optim.lr_scheduler.OneCycleLR(optimizer, max_lr=0.1, total_steps=len(train_loader) * 10 , epochs=10, three_phase=True)\n",
        "\n",
        "# scheduler = StepLR(optimizer, gamma=0.4,step_size=1, verbose=True)"
      ],
      "execution_count": 153,
      "outputs": []
    },
    {
      "cell_type": "markdown",
      "metadata": {
        "id": "lhxCdmKgfTUk"
      },
      "source": [
        "## Training and Saving Model - 84% Accuracy"
      ]
    },
    {
      "cell_type": "code",
      "metadata": {
        "colab": {
          "base_uri": "https://localhost:8080/"
        },
        "id": "fx4b25ElfTUk",
        "outputId": "8d7556a4-66e6-411b-d4f4-03d5d3b4d200"
      },
      "source": [
        "wandb.watch(model, log = 'all', log_freq=25, log_graph=True)\n"
      ],
      "execution_count": 154,
      "outputs": [
        {
          "output_type": "stream",
          "name": "stderr",
          "text": [
            "\u001b[34m\u001b[1mwandb\u001b[0m: logging graph, to disable use `wandb.watch(log_graph=False)`\n"
          ]
        },
        {
          "output_type": "execute_result",
          "data": {
            "text/plain": [
              "[<wandb.wandb_torch.TorchGraph at 0x7f9f29b56790>]"
            ]
          },
          "metadata": {},
          "execution_count": 154
        }
      ]
    },
    {
      "cell_type": "code",
      "metadata": {
        "colab": {
          "base_uri": "https://localhost:8080/"
        },
        "id": "9foP4NuefTUk",
        "outputId": "9a4c99f4-7a90-4a0b-b392-9aebf7a92fa2"
      },
      "source": [
        "example_ct_train, batch_ct_train, example_ct_valid, batch_ct_valid = 0, 0, 0, 0\n",
        "train_loss_history, train_acc_history, valid_loss_history, valid_acc_history = train_loop(train_loader, valid_loader, model, loss_function, optimizer, \n",
        "                                                                                          wandb.config.epochs, wandb.config.device,\n",
        "                                                                                          wandb.config.patience, wandb.config.early_stopping,\n",
        "                                                                                          wandb.config.file_model)"
      ],
      "execution_count": 145,
      "outputs": [
        {
          "output_type": "stream",
          "name": "stdout",
          "text": [
            "Validation loss has decreased (inf --> 0.908103). Saving Model...\n",
            "Epoch : 1 / 10\n",
            "Time to complete 1 is 0:03:52.850086\n",
            "Train Loss:  1.2315 | Train Accuracy:  55.3900%\n",
            "Valid Loss:  0.9081 | Valid Accuracy:  68.5400%\n",
            "\n",
            "Validation loss has decreased (0.908103 --> 0.734171). Saving model...\n",
            "Epoch : 2 / 10\n",
            "Time to complete 2 is 0:03:53.064433\n",
            "Train Loss:  0.7511 | Train Accuracy:  73.6775%\n",
            "Valid Loss:  0.7342 | Valid Accuracy:  74.9300%\n",
            "\n",
            "Validation loss has decreased (0.734171 --> 0.631712). Saving model...\n",
            "Epoch : 3 / 10\n",
            "Time to complete 3 is 0:03:52.928536\n",
            "Train Loss:  0.5633 | Train Accuracy:  80.4925%\n",
            "Valid Loss:  0.6317 | Valid Accuracy:  77.7900%\n",
            "\n",
            "Validation loss has decreased (0.631712 --> 0.551762). Saving model...\n",
            "Epoch : 4 / 10\n",
            "Time to complete 4 is 0:03:54.850750\n",
            "Train Loss:  0.4493 | Train Accuracy:  84.3725%\n",
            "Valid Loss:  0.5518 | Valid Accuracy:  81.5400%\n",
            "\n",
            "Validation loss has decreased (0.551762 --> 0.491793). Saving model...\n",
            "Epoch : 5 / 10\n",
            "Time to complete 5 is 0:03:52.109164\n",
            "Train Loss:  0.3578 | Train Accuracy:  87.7875%\n",
            "Valid Loss:  0.4918 | Valid Accuracy:  84.2200%\n",
            "\n",
            "Validation loss has decreased (0.491793 --> 0.460444). Saving model...\n",
            "Epoch : 6 / 10\n",
            "Time to complete 6 is 0:03:52.198940\n",
            "Train Loss:  0.2845 | Train Accuracy:  90.1725%\n",
            "Valid Loss:  0.4604 | Valid Accuracy:  85.3100%\n",
            "\n",
            "Validation loss has decreased (0.460444 --> 0.459385). Saving model...\n",
            "Epoch : 7 / 10\n",
            "Time to complete 7 is 0:03:52.741157\n",
            "Train Loss:  0.2207 | Train Accuracy:  92.4525%\n",
            "Valid Loss:  0.4594 | Valid Accuracy:  85.2200%\n",
            "\n",
            "Validation loss has not decreased (0.459385 --> 0.477618). Not Saving Model...\n",
            "Epoch : 8 / 10\n",
            "Time to complete 8 is 0:03:55.277196\n",
            "Train Loss:  0.1760 | Train Accuracy:  93.9300%\n",
            "Valid Loss:  0.4776 | Valid Accuracy:  85.6800%\n",
            "\n",
            "Validation loss has not decreased (0.459385 --> 0.486003). Not Saving Model...\n",
            "Epoch : 9 / 10\n",
            "Time to complete 9 is 0:03:52.622895\n",
            "Train Loss:  0.1425 | Train Accuracy:  95.1525%\n",
            "Valid Loss:  0.4860 | Valid Accuracy:  86.0000%\n",
            "\n",
            "Validation loss has not decreased (0.459385 --> 0.540386). Not Saving Model...\n",
            "Epoch : 10 / 10\n",
            "Time to complete 10 is 0:03:52.817334\n",
            "Train Loss:  0.1250 | Train Accuracy:  95.7925%\n",
            "Valid Loss:  0.5404 | Valid Accuracy:  84.4400%\n",
            "\n"
          ]
        }
      ]
    },
    {
      "cell_type": "markdown",
      "metadata": {
        "id": "gweYMKS98N6b"
      },
      "source": [
        "#**Training and Saving Model - 85%**\n",
        "\n"
      ]
    },
    {
      "cell_type": "code",
      "metadata": {
        "colab": {
          "base_uri": "https://localhost:8080/"
        },
        "id": "IpoKWs0Wagbq",
        "outputId": "894b657f-1562-4714-8bf2-3002fb19fe5d"
      },
      "source": [
        "example_ct_train, batch_ct_train, example_ct_valid, batch_ct_valid = 0, 0, 0, 0\n",
        "train_loss_history, train_acc_history, valid_loss_history, valid_acc_history = train_loop(train_loader, valid_loader, model, loss_function, optimizer, \n",
        "                                                                                          wandb.config.epochs, wandb.config.device,\n",
        "                                                                                          wandb.config.patience, wandb.config.early_stopping,\n",
        "                                                                                          wandb.config.file_model)"
      ],
      "execution_count": 155,
      "outputs": [
        {
          "output_type": "stream",
          "name": "stdout",
          "text": [
            "Validation loss has decreased (inf --> 0.908103). Saving Model...\n",
            "Epoch : 1 / 10\n",
            "Time to complete 1 is 0:03:52.130130\n",
            "Train Loss:  1.2315 | Train Accuracy:  55.3900%\n",
            "Valid Loss:  0.9081 | Valid Accuracy:  68.5400%\n",
            "\n",
            "Validation loss has decreased (0.908103 --> 0.734171). Saving model...\n",
            "Epoch : 2 / 10\n",
            "Time to complete 2 is 0:03:55.851265\n",
            "Train Loss:  0.7511 | Train Accuracy:  73.6775%\n",
            "Valid Loss:  0.7342 | Valid Accuracy:  74.9300%\n",
            "\n",
            "Validation loss has decreased (0.734171 --> 0.631712). Saving model...\n",
            "Epoch : 3 / 10\n",
            "Time to complete 3 is 0:03:52.492906\n",
            "Train Loss:  0.5633 | Train Accuracy:  80.4925%\n",
            "Valid Loss:  0.6317 | Valid Accuracy:  77.7900%\n",
            "\n",
            "Validation loss has decreased (0.631712 --> 0.551762). Saving model...\n",
            "Epoch : 4 / 10\n",
            "Time to complete 4 is 0:03:55.306486\n",
            "Train Loss:  0.4493 | Train Accuracy:  84.3725%\n",
            "Valid Loss:  0.5518 | Valid Accuracy:  81.5400%\n",
            "\n",
            "Validation loss has decreased (0.551762 --> 0.491793). Saving model...\n",
            "Epoch : 5 / 10\n",
            "Time to complete 5 is 0:03:52.908584\n",
            "Train Loss:  0.3578 | Train Accuracy:  87.7875%\n",
            "Valid Loss:  0.4918 | Valid Accuracy:  84.2200%\n",
            "\n",
            "Validation loss has decreased (0.491793 --> 0.460444). Saving model...\n",
            "Epoch : 6 / 10\n",
            "Time to complete 6 is 0:03:53.183138\n",
            "Train Loss:  0.2845 | Train Accuracy:  90.1725%\n",
            "Valid Loss:  0.4604 | Valid Accuracy:  85.3100%\n",
            "\n",
            "Validation loss has decreased (0.460444 --> 0.459385). Saving model...\n",
            "Epoch : 7 / 10\n",
            "Time to complete 7 is 0:03:53.278520\n",
            "Train Loss:  0.2207 | Train Accuracy:  92.4525%\n",
            "Valid Loss:  0.4594 | Valid Accuracy:  85.2200%\n",
            "\n",
            "Early stoping counter: 1 out of 0\n",
            "Early Stopping\n"
          ]
        }
      ]
    }
  ]
}